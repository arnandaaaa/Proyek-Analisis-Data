{
  "cells": [
    {
      "cell_type": "markdown",
      "metadata": {
        "id": "H9wADwK78DCz"
      },
      "source": [
        "# Proyek Analisis Data: E-Commerce Public\n",
        "- **Nama:** Muh Arnesta Arnanda\n",
        "- **Email:** 278ybf293@devacademy.id\n",
        "- **ID Dicoding:** arnanda04"
      ]
    },
    {
      "cell_type": "markdown",
      "metadata": {
        "id": "H-z4QGlO8DC1"
      },
      "source": [
        "## Import Semua Packages/Library yang Digunakan"
      ]
    },
    {
      "cell_type": "code",
      "execution_count": null,
      "metadata": {
        "id": "FVYwaObI8DC1"
      },
      "outputs": [],
      "source": [
        "import pandas as pd\n",
        "import numpy as np\n",
        "import seaborn as sns\n",
        "import matplotlib.pyplot as plt\n",
        "import seaborn as sns\n"
      ]
    },
    {
      "cell_type": "markdown",
      "metadata": {
        "id": "eE0raob58DC0"
      },
      "source": [
        "## Menentukan Pertanyaan Bisnis"
      ]
    },
    {
      "cell_type": "markdown",
      "metadata": {
        "id": "GmQeQ5YF8DC0"
      },
      "source": [
        "- Kategori Product apa yang paling laku?\n",
        "- Seberapa sering pelanggan melakukan pembelian dalam setiap bulan?\n",
        "- Berapa banyak uang yang dihabiskan pelanggan di tiap bulan?\n",
        "- State dan Kota mana yang memiliki pesanan yang paling banyak ?"
      ]
    },
    {
      "cell_type": "markdown",
      "metadata": {
        "id": "h_Sh51Xy8DC1"
      },
      "source": [
        "## Data Wrangling"
      ]
    },
    {
      "cell_type": "markdown",
      "metadata": {
        "id": "sXU2GBYu8DC1"
      },
      "source": [
        "### Gathering Data"
      ]
    },
    {
      "cell_type": "code",
      "source": [
        "customers_df = pd.read_csv(\"https://raw.githubusercontent.com/arnandaaaa/Proyek-Analisis-Data/refs/heads/main/data/customers_dataset.csv\")\n",
        "geolocation_df = pd.read_csv(\"https://raw.githubusercontent.com/arnandaaaa/Proyek-Analisis-Data/refs/heads/main/data/geolocation_dataset.csv\")\n",
        "items_df = pd.read_csv(\"https://raw.githubusercontent.com/arnandaaaa/Proyek-Analisis-Data/refs/heads/main/data/order_items_dataset.csv\")\n",
        "payments_df = pd.read_csv(\"https://raw.githubusercontent.com/arnandaaaa/Proyek-Analisis-Data/refs/heads/main/data/order_payments_dataset.csv\")\n",
        "reviews_df = pd.read_csv(\"https://raw.githubusercontent.com/arnandaaaa/Proyek-Analisis-Data/refs/heads/main/data/order_reviews_dataset.csv\")\n",
        "orders_df = pd.read_csv(\"https://raw.githubusercontent.com/arnandaaaa/Proyek-Analisis-Data/refs/heads/main/data/orders_dataset.csv\")\n",
        "products_df = pd.read_csv(\"https://raw.githubusercontent.com/arnandaaaa/Proyek-Analisis-Data/refs/heads/main/data/products_dataset.csv\")\n",
        "product_category_name_translation_df = pd.read_csv(\"https://raw.githubusercontent.com/arnandaaaa/Proyek-Analisis-Data/refs/heads/main/data/product_category_name_translation.csv\")\n",
        "sellers_df = pd.read_csv(\"https://raw.githubusercontent.com/arnandaaaa/Proyek-Analisis-Data/refs/heads/main/data/sellers_dataset.csv\")"
      ],
      "metadata": {
        "id": "vgGOic3LKUyX"
      },
      "execution_count": null,
      "outputs": []
    },
    {
      "cell_type": "code",
      "source": [
        "print(customers_df.head())"
      ],
      "metadata": {
        "colab": {
          "base_uri": "https://localhost:8080/"
        },
        "id": "DmcmMTHNLiHC",
        "outputId": "cd55c87d-dfaa-4003-dd55-a16f09ec7f4a"
      },
      "execution_count": null,
      "outputs": [
        {
          "output_type": "stream",
          "name": "stdout",
          "text": [
            "                        customer_id                customer_unique_id  \\\n",
            "0  06b8999e2fba1a1fbc88172c00ba8bc7  861eff4711a542e4b93843c6dd7febb0   \n",
            "1  18955e83d337fd6b2def6b18a428ac77  290c77bc529b7ac935b93aa66c333dc3   \n",
            "2  4e7b3e00288586ebd08712fdd0374a03  060e732b5b29e8181a18229c7b0b2b5e   \n",
            "3  b2b6027bc5c5109e529d4dc6358b12c3  259dac757896d24d7702b9acbbff3f3c   \n",
            "4  4f2d8ab171c80ec8364f7c12e35b23ad  345ecd01c38d18a9036ed96c73b8d066   \n",
            "\n",
            "   customer_zip_code_prefix          customer_city customer_state  \n",
            "0                     14409                 franca             SP  \n",
            "1                      9790  sao bernardo do campo             SP  \n",
            "2                      1151              sao paulo             SP  \n",
            "3                      8775        mogi das cruzes             SP  \n",
            "4                     13056               campinas             SP  \n"
          ]
        }
      ]
    },
    {
      "cell_type": "code",
      "source": [
        "print(geolocation_df.head())"
      ],
      "metadata": {
        "colab": {
          "base_uri": "https://localhost:8080/"
        },
        "id": "f5wsAH_KLsTe",
        "outputId": "15f3d0ff-0e0b-4542-b258-e004a324bf8f"
      },
      "execution_count": null,
      "outputs": [
        {
          "output_type": "stream",
          "name": "stdout",
          "text": [
            "   geolocation_zip_code_prefix  geolocation_lat  geolocation_lng  \\\n",
            "0                         1037       -23.545621       -46.639292   \n",
            "1                         1046       -23.546081       -46.644820   \n",
            "2                         1046       -23.546129       -46.642951   \n",
            "3                         1041       -23.544392       -46.639499   \n",
            "4                         1035       -23.541578       -46.641607   \n",
            "\n",
            "  geolocation_city geolocation_state  \n",
            "0        sao paulo                SP  \n",
            "1        sao paulo                SP  \n",
            "2        sao paulo                SP  \n",
            "3        sao paulo                SP  \n",
            "4        sao paulo                SP  \n"
          ]
        }
      ]
    },
    {
      "cell_type": "code",
      "source": [
        "print(items_df.head())"
      ],
      "metadata": {
        "colab": {
          "base_uri": "https://localhost:8080/"
        },
        "id": "J0cOg_fJMJS0",
        "outputId": "5799df9c-fa94-4757-be46-4cc2bfcbc7b5"
      },
      "execution_count": null,
      "outputs": [
        {
          "output_type": "stream",
          "name": "stdout",
          "text": [
            "                           order_id  order_item_id  \\\n",
            "0  00010242fe8c5a6d1ba2dd792cb16214              1   \n",
            "1  00018f77f2f0320c557190d7a144bdd3              1   \n",
            "2  000229ec398224ef6ca0657da4fc703e              1   \n",
            "3  00024acbcdf0a6daa1e931b038114c75              1   \n",
            "4  00042b26cf59d7ce69dfabb4e55b4fd9              1   \n",
            "\n",
            "                         product_id                         seller_id  \\\n",
            "0  4244733e06e7ecb4970a6e2683c13e61  48436dade18ac8b2bce089ec2a041202   \n",
            "1  e5f2d52b802189ee658865ca93d83a8f  dd7ddc04e1b6c2c614352b383efe2d36   \n",
            "2  c777355d18b72b67abbeef9df44fd0fd  5b51032eddd242adc84c38acab88f23d   \n",
            "3  7634da152a4610f1595efa32f14722fc  9d7a1d34a5052409006425275ba1c2b4   \n",
            "4  ac6c3623068f30de03045865e4e10089  df560393f3a51e74553ab94004ba5c87   \n",
            "\n",
            "   shipping_limit_date   price  freight_value  \n",
            "0  2017-09-19 09:45:35   58.90          13.29  \n",
            "1  2017-05-03 11:05:13  239.90          19.93  \n",
            "2  2018-01-18 14:48:30  199.00          17.87  \n",
            "3  2018-08-15 10:10:18   12.99          12.79  \n",
            "4  2017-02-13 13:57:51  199.90          18.14  \n"
          ]
        }
      ]
    },
    {
      "cell_type": "code",
      "source": [
        "print(payments_df.head())"
      ],
      "metadata": {
        "colab": {
          "base_uri": "https://localhost:8080/"
        },
        "id": "HlH9_9XEMNZP",
        "outputId": "f127fd88-71a2-43f0-c964-1b3148cacfee"
      },
      "execution_count": null,
      "outputs": [
        {
          "output_type": "stream",
          "name": "stdout",
          "text": [
            "                           order_id  payment_sequential payment_type  \\\n",
            "0  b81ef226f3fe1789b1e8b2acac839d17                   1  credit_card   \n",
            "1  a9810da82917af2d9aefd1278f1dcfa0                   1  credit_card   \n",
            "2  25e8ea4e93396b6fa0d3dd708e76c1bd                   1  credit_card   \n",
            "3  ba78997921bbcdc1373bb41e913ab953                   1  credit_card   \n",
            "4  42fdf880ba16b47b59251dd489d4441a                   1  credit_card   \n",
            "\n",
            "   payment_installments  payment_value  \n",
            "0                     8          99.33  \n",
            "1                     1          24.39  \n",
            "2                     1          65.71  \n",
            "3                     8         107.78  \n",
            "4                     2         128.45  \n"
          ]
        }
      ]
    },
    {
      "cell_type": "code",
      "source": [
        "print(reviews_df.head())"
      ],
      "metadata": {
        "colab": {
          "base_uri": "https://localhost:8080/"
        },
        "id": "cD4Z1tjLMOiD",
        "outputId": "8b8d45ee-7e5c-47a6-d037-50b5dfff0235"
      },
      "execution_count": null,
      "outputs": [
        {
          "output_type": "stream",
          "name": "stdout",
          "text": [
            "                          review_id                          order_id  \\\n",
            "0  7bc2406110b926393aa56f80a40eba40  73fc7af87114b39712e6da79b0a377eb   \n",
            "1  80e641a11e56f04c1ad469d5645fdfde  a548910a1c6147796b98fdf73dbeba33   \n",
            "2  228ce5500dc1d8e020d8d1322874b6f0  f9e4b658b201a9f2ecdecbb34bed034b   \n",
            "3  e64fb393e7b32834bb789ff8bb30750e  658677c97b385a9be170737859d3511b   \n",
            "4  f7c4243c7fe1938f181bec41a392bdeb  8e6bfb81e283fa7e4f11123a3fb894f1   \n",
            "\n",
            "   review_score review_comment_title  \\\n",
            "0             4                  NaN   \n",
            "1             5                  NaN   \n",
            "2             5                  NaN   \n",
            "3             5                  NaN   \n",
            "4             5                  NaN   \n",
            "\n",
            "                              review_comment_message review_creation_date  \\\n",
            "0                                                NaN  2018-01-18 00:00:00   \n",
            "1                                                NaN  2018-03-10 00:00:00   \n",
            "2                                                NaN  2018-02-17 00:00:00   \n",
            "3              Recebi bem antes do prazo estipulado.  2017-04-21 00:00:00   \n",
            "4  Parabéns lojas lannister adorei comprar pela I...  2018-03-01 00:00:00   \n",
            "\n",
            "  review_answer_timestamp  \n",
            "0     2018-01-18 21:46:59  \n",
            "1     2018-03-11 03:05:13  \n",
            "2     2018-02-18 14:36:24  \n",
            "3     2017-04-21 22:02:06  \n",
            "4     2018-03-02 10:26:53  \n"
          ]
        }
      ]
    },
    {
      "cell_type": "code",
      "source": [
        "print(orders_df.head())"
      ],
      "metadata": {
        "colab": {
          "base_uri": "https://localhost:8080/"
        },
        "id": "TJ20WvZ5MQUc",
        "outputId": "c3fa7cf9-b582-4a09-f222-2abf7e98cc8d"
      },
      "execution_count": null,
      "outputs": [
        {
          "output_type": "stream",
          "name": "stdout",
          "text": [
            "                           order_id                       customer_id  \\\n",
            "0  e481f51cbdc54678b7cc49136f2d6af7  9ef432eb6251297304e76186b10a928d   \n",
            "1  53cdb2fc8bc7dce0b6741e2150273451  b0830fb4747a6c6d20dea0b8c802d7ef   \n",
            "2  47770eb9100c2d0c44946d9cf07ec65d  41ce2a54c0b03bf3443c3d931a367089   \n",
            "3  949d5b44dbf5de918fe9c16f97b45f8a  f88197465ea7920adcdbec7375364d82   \n",
            "4  ad21c59c0840e6cb83a9ceb5573f8159  8ab97904e6daea8866dbdbc4fb7aad2c   \n",
            "\n",
            "  order_status order_purchase_timestamp    order_approved_at  \\\n",
            "0    delivered      2017-10-02 10:56:33  2017-10-02 11:07:15   \n",
            "1    delivered      2018-07-24 20:41:37  2018-07-26 03:24:27   \n",
            "2    delivered      2018-08-08 08:38:49  2018-08-08 08:55:23   \n",
            "3    delivered      2017-11-18 19:28:06  2017-11-18 19:45:59   \n",
            "4    delivered      2018-02-13 21:18:39  2018-02-13 22:20:29   \n",
            "\n",
            "  order_delivered_carrier_date order_delivered_customer_date  \\\n",
            "0          2017-10-04 19:55:00           2017-10-10 21:25:13   \n",
            "1          2018-07-26 14:31:00           2018-08-07 15:27:45   \n",
            "2          2018-08-08 13:50:00           2018-08-17 18:06:29   \n",
            "3          2017-11-22 13:39:59           2017-12-02 00:28:42   \n",
            "4          2018-02-14 19:46:34           2018-02-16 18:17:02   \n",
            "\n",
            "  order_estimated_delivery_date  \n",
            "0           2017-10-18 00:00:00  \n",
            "1           2018-08-13 00:00:00  \n",
            "2           2018-09-04 00:00:00  \n",
            "3           2017-12-15 00:00:00  \n",
            "4           2018-02-26 00:00:00  \n"
          ]
        }
      ]
    },
    {
      "cell_type": "code",
      "source": [
        "print(products_df.head())"
      ],
      "metadata": {
        "colab": {
          "base_uri": "https://localhost:8080/"
        },
        "id": "5lT8hGnQMQzS",
        "outputId": "21efd43b-f13d-4e34-e2b0-76026361eee4"
      },
      "execution_count": null,
      "outputs": [
        {
          "output_type": "stream",
          "name": "stdout",
          "text": [
            "                         product_id  product_category_name  \\\n",
            "0  1e9e8ef04dbcff4541ed26657ea517e5             perfumaria   \n",
            "1  3aa071139cb16b67ca9e5dea641aaa2f                  artes   \n",
            "2  96bd76ec8810374ed1b65e291975717f          esporte_lazer   \n",
            "3  cef67bcfe19066a932b7673e239eb23d                  bebes   \n",
            "4  9dc1a7de274444849c219cff195d0b71  utilidades_domesticas   \n",
            "\n",
            "   product_name_lenght  product_description_lenght  product_photos_qty  \\\n",
            "0                 40.0                       287.0                 1.0   \n",
            "1                 44.0                       276.0                 1.0   \n",
            "2                 46.0                       250.0                 1.0   \n",
            "3                 27.0                       261.0                 1.0   \n",
            "4                 37.0                       402.0                 4.0   \n",
            "\n",
            "   product_weight_g  product_length_cm  product_height_cm  product_width_cm  \n",
            "0             225.0               16.0               10.0              14.0  \n",
            "1            1000.0               30.0               18.0              20.0  \n",
            "2             154.0               18.0                9.0              15.0  \n",
            "3             371.0               26.0                4.0              26.0  \n",
            "4             625.0               20.0               17.0              13.0  \n"
          ]
        }
      ]
    },
    {
      "cell_type": "code",
      "source": [
        "print(product_category_name_translation_df.head())"
      ],
      "metadata": {
        "colab": {
          "base_uri": "https://localhost:8080/"
        },
        "id": "VaeE9k7yM0nN",
        "outputId": "cba6b07b-4ece-40a4-d5e4-d5c20077fc85"
      },
      "execution_count": null,
      "outputs": [
        {
          "output_type": "stream",
          "name": "stdout",
          "text": [
            "    product_category_name product_category_name_english\n",
            "0            beleza_saude                 health_beauty\n",
            "1  informatica_acessorios         computers_accessories\n",
            "2              automotivo                          auto\n",
            "3         cama_mesa_banho                bed_bath_table\n",
            "4        moveis_decoracao               furniture_decor\n"
          ]
        }
      ]
    },
    {
      "cell_type": "code",
      "source": [
        "print(sellers_df.head())"
      ],
      "metadata": {
        "colab": {
          "base_uri": "https://localhost:8080/"
        },
        "id": "WCgJSmH8MRpX",
        "outputId": "b1746f8a-7f1d-4692-ac4a-86fe3de79d84"
      },
      "execution_count": null,
      "outputs": [
        {
          "output_type": "stream",
          "name": "stdout",
          "text": [
            "                          seller_id  seller_zip_code_prefix  \\\n",
            "0  3442f8959a84dea7ee197c632cb2df15                   13023   \n",
            "1  d1b65fc7debc3361ea86b5f14c68d2e2                   13844   \n",
            "2  ce3ad9de960102d0677a81f5d0bb7b2d                   20031   \n",
            "3  c0f3eea2e14555b6faeea3dd58c1b1c3                    4195   \n",
            "4  51a04a8a6bdcb23deccc82b0b80742cf                   12914   \n",
            "\n",
            "         seller_city seller_state  \n",
            "0           campinas           SP  \n",
            "1         mogi guacu           SP  \n",
            "2     rio de janeiro           RJ  \n",
            "3          sao paulo           SP  \n",
            "4  braganca paulista           SP  \n"
          ]
        }
      ]
    },
    {
      "cell_type": "markdown",
      "metadata": {
        "id": "FHSiqaZp8DC1"
      },
      "source": [
        "### Assessing Data"
      ]
    },
    {
      "cell_type": "markdown",
      "source": [
        "Mmebuat Fungsi assessing_dataframe untuk mempermudah codingan yang isinya dapat melihat <br>\n",
        "\n",
        "*   Informasi Dataframe\n",
        "*   Missing Values\n",
        "*   Jumlah Duplikat\n",
        "*   Deskripsi Statistik"
      ],
      "metadata": {
        "id": "Q7neGmjnSCOP"
      }
    },
    {
      "cell_type": "code",
      "source": [
        "def assessing_dataframe(df,nama):\n",
        "    print(f\"Assessing {nama} DataFrame:\")\n",
        "    print(\"\\nInfo:\")\n",
        "    print(df.info())\n",
        "    print(\"\\n\" + \"=\"*100 + \"\\n\")  # Pembatas untuk pemisah\n",
        "    print(\"Missing Values:\")\n",
        "    print(df.isna().sum())\n",
        "    print(\"\\n\" + \"=\"*100 + \"\\n\")  # Pembatas untuk pemisah\n",
        "    print(\"Jumlah Duplikasi:\")\n",
        "    print(\"Jumlah duplikasi: \", df.duplicated().sum())\n",
        "    print(\"\\n\" + \"=\"*100 + \"\\n\")  # Pembatas untuk pemisah\n",
        "    print(\"Descriptive Statistics:\")\n",
        "    print(df.describe())"
      ],
      "metadata": {
        "id": "Q4SzsFANOcd8"
      },
      "execution_count": null,
      "outputs": []
    },
    {
      "cell_type": "markdown",
      "source": [
        "#### Menilai tabel customers_df"
      ],
      "metadata": {
        "id": "CI5cUKgqNTWZ"
      }
    },
    {
      "cell_type": "code",
      "source": [
        "assessing_dataframe(customers_df,\"Customers\")"
      ],
      "metadata": {
        "colab": {
          "base_uri": "https://localhost:8080/"
        },
        "id": "-DmRs5e_OeSt",
        "outputId": "7d831b1b-f7f6-4315-d523-6be6c3cc7017"
      },
      "execution_count": null,
      "outputs": [
        {
          "output_type": "stream",
          "name": "stdout",
          "text": [
            "Assessing Customers DataFrame:\n",
            "\n",
            "Info:\n",
            "<class 'pandas.core.frame.DataFrame'>\n",
            "RangeIndex: 99441 entries, 0 to 99440\n",
            "Data columns (total 5 columns):\n",
            " #   Column                    Non-Null Count  Dtype \n",
            "---  ------                    --------------  ----- \n",
            " 0   customer_id               99441 non-null  object\n",
            " 1   customer_unique_id        99441 non-null  object\n",
            " 2   customer_zip_code_prefix  99441 non-null  int64 \n",
            " 3   customer_city             99441 non-null  object\n",
            " 4   customer_state            99441 non-null  object\n",
            "dtypes: int64(1), object(4)\n",
            "memory usage: 3.8+ MB\n",
            "None\n",
            "\n",
            "====================================================================================================\n",
            "\n",
            "Missing Values:\n",
            "customer_id                 0\n",
            "customer_unique_id          0\n",
            "customer_zip_code_prefix    0\n",
            "customer_city               0\n",
            "customer_state              0\n",
            "dtype: int64\n",
            "\n",
            "====================================================================================================\n",
            "\n",
            "Jumlah Duplikasi:\n",
            "Jumlah duplikasi:  0\n",
            "\n",
            "====================================================================================================\n",
            "\n",
            "Descriptive Statistics:\n",
            "       customer_zip_code_prefix\n",
            "count              99441.000000\n",
            "mean               35137.474583\n",
            "std                29797.938996\n",
            "min                 1003.000000\n",
            "25%                11347.000000\n",
            "50%                24416.000000\n",
            "75%                58900.000000\n",
            "max                99990.000000\n"
          ]
        }
      ]
    },
    {
      "cell_type": "markdown",
      "source": [
        "**Insight:**<br>\n",
        "Pada tabel customers_df tidak ada yang perlu diubah karena dari tipe data, missing values, dan jumlah duplikasi tidak ada kekurangannya"
      ],
      "metadata": {
        "id": "7dtxhAPrkhPL"
      }
    },
    {
      "cell_type": "markdown",
      "source": [
        "#### Menilai tabel geolocation_df"
      ],
      "metadata": {
        "id": "wyH0xTapRB25"
      }
    },
    {
      "cell_type": "code",
      "source": [
        "assessing_dataframe(geolocation_df,\"Geolocation\")"
      ],
      "metadata": {
        "id": "ax-3tEjc9Cj1",
        "colab": {
          "base_uri": "https://localhost:8080/"
        },
        "outputId": "9b983c94-b425-438f-e1a8-9c0ea83d2775"
      },
      "execution_count": null,
      "outputs": [
        {
          "output_type": "stream",
          "name": "stdout",
          "text": [
            "Assessing Geolocation DataFrame:\n",
            "\n",
            "Info:\n",
            "<class 'pandas.core.frame.DataFrame'>\n",
            "RangeIndex: 1000163 entries, 0 to 1000162\n",
            "Data columns (total 5 columns):\n",
            " #   Column                       Non-Null Count    Dtype  \n",
            "---  ------                       --------------    -----  \n",
            " 0   geolocation_zip_code_prefix  1000163 non-null  int64  \n",
            " 1   geolocation_lat              1000163 non-null  float64\n",
            " 2   geolocation_lng              1000163 non-null  float64\n",
            " 3   geolocation_city             1000163 non-null  object \n",
            " 4   geolocation_state            1000163 non-null  object \n",
            "dtypes: float64(2), int64(1), object(2)\n",
            "memory usage: 38.2+ MB\n",
            "None\n",
            "\n",
            "====================================================================================================\n",
            "\n",
            "Missing Values:\n",
            "geolocation_zip_code_prefix    0\n",
            "geolocation_lat                0\n",
            "geolocation_lng                0\n",
            "geolocation_city               0\n",
            "geolocation_state              0\n",
            "dtype: int64\n",
            "\n",
            "====================================================================================================\n",
            "\n",
            "Jumlah Duplikasi:\n",
            "Jumlah duplikasi:  261831\n",
            "\n",
            "====================================================================================================\n",
            "\n",
            "Descriptive Statistics:\n",
            "       geolocation_zip_code_prefix  geolocation_lat  geolocation_lng\n",
            "count                 1.000163e+06     1.000163e+06     1.000163e+06\n",
            "mean                  3.657417e+04    -2.117615e+01    -4.639054e+01\n",
            "std                   3.054934e+04     5.715866e+00     4.269748e+00\n",
            "min                   1.001000e+03    -3.660537e+01    -1.014668e+02\n",
            "25%                   1.107500e+04    -2.360355e+01    -4.857317e+01\n",
            "50%                   2.653000e+04    -2.291938e+01    -4.663788e+01\n",
            "75%                   6.350400e+04    -1.997962e+01    -4.376771e+01\n",
            "max                   9.999000e+04     4.506593e+01     1.211054e+02\n"
          ]
        }
      ]
    },
    {
      "cell_type": "markdown",
      "source": [
        "**Insight:**<br>\n",
        "Pada tabel geolocation_df terdapat duplikasi data sebanyak **261831** baris yang perlu dihapus"
      ],
      "metadata": {
        "id": "ovdpehNOV8q-"
      }
    },
    {
      "cell_type": "markdown",
      "source": [
        "#### Menilai tabel items_df"
      ],
      "metadata": {
        "id": "NSyXiP1IRJJh"
      }
    },
    {
      "cell_type": "code",
      "source": [
        "assessing_dataframe(items_df, \"Items\")"
      ],
      "metadata": {
        "colab": {
          "base_uri": "https://localhost:8080/"
        },
        "id": "VS4B0gRuQbWZ",
        "outputId": "7079cb24-a880-4287-923a-bb0cf9a6c808"
      },
      "execution_count": null,
      "outputs": [
        {
          "output_type": "stream",
          "name": "stdout",
          "text": [
            "Assessing Items DataFrame:\n",
            "\n",
            "Info:\n",
            "<class 'pandas.core.frame.DataFrame'>\n",
            "RangeIndex: 112650 entries, 0 to 112649\n",
            "Data columns (total 7 columns):\n",
            " #   Column               Non-Null Count   Dtype  \n",
            "---  ------               --------------   -----  \n",
            " 0   order_id             112650 non-null  object \n",
            " 1   order_item_id        112650 non-null  int64  \n",
            " 2   product_id           112650 non-null  object \n",
            " 3   seller_id            112650 non-null  object \n",
            " 4   shipping_limit_date  112650 non-null  object \n",
            " 5   price                112650 non-null  float64\n",
            " 6   freight_value        112650 non-null  float64\n",
            "dtypes: float64(2), int64(1), object(4)\n",
            "memory usage: 6.0+ MB\n",
            "None\n",
            "\n",
            "====================================================================================================\n",
            "\n",
            "Missing Values:\n",
            "order_id               0\n",
            "order_item_id          0\n",
            "product_id             0\n",
            "seller_id              0\n",
            "shipping_limit_date    0\n",
            "price                  0\n",
            "freight_value          0\n",
            "dtype: int64\n",
            "\n",
            "====================================================================================================\n",
            "\n",
            "Jumlah Duplikasi:\n",
            "Jumlah duplikasi:  0\n",
            "\n",
            "====================================================================================================\n",
            "\n",
            "Descriptive Statistics:\n",
            "       order_item_id          price  freight_value\n",
            "count  112650.000000  112650.000000  112650.000000\n",
            "mean        1.197834     120.653739      19.990320\n",
            "std         0.705124     183.633928      15.806405\n",
            "min         1.000000       0.850000       0.000000\n",
            "25%         1.000000      39.900000      13.080000\n",
            "50%         1.000000      74.990000      16.260000\n",
            "75%         1.000000     134.900000      21.150000\n",
            "max        21.000000    6735.000000     409.680000\n"
          ]
        }
      ]
    },
    {
      "cell_type": "markdown",
      "source": [
        "**Insight:**<br>\n",
        "Pada tabel items_df terdapat satu kolom yang tipe datanya salah yaitu kolom shipping_limit_date yang tipenya itu object tapi seharusnya datetime karena isi datanya tanggal, sehingga itu harus di perbaiki atau diubah tipe datanya. kolom max freight_value bukan inaccurate value karena nilai itu untuk harga ongos kirim dan ada banyak nilai yang bernilai ratusan seperti 390"
      ],
      "metadata": {
        "id": "M92I639XX4uV"
      }
    },
    {
      "cell_type": "markdown",
      "source": [
        "#### Menilai tabel payments_df"
      ],
      "metadata": {
        "id": "dUbN8C_eRP86"
      }
    },
    {
      "cell_type": "code",
      "source": [
        "assessing_dataframe(payments_df, \"Payments\")"
      ],
      "metadata": {
        "colab": {
          "base_uri": "https://localhost:8080/"
        },
        "id": "tYJ60pxnQesF",
        "outputId": "9f7ec116-11fd-4631-ea0b-7568cb289f40"
      },
      "execution_count": null,
      "outputs": [
        {
          "output_type": "stream",
          "name": "stdout",
          "text": [
            "Assessing Payments DataFrame:\n",
            "\n",
            "Info:\n",
            "<class 'pandas.core.frame.DataFrame'>\n",
            "RangeIndex: 103886 entries, 0 to 103885\n",
            "Data columns (total 5 columns):\n",
            " #   Column                Non-Null Count   Dtype  \n",
            "---  ------                --------------   -----  \n",
            " 0   order_id              103886 non-null  object \n",
            " 1   payment_sequential    103886 non-null  int64  \n",
            " 2   payment_type          103886 non-null  object \n",
            " 3   payment_installments  103886 non-null  int64  \n",
            " 4   payment_value         103886 non-null  float64\n",
            "dtypes: float64(1), int64(2), object(2)\n",
            "memory usage: 4.0+ MB\n",
            "None\n",
            "\n",
            "====================================================================================================\n",
            "\n",
            "Missing Values:\n",
            "order_id                0\n",
            "payment_sequential      0\n",
            "payment_type            0\n",
            "payment_installments    0\n",
            "payment_value           0\n",
            "dtype: int64\n",
            "\n",
            "====================================================================================================\n",
            "\n",
            "Jumlah Duplikasi:\n",
            "Jumlah duplikasi:  0\n",
            "\n",
            "====================================================================================================\n",
            "\n",
            "Descriptive Statistics:\n",
            "       payment_sequential  payment_installments  payment_value\n",
            "count       103886.000000         103886.000000  103886.000000\n",
            "mean             1.092679              2.853349     154.100380\n",
            "std              0.706584              2.687051     217.494064\n",
            "min              1.000000              0.000000       0.000000\n",
            "25%              1.000000              1.000000      56.790000\n",
            "50%              1.000000              1.000000     100.000000\n",
            "75%              1.000000              4.000000     171.837500\n",
            "max             29.000000             24.000000   13664.080000\n"
          ]
        }
      ]
    },
    {
      "cell_type": "markdown",
      "source": [
        "**Insight:**<br>\n",
        "Pada tabel payments_df tidak ada yang perlu diubah karena dari tipe data, missing values, dan jumlah duplikasi tidak ada kekurangannya"
      ],
      "metadata": {
        "id": "O534rdyaZy_a"
      }
    },
    {
      "cell_type": "markdown",
      "source": [
        "#### Menilai tabel reviews_df"
      ],
      "metadata": {
        "id": "A6mw7rj8RUy7"
      }
    },
    {
      "cell_type": "code",
      "source": [
        "assessing_dataframe(reviews_df, \"Reviews\")"
      ],
      "metadata": {
        "colab": {
          "base_uri": "https://localhost:8080/"
        },
        "id": "6vj1WjaAQfJx",
        "outputId": "55cd170c-c71a-4f66-973f-6b35ea83e21c"
      },
      "execution_count": null,
      "outputs": [
        {
          "output_type": "stream",
          "name": "stdout",
          "text": [
            "Assessing Reviews DataFrame:\n",
            "\n",
            "Info:\n",
            "<class 'pandas.core.frame.DataFrame'>\n",
            "RangeIndex: 99224 entries, 0 to 99223\n",
            "Data columns (total 7 columns):\n",
            " #   Column                   Non-Null Count  Dtype \n",
            "---  ------                   --------------  ----- \n",
            " 0   review_id                99224 non-null  object\n",
            " 1   order_id                 99224 non-null  object\n",
            " 2   review_score             99224 non-null  int64 \n",
            " 3   review_comment_title     11568 non-null  object\n",
            " 4   review_comment_message   40977 non-null  object\n",
            " 5   review_creation_date     99224 non-null  object\n",
            " 6   review_answer_timestamp  99224 non-null  object\n",
            "dtypes: int64(1), object(6)\n",
            "memory usage: 5.3+ MB\n",
            "None\n",
            "\n",
            "====================================================================================================\n",
            "\n",
            "Missing Values:\n",
            "review_id                      0\n",
            "order_id                       0\n",
            "review_score                   0\n",
            "review_comment_title       87656\n",
            "review_comment_message     58247\n",
            "review_creation_date           0\n",
            "review_answer_timestamp        0\n",
            "dtype: int64\n",
            "\n",
            "====================================================================================================\n",
            "\n",
            "Jumlah Duplikasi:\n",
            "Jumlah duplikasi:  0\n",
            "\n",
            "====================================================================================================\n",
            "\n",
            "Descriptive Statistics:\n",
            "       review_score\n",
            "count  99224.000000\n",
            "mean       4.086421\n",
            "std        1.347579\n",
            "min        1.000000\n",
            "25%        4.000000\n",
            "50%        5.000000\n",
            "75%        5.000000\n",
            "max        5.000000\n"
          ]
        }
      ]
    },
    {
      "cell_type": "markdown",
      "source": [
        "**Insight:**<br>\n",
        "Pada tabel reviews_df terdapat missing value pada review_comment_title dan  review_comment_message tetapi saya rasa itu wajar dalam dunia e commerce apalagi customer memberikan rating atau review kadang yang diberi hanya bintangnya saja tanpa memberi title dan message jadi tidak akan di bersihkan datanya, yang perlu diperbaiki hanya tipedata pada kolom review_creation_date dan review_answer_timestamp yang awalnya object menjadi datetime"
      ],
      "metadata": {
        "id": "7Wo4A3FnbWjh"
      }
    },
    {
      "cell_type": "markdown",
      "source": [
        "#### Menilai tabel orders_df"
      ],
      "metadata": {
        "id": "QyH75iziRX7w"
      }
    },
    {
      "cell_type": "code",
      "source": [
        "assessing_dataframe(orders_df, \"Orders\")"
      ],
      "metadata": {
        "colab": {
          "base_uri": "https://localhost:8080/"
        },
        "id": "D77HNVQZQft8",
        "outputId": "6342d041-1c2a-4fa3-a7ca-a064c2f82a9a"
      },
      "execution_count": null,
      "outputs": [
        {
          "output_type": "stream",
          "name": "stdout",
          "text": [
            "Assessing Orders DataFrame:\n",
            "\n",
            "Info:\n",
            "<class 'pandas.core.frame.DataFrame'>\n",
            "RangeIndex: 99441 entries, 0 to 99440\n",
            "Data columns (total 8 columns):\n",
            " #   Column                         Non-Null Count  Dtype \n",
            "---  ------                         --------------  ----- \n",
            " 0   order_id                       99441 non-null  object\n",
            " 1   customer_id                    99441 non-null  object\n",
            " 2   order_status                   99441 non-null  object\n",
            " 3   order_purchase_timestamp       99441 non-null  object\n",
            " 4   order_approved_at              99281 non-null  object\n",
            " 5   order_delivered_carrier_date   97658 non-null  object\n",
            " 6   order_delivered_customer_date  96476 non-null  object\n",
            " 7   order_estimated_delivery_date  99441 non-null  object\n",
            "dtypes: object(8)\n",
            "memory usage: 6.1+ MB\n",
            "None\n",
            "\n",
            "====================================================================================================\n",
            "\n",
            "Missing Values:\n",
            "order_id                            0\n",
            "customer_id                         0\n",
            "order_status                        0\n",
            "order_purchase_timestamp            0\n",
            "order_approved_at                 160\n",
            "order_delivered_carrier_date     1783\n",
            "order_delivered_customer_date    2965\n",
            "order_estimated_delivery_date       0\n",
            "dtype: int64\n",
            "\n",
            "====================================================================================================\n",
            "\n",
            "Jumlah Duplikasi:\n",
            "Jumlah duplikasi:  0\n",
            "\n",
            "====================================================================================================\n",
            "\n",
            "Descriptive Statistics:\n",
            "                                order_id                       customer_id  \\\n",
            "count                              99441                             99441   \n",
            "unique                             99441                             99441   \n",
            "top     e481f51cbdc54678b7cc49136f2d6af7  9ef432eb6251297304e76186b10a928d   \n",
            "freq                                   1                                 1   \n",
            "\n",
            "       order_status order_purchase_timestamp    order_approved_at  \\\n",
            "count         99441                    99441                99281   \n",
            "unique            8                    98875                90733   \n",
            "top       delivered      2018-04-11 10:48:14  2018-02-27 04:31:10   \n",
            "freq          96478                        3                    9   \n",
            "\n",
            "       order_delivered_carrier_date order_delivered_customer_date  \\\n",
            "count                         97658                         96476   \n",
            "unique                        81018                         95664   \n",
            "top             2018-05-09 15:48:00           2018-05-08 23:38:46   \n",
            "freq                             47                             3   \n",
            "\n",
            "       order_estimated_delivery_date  \n",
            "count                          99441  \n",
            "unique                           459  \n",
            "top              2017-12-20 00:00:00  \n",
            "freq                             522  \n"
          ]
        }
      ]
    },
    {
      "cell_type": "markdown",
      "source": [
        "**Insight:**<br>\n",
        "Pada tabel orders_df terdapat missing value pada order_approved_at, order_delivered_carrier_date dan  order_delivered_customer_date tetapi saya rasa itu wajar dalam dunia e-commerce bisa jadi paket customer tersebut masih dipacking di toko jadi belum di ambil oleh kurir dan belum diproses diantar ke customer dan belum diterima oleh customer jadi tidak akan di bersihkan datanya, yang perlu diperbaiki hanya tipe data pada kolom order_purchase_timestamp,order_approved_at, order_delivered_carrier_date, order_delivered_customer_date  dan order_estimated_delivery_date yang awalnya object menjadi datetime"
      ],
      "metadata": {
        "id": "uwrC8emdoQTu"
      }
    },
    {
      "cell_type": "markdown",
      "source": [
        "#### Menilai tabel products_df"
      ],
      "metadata": {
        "id": "Idz8q8r3RbDD"
      }
    },
    {
      "cell_type": "code",
      "source": [
        "assessing_dataframe(products_df, \"Products\")"
      ],
      "metadata": {
        "colab": {
          "base_uri": "https://localhost:8080/"
        },
        "id": "xgR7SC4kQgL2",
        "outputId": "86740e3e-03e2-4b5d-b180-f960744d533d"
      },
      "execution_count": null,
      "outputs": [
        {
          "output_type": "stream",
          "name": "stdout",
          "text": [
            "Assessing Products DataFrame:\n",
            "\n",
            "Info:\n",
            "<class 'pandas.core.frame.DataFrame'>\n",
            "RangeIndex: 32951 entries, 0 to 32950\n",
            "Data columns (total 9 columns):\n",
            " #   Column                      Non-Null Count  Dtype  \n",
            "---  ------                      --------------  -----  \n",
            " 0   product_id                  32951 non-null  object \n",
            " 1   product_category_name       32341 non-null  object \n",
            " 2   product_name_lenght         32341 non-null  float64\n",
            " 3   product_description_lenght  32341 non-null  float64\n",
            " 4   product_photos_qty          32341 non-null  float64\n",
            " 5   product_weight_g            32949 non-null  float64\n",
            " 6   product_length_cm           32949 non-null  float64\n",
            " 7   product_height_cm           32949 non-null  float64\n",
            " 8   product_width_cm            32949 non-null  float64\n",
            "dtypes: float64(7), object(2)\n",
            "memory usage: 2.3+ MB\n",
            "None\n",
            "\n",
            "====================================================================================================\n",
            "\n",
            "Missing Values:\n",
            "product_id                      0\n",
            "product_category_name         610\n",
            "product_name_lenght           610\n",
            "product_description_lenght    610\n",
            "product_photos_qty            610\n",
            "product_weight_g                2\n",
            "product_length_cm               2\n",
            "product_height_cm               2\n",
            "product_width_cm                2\n",
            "dtype: int64\n",
            "\n",
            "====================================================================================================\n",
            "\n",
            "Jumlah Duplikasi:\n",
            "Jumlah duplikasi:  0\n",
            "\n",
            "====================================================================================================\n",
            "\n",
            "Descriptive Statistics:\n",
            "       product_name_lenght  product_description_lenght  product_photos_qty  \\\n",
            "count         32341.000000                32341.000000        32341.000000   \n",
            "mean             48.476949                  771.495285            2.188986   \n",
            "std              10.245741                  635.115225            1.736766   \n",
            "min               5.000000                    4.000000            1.000000   \n",
            "25%              42.000000                  339.000000            1.000000   \n",
            "50%              51.000000                  595.000000            1.000000   \n",
            "75%              57.000000                  972.000000            3.000000   \n",
            "max              76.000000                 3992.000000           20.000000   \n",
            "\n",
            "       product_weight_g  product_length_cm  product_height_cm  \\\n",
            "count      32949.000000       32949.000000       32949.000000   \n",
            "mean        2276.472488          30.815078          16.937661   \n",
            "std         4282.038731          16.914458          13.637554   \n",
            "min            0.000000           7.000000           2.000000   \n",
            "25%          300.000000          18.000000           8.000000   \n",
            "50%          700.000000          25.000000          13.000000   \n",
            "75%         1900.000000          38.000000          21.000000   \n",
            "max        40425.000000         105.000000         105.000000   \n",
            "\n",
            "       product_width_cm  \n",
            "count      32949.000000  \n",
            "mean          23.196728  \n",
            "std           12.079047  \n",
            "min            6.000000  \n",
            "25%           15.000000  \n",
            "50%           20.000000  \n",
            "75%           30.000000  \n",
            "max          118.000000  \n"
          ]
        }
      ]
    },
    {
      "cell_type": "markdown",
      "source": [
        "**Insight:**<br>\n",
        "Pada tabel products_df terdapat missing value sebanyak 610 dan 2 di beberpa kolom"
      ],
      "metadata": {
        "id": "KmuG2swxpw3N"
      }
    },
    {
      "cell_type": "markdown",
      "source": [
        "#### Menilai tabel product_category_name_translation_df"
      ],
      "metadata": {
        "id": "W1bx2G2JRn8d"
      }
    },
    {
      "cell_type": "code",
      "source": [
        "assessing_dataframe(product_category_name_translation_df,\"Product Tranlation\")"
      ],
      "metadata": {
        "colab": {
          "base_uri": "https://localhost:8080/"
        },
        "id": "YMKALAlzQy1w",
        "outputId": "60864a0c-f4e1-4aad-bce5-03f5934ba72e"
      },
      "execution_count": null,
      "outputs": [
        {
          "output_type": "stream",
          "name": "stdout",
          "text": [
            "Assessing Product Tranlation DataFrame:\n",
            "\n",
            "Info:\n",
            "<class 'pandas.core.frame.DataFrame'>\n",
            "RangeIndex: 71 entries, 0 to 70\n",
            "Data columns (total 2 columns):\n",
            " #   Column                         Non-Null Count  Dtype \n",
            "---  ------                         --------------  ----- \n",
            " 0   product_category_name          71 non-null     object\n",
            " 1   product_category_name_english  71 non-null     object\n",
            "dtypes: object(2)\n",
            "memory usage: 1.2+ KB\n",
            "None\n",
            "\n",
            "====================================================================================================\n",
            "\n",
            "Missing Values:\n",
            "product_category_name            0\n",
            "product_category_name_english    0\n",
            "dtype: int64\n",
            "\n",
            "====================================================================================================\n",
            "\n",
            "Jumlah Duplikasi:\n",
            "Jumlah duplikasi:  0\n",
            "\n",
            "====================================================================================================\n",
            "\n",
            "Descriptive Statistics:\n",
            "       product_category_name product_category_name_english\n",
            "count                     71                            71\n",
            "unique                    71                            71\n",
            "top             beleza_saude                 health_beauty\n",
            "freq                       1                             1\n"
          ]
        }
      ]
    },
    {
      "cell_type": "markdown",
      "source": [
        "**Insight:**<br>\n",
        "Pada tabel product_category_name_translation_df semuanya bagus dari segi tipedata, tidak ada missing value dan tidak ada duplikasi data maka tabel ini tidak ada perubahan atau pembersihan"
      ],
      "metadata": {
        "id": "DwW0TV2trzZE"
      }
    },
    {
      "cell_type": "markdown",
      "source": [
        "#### Menilai tabel sellers_df"
      ],
      "metadata": {
        "id": "r8pBo2ZQRrNI"
      }
    },
    {
      "cell_type": "code",
      "source": [
        "assessing_dataframe(sellers_df,\"Sellers\")"
      ],
      "metadata": {
        "colab": {
          "base_uri": "https://localhost:8080/"
        },
        "id": "GXWKsZ4EQgku",
        "outputId": "3d855fd6-08e8-4914-b6cd-f5cd2be9d386"
      },
      "execution_count": null,
      "outputs": [
        {
          "output_type": "stream",
          "name": "stdout",
          "text": [
            "Assessing Sellers DataFrame:\n",
            "\n",
            "Info:\n",
            "<class 'pandas.core.frame.DataFrame'>\n",
            "RangeIndex: 3095 entries, 0 to 3094\n",
            "Data columns (total 4 columns):\n",
            " #   Column                  Non-Null Count  Dtype \n",
            "---  ------                  --------------  ----- \n",
            " 0   seller_id               3095 non-null   object\n",
            " 1   seller_zip_code_prefix  3095 non-null   int64 \n",
            " 2   seller_city             3095 non-null   object\n",
            " 3   seller_state            3095 non-null   object\n",
            "dtypes: int64(1), object(3)\n",
            "memory usage: 96.8+ KB\n",
            "None\n",
            "\n",
            "====================================================================================================\n",
            "\n",
            "Missing Values:\n",
            "seller_id                 0\n",
            "seller_zip_code_prefix    0\n",
            "seller_city               0\n",
            "seller_state              0\n",
            "dtype: int64\n",
            "\n",
            "====================================================================================================\n",
            "\n",
            "Jumlah Duplikasi:\n",
            "Jumlah duplikasi:  0\n",
            "\n",
            "====================================================================================================\n",
            "\n",
            "Descriptive Statistics:\n",
            "       seller_zip_code_prefix\n",
            "count             3095.000000\n",
            "mean             32291.059451\n",
            "std              32713.453830\n",
            "min               1001.000000\n",
            "25%               7093.500000\n",
            "50%              14940.000000\n",
            "75%              64552.500000\n",
            "max              99730.000000\n"
          ]
        }
      ]
    },
    {
      "cell_type": "markdown",
      "source": [
        "**Insight:**<br>\n",
        "Pada tabel sellers_df semuanya bagus dari segi tipedata, tidak ada missing value dan tidak ada duplikasi data maka tabel ini tidak ada perubahan atau pembersihan"
      ],
      "metadata": {
        "id": "_FXBGLr5sHem"
      }
    },
    {
      "cell_type": "markdown",
      "source": [
        "#### Insight Assessing Data"
      ],
      "metadata": {
        "id": "deRD9UZhSwDP"
      }
    },
    {
      "cell_type": "markdown",
      "source": [
        "**Insight:**\n",
        "Setelah melihat informasi tabel, apakah ada missing values dan duplikasi data dan melihat deskripsi statistik maka kesimpulan dari semua tabel yaitu sebagai berikut: <br>\n",
        "*   Tipe Data Tidak Relevan/Cocok<br>\n",
        "kolom shipping_limit_date pada Tabel items_df<br>\n",
        "kolom review_creation_date dan review_answer_timestamp pada Tabel reviews_df<br>\n",
        "kolom order_purchase_timestamp,order_approved_at, order_delivered_carrier_date, order_delivered_customer_date dan order_estimated_delivery_date pada Tabel orders_df<br>\n",
        "*   Terdapat Missing Value<br>\n",
        "Sebanyak 610 dan 2 missing value di beberpa kolom di Tabel products_df\n",
        "\n",
        "*   Terdapat Duplikasi Data<br>\n",
        "geolocation_df\n",
        "\n",
        "\n"
      ],
      "metadata": {
        "id": "Gb1lJS-lVHXn"
      }
    },
    {
      "cell_type": "markdown",
      "metadata": {
        "id": "EhN5R4hr8DC1"
      },
      "source": [
        "### Cleaning Data"
      ]
    },
    {
      "cell_type": "markdown",
      "source": [
        "#### Handling Perbedaan Tipe Data"
      ],
      "metadata": {
        "id": "srNx9iXZv3Xi"
      }
    },
    {
      "cell_type": "code",
      "source": [
        "items_df.info()\n",
        "print(\"=\"*50)\n",
        "reviews_df.info()\n",
        "print(\"=\"*50)\n",
        "orders_df.info()"
      ],
      "metadata": {
        "colab": {
          "base_uri": "https://localhost:8080/"
        },
        "id": "3-cNfErpJ1AG",
        "outputId": "56a603be-106b-4114-84bb-1fea77d251e0"
      },
      "execution_count": null,
      "outputs": [
        {
          "output_type": "stream",
          "name": "stdout",
          "text": [
            "<class 'pandas.core.frame.DataFrame'>\n",
            "RangeIndex: 112650 entries, 0 to 112649\n",
            "Data columns (total 7 columns):\n",
            " #   Column               Non-Null Count   Dtype         \n",
            "---  ------               --------------   -----         \n",
            " 0   order_id             112650 non-null  object        \n",
            " 1   order_item_id        112650 non-null  int64         \n",
            " 2   product_id           112650 non-null  object        \n",
            " 3   seller_id            112650 non-null  object        \n",
            " 4   shipping_limit_date  112650 non-null  datetime64[ns]\n",
            " 5   price                112650 non-null  float64       \n",
            " 6   freight_value        112650 non-null  float64       \n",
            "dtypes: datetime64[ns](1), float64(2), int64(1), object(3)\n",
            "memory usage: 6.0+ MB\n",
            "==================================================\n",
            "<class 'pandas.core.frame.DataFrame'>\n",
            "RangeIndex: 99224 entries, 0 to 99223\n",
            "Data columns (total 7 columns):\n",
            " #   Column                   Non-Null Count  Dtype         \n",
            "---  ------                   --------------  -----         \n",
            " 0   review_id                99224 non-null  object        \n",
            " 1   order_id                 99224 non-null  object        \n",
            " 2   review_score             99224 non-null  int64         \n",
            " 3   review_comment_title     11568 non-null  object        \n",
            " 4   review_comment_message   40977 non-null  object        \n",
            " 5   review_creation_date     99224 non-null  datetime64[ns]\n",
            " 6   review_answer_timestamp  99224 non-null  datetime64[ns]\n",
            "dtypes: datetime64[ns](2), int64(1), object(4)\n",
            "memory usage: 5.3+ MB\n",
            "==================================================\n",
            "<class 'pandas.core.frame.DataFrame'>\n",
            "RangeIndex: 99441 entries, 0 to 99440\n",
            "Data columns (total 8 columns):\n",
            " #   Column                         Non-Null Count  Dtype         \n",
            "---  ------                         --------------  -----         \n",
            " 0   order_id                       99441 non-null  object        \n",
            " 1   customer_id                    99441 non-null  object        \n",
            " 2   order_status                   99441 non-null  object        \n",
            " 3   order_purchase_timestamp       99441 non-null  datetime64[ns]\n",
            " 4   order_approved_at              99281 non-null  datetime64[ns]\n",
            " 5   order_delivered_carrier_date   97658 non-null  datetime64[ns]\n",
            " 6   order_delivered_customer_date  96476 non-null  datetime64[ns]\n",
            " 7   order_estimated_delivery_date  99441 non-null  datetime64[ns]\n",
            "dtypes: datetime64[ns](5), object(3)\n",
            "memory usage: 6.1+ MB\n"
          ]
        }
      ]
    },
    {
      "cell_type": "code",
      "source": [
        "# Mengubah Tipe Data pada Tabel items_df\n",
        "items_df[\"shipping_limit_date\"] = pd.to_datetime(items_df[\"shipping_limit_date\"])"
      ],
      "metadata": {
        "id": "H9TebCf-w0OW"
      },
      "execution_count": null,
      "outputs": []
    },
    {
      "cell_type": "code",
      "source": [
        "# Mengubah Tipe data pada Tabel  reviews_df\n",
        "datetime_columns_reviews = [\"review_creation_date\", \"review_answer_timestamp\"]\n",
        "\n",
        "for column in datetime_columns_reviews:\n",
        "  reviews_df[column] = pd.to_datetime(reviews_df[column])"
      ],
      "metadata": {
        "id": "jVnYpprE9Evz"
      },
      "execution_count": null,
      "outputs": []
    },
    {
      "cell_type": "code",
      "source": [
        "# Mengubah Tipe data pada Tabel orders_df\n",
        "datetime_columns_orders = [\"order_purchase_timestamp\", \"order_approved_at\",\"order_delivered_carrier_date\",\"order_delivered_customer_date\",\"order_estimated_delivery_date\"]\n",
        "\n",
        "for column in datetime_columns_orders:\n",
        "  orders_df[column] = pd.to_datetime(orders_df[column])"
      ],
      "metadata": {
        "id": "4fOZZM5QxxA-"
      },
      "execution_count": null,
      "outputs": []
    },
    {
      "cell_type": "code",
      "source": [
        "items_df.info()\n",
        "print(\"=\"*50)\n",
        "reviews_df.info()\n",
        "print(\"=\"*50)\n",
        "orders_df.info()"
      ],
      "metadata": {
        "colab": {
          "base_uri": "https://localhost:8080/"
        },
        "id": "2L6nN0KAyRDH",
        "outputId": "3997b67a-7ac1-4770-bf43-a9d75f88b61f"
      },
      "execution_count": null,
      "outputs": [
        {
          "output_type": "stream",
          "name": "stdout",
          "text": [
            "<class 'pandas.core.frame.DataFrame'>\n",
            "RangeIndex: 112650 entries, 0 to 112649\n",
            "Data columns (total 7 columns):\n",
            " #   Column               Non-Null Count   Dtype         \n",
            "---  ------               --------------   -----         \n",
            " 0   order_id             112650 non-null  object        \n",
            " 1   order_item_id        112650 non-null  int64         \n",
            " 2   product_id           112650 non-null  object        \n",
            " 3   seller_id            112650 non-null  object        \n",
            " 4   shipping_limit_date  112650 non-null  datetime64[ns]\n",
            " 5   price                112650 non-null  float64       \n",
            " 6   freight_value        112650 non-null  float64       \n",
            "dtypes: datetime64[ns](1), float64(2), int64(1), object(3)\n",
            "memory usage: 6.0+ MB\n",
            "==================================================\n",
            "<class 'pandas.core.frame.DataFrame'>\n",
            "RangeIndex: 99224 entries, 0 to 99223\n",
            "Data columns (total 7 columns):\n",
            " #   Column                   Non-Null Count  Dtype         \n",
            "---  ------                   --------------  -----         \n",
            " 0   review_id                99224 non-null  object        \n",
            " 1   order_id                 99224 non-null  object        \n",
            " 2   review_score             99224 non-null  int64         \n",
            " 3   review_comment_title     11568 non-null  object        \n",
            " 4   review_comment_message   40977 non-null  object        \n",
            " 5   review_creation_date     99224 non-null  datetime64[ns]\n",
            " 6   review_answer_timestamp  99224 non-null  datetime64[ns]\n",
            "dtypes: datetime64[ns](2), int64(1), object(4)\n",
            "memory usage: 5.3+ MB\n",
            "==================================================\n",
            "<class 'pandas.core.frame.DataFrame'>\n",
            "RangeIndex: 99441 entries, 0 to 99440\n",
            "Data columns (total 8 columns):\n",
            " #   Column                         Non-Null Count  Dtype         \n",
            "---  ------                         --------------  -----         \n",
            " 0   order_id                       99441 non-null  object        \n",
            " 1   customer_id                    99441 non-null  object        \n",
            " 2   order_status                   99441 non-null  object        \n",
            " 3   order_purchase_timestamp       99441 non-null  datetime64[ns]\n",
            " 4   order_approved_at              99281 non-null  datetime64[ns]\n",
            " 5   order_delivered_carrier_date   97658 non-null  datetime64[ns]\n",
            " 6   order_delivered_customer_date  96476 non-null  datetime64[ns]\n",
            " 7   order_estimated_delivery_date  99441 non-null  datetime64[ns]\n",
            "dtypes: datetime64[ns](5), object(3)\n",
            "memory usage: 6.1+ MB\n"
          ]
        }
      ]
    },
    {
      "cell_type": "markdown",
      "source": [
        "#### Handling Missing Value"
      ],
      "metadata": {
        "id": "PPT05PDHwGLz"
      }
    },
    {
      "cell_type": "code",
      "source": [
        "print(products_df.isna().sum())"
      ],
      "metadata": {
        "colab": {
          "base_uri": "https://localhost:8080/"
        },
        "id": "TACou7NvwNCe",
        "outputId": "80fc2005-fa02-462d-9278-3df040488aff"
      },
      "execution_count": null,
      "outputs": [
        {
          "output_type": "stream",
          "name": "stdout",
          "text": [
            "product_id                      0\n",
            "product_category_name         610\n",
            "product_name_lenght           610\n",
            "product_description_lenght    610\n",
            "product_photos_qty            610\n",
            "product_weight_g                2\n",
            "product_length_cm               2\n",
            "product_height_cm               2\n",
            "product_width_cm                2\n",
            "dtype: int64\n"
          ]
        }
      ]
    },
    {
      "cell_type": "code",
      "source": [
        "# Melihat Product Category terbanyak untuk imputation product_category_name\n",
        "products_df.product_category_name.value_counts()"
      ],
      "metadata": {
        "colab": {
          "base_uri": "https://localhost:8080/",
          "height": 489
        },
        "id": "cqqPpRR2zYBO",
        "outputId": "89d772d9-c8aa-4732-85bb-1a15e2377b37"
      },
      "execution_count": null,
      "outputs": [
        {
          "output_type": "execute_result",
          "data": {
            "text/plain": [
              "product_category_name\n",
              "cama_mesa_banho                  3029\n",
              "esporte_lazer                    2867\n",
              "moveis_decoracao                 2657\n",
              "beleza_saude                     2444\n",
              "utilidades_domesticas            2335\n",
              "                                 ... \n",
              "fashion_roupa_infanto_juvenil       5\n",
              "casa_conforto_2                     5\n",
              "pc_gamer                            3\n",
              "seguros_e_servicos                  2\n",
              "cds_dvds_musicais                   1\n",
              "Name: count, Length: 73, dtype: int64"
            ],
            "text/html": [
              "<div>\n",
              "<style scoped>\n",
              "    .dataframe tbody tr th:only-of-type {\n",
              "        vertical-align: middle;\n",
              "    }\n",
              "\n",
              "    .dataframe tbody tr th {\n",
              "        vertical-align: top;\n",
              "    }\n",
              "\n",
              "    .dataframe thead th {\n",
              "        text-align: right;\n",
              "    }\n",
              "</style>\n",
              "<table border=\"1\" class=\"dataframe\">\n",
              "  <thead>\n",
              "    <tr style=\"text-align: right;\">\n",
              "      <th></th>\n",
              "      <th>count</th>\n",
              "    </tr>\n",
              "    <tr>\n",
              "      <th>product_category_name</th>\n",
              "      <th></th>\n",
              "    </tr>\n",
              "  </thead>\n",
              "  <tbody>\n",
              "    <tr>\n",
              "      <th>cama_mesa_banho</th>\n",
              "      <td>3029</td>\n",
              "    </tr>\n",
              "    <tr>\n",
              "      <th>esporte_lazer</th>\n",
              "      <td>2867</td>\n",
              "    </tr>\n",
              "    <tr>\n",
              "      <th>moveis_decoracao</th>\n",
              "      <td>2657</td>\n",
              "    </tr>\n",
              "    <tr>\n",
              "      <th>beleza_saude</th>\n",
              "      <td>2444</td>\n",
              "    </tr>\n",
              "    <tr>\n",
              "      <th>utilidades_domesticas</th>\n",
              "      <td>2335</td>\n",
              "    </tr>\n",
              "    <tr>\n",
              "      <th>...</th>\n",
              "      <td>...</td>\n",
              "    </tr>\n",
              "    <tr>\n",
              "      <th>fashion_roupa_infanto_juvenil</th>\n",
              "      <td>5</td>\n",
              "    </tr>\n",
              "    <tr>\n",
              "      <th>casa_conforto_2</th>\n",
              "      <td>5</td>\n",
              "    </tr>\n",
              "    <tr>\n",
              "      <th>pc_gamer</th>\n",
              "      <td>3</td>\n",
              "    </tr>\n",
              "    <tr>\n",
              "      <th>seguros_e_servicos</th>\n",
              "      <td>2</td>\n",
              "    </tr>\n",
              "    <tr>\n",
              "      <th>cds_dvds_musicais</th>\n",
              "      <td>1</td>\n",
              "    </tr>\n",
              "  </tbody>\n",
              "</table>\n",
              "<p>73 rows × 1 columns</p>\n",
              "</div><br><label><b>dtype:</b> int64</label>"
            ]
          },
          "metadata": {},
          "execution_count": 223
        }
      ]
    },
    {
      "cell_type": "code",
      "source": [
        "# Imputation Kolom product_category_name dengan cama_mesa_banho\n",
        "products_df.product_category_name.fillna(value=\"cama_mesa_banho\", inplace=True)"
      ],
      "metadata": {
        "colab": {
          "base_uri": "https://localhost:8080/"
        },
        "id": "flIeyiitEmfe",
        "outputId": "b99b2728-ea99-45d6-c50c-78dbd00e0c2b"
      },
      "execution_count": null,
      "outputs": [
        {
          "output_type": "stream",
          "name": "stderr",
          "text": [
            "<ipython-input-224-8f42230aeece>:2: FutureWarning: A value is trying to be set on a copy of a DataFrame or Series through chained assignment using an inplace method.\n",
            "The behavior will change in pandas 3.0. This inplace method will never work because the intermediate object on which we are setting values always behaves as a copy.\n",
            "\n",
            "For example, when doing 'df[col].method(value, inplace=True)', try using 'df.method({col: value}, inplace=True)' or df[col] = df[col].method(value) instead, to perform the operation inplace on the original object.\n",
            "\n",
            "\n",
            "  products_df.product_category_name.fillna(value=\"cama_mesa_banho\", inplace=True)\n"
          ]
        }
      ]
    },
    {
      "cell_type": "code",
      "source": [
        "# Imputation kolom yang awalnya NaN pada product_category_name yang sekarang udah keisi \"cama_mesa_banho\" dengan rata-rata dari kolom yang sudah terfilter di nilai cama_mesa_banho pada kolom product_category_name\n",
        "products_df.product_name_lenght.fillna(value=products_df.loc[products_df['product_category_name'] == \"cama_mesa_banho\", 'product_name_lenght'].mean(), inplace=True)\n",
        "products_df.product_description_lenght.fillna(value=products_df.loc[products_df['product_category_name'] == \"cama_mesa_banho\", 'product_description_lenght'].mean(), inplace=True)\n",
        "products_df.product_photos_qty.fillna(value=products_df.loc[products_df['product_category_name'] == \"cama_mesa_banho\", 'product_photos_qty'].mean(), inplace=True)\n"
      ],
      "metadata": {
        "colab": {
          "base_uri": "https://localhost:8080/"
        },
        "id": "FrdkO7hpEsZ-",
        "outputId": "6f247f7c-ebad-4557-a511-271d81e95990"
      },
      "execution_count": null,
      "outputs": [
        {
          "output_type": "stream",
          "name": "stderr",
          "text": [
            "<ipython-input-225-a1939df410ad>:2: FutureWarning: A value is trying to be set on a copy of a DataFrame or Series through chained assignment using an inplace method.\n",
            "The behavior will change in pandas 3.0. This inplace method will never work because the intermediate object on which we are setting values always behaves as a copy.\n",
            "\n",
            "For example, when doing 'df[col].method(value, inplace=True)', try using 'df.method({col: value}, inplace=True)' or df[col] = df[col].method(value) instead, to perform the operation inplace on the original object.\n",
            "\n",
            "\n",
            "  products_df.product_name_lenght.fillna(value=products_df.loc[products_df['product_category_name'] == \"cama_mesa_banho\", 'product_name_lenght'].mean(), inplace=True)\n",
            "<ipython-input-225-a1939df410ad>:3: FutureWarning: A value is trying to be set on a copy of a DataFrame or Series through chained assignment using an inplace method.\n",
            "The behavior will change in pandas 3.0. This inplace method will never work because the intermediate object on which we are setting values always behaves as a copy.\n",
            "\n",
            "For example, when doing 'df[col].method(value, inplace=True)', try using 'df.method({col: value}, inplace=True)' or df[col] = df[col].method(value) instead, to perform the operation inplace on the original object.\n",
            "\n",
            "\n",
            "  products_df.product_description_lenght.fillna(value=products_df.loc[products_df['product_category_name'] == \"cama_mesa_banho\", 'product_description_lenght'].mean(), inplace=True)\n",
            "<ipython-input-225-a1939df410ad>:4: FutureWarning: A value is trying to be set on a copy of a DataFrame or Series through chained assignment using an inplace method.\n",
            "The behavior will change in pandas 3.0. This inplace method will never work because the intermediate object on which we are setting values always behaves as a copy.\n",
            "\n",
            "For example, when doing 'df[col].method(value, inplace=True)', try using 'df.method({col: value}, inplace=True)' or df[col] = df[col].method(value) instead, to perform the operation inplace on the original object.\n",
            "\n",
            "\n",
            "  products_df.product_photos_qty.fillna(value=products_df.loc[products_df['product_category_name'] == \"cama_mesa_banho\", 'product_photos_qty'].mean(), inplace=True)\n"
          ]
        }
      ]
    },
    {
      "cell_type": "code",
      "source": [
        "# IMputation menggunakan rata-rata di tiap kolomnya\n",
        "products_df.product_weight_g.fillna(value=products_df['product_weight_g'].mean(), inplace=True)\n",
        "products_df.product_length_cm.fillna(value=products_df['product_length_cm'].mean(), inplace=True)\n",
        "products_df.product_height_cm.fillna(value=products_df['product_height_cm'].mean(), inplace=True)\n",
        "products_df.product_width_cm.fillna(value=products_df['product_width_cm'].mean(), inplace=True)"
      ],
      "metadata": {
        "colab": {
          "base_uri": "https://localhost:8080/"
        },
        "id": "9xMTgj6jE-cC",
        "outputId": "2c7e5815-4440-4f11-b0ca-c3a1ed29422a"
      },
      "execution_count": null,
      "outputs": [
        {
          "output_type": "stream",
          "name": "stderr",
          "text": [
            "<ipython-input-226-272354270c27>:2: FutureWarning: A value is trying to be set on a copy of a DataFrame or Series through chained assignment using an inplace method.\n",
            "The behavior will change in pandas 3.0. This inplace method will never work because the intermediate object on which we are setting values always behaves as a copy.\n",
            "\n",
            "For example, when doing 'df[col].method(value, inplace=True)', try using 'df.method({col: value}, inplace=True)' or df[col] = df[col].method(value) instead, to perform the operation inplace on the original object.\n",
            "\n",
            "\n",
            "  products_df.product_weight_g.fillna(value=products_df['product_weight_g'].mean(), inplace=True)\n",
            "<ipython-input-226-272354270c27>:3: FutureWarning: A value is trying to be set on a copy of a DataFrame or Series through chained assignment using an inplace method.\n",
            "The behavior will change in pandas 3.0. This inplace method will never work because the intermediate object on which we are setting values always behaves as a copy.\n",
            "\n",
            "For example, when doing 'df[col].method(value, inplace=True)', try using 'df.method({col: value}, inplace=True)' or df[col] = df[col].method(value) instead, to perform the operation inplace on the original object.\n",
            "\n",
            "\n",
            "  products_df.product_length_cm.fillna(value=products_df['product_length_cm'].mean(), inplace=True)\n",
            "<ipython-input-226-272354270c27>:4: FutureWarning: A value is trying to be set on a copy of a DataFrame or Series through chained assignment using an inplace method.\n",
            "The behavior will change in pandas 3.0. This inplace method will never work because the intermediate object on which we are setting values always behaves as a copy.\n",
            "\n",
            "For example, when doing 'df[col].method(value, inplace=True)', try using 'df.method({col: value}, inplace=True)' or df[col] = df[col].method(value) instead, to perform the operation inplace on the original object.\n",
            "\n",
            "\n",
            "  products_df.product_height_cm.fillna(value=products_df['product_height_cm'].mean(), inplace=True)\n",
            "<ipython-input-226-272354270c27>:5: FutureWarning: A value is trying to be set on a copy of a DataFrame or Series through chained assignment using an inplace method.\n",
            "The behavior will change in pandas 3.0. This inplace method will never work because the intermediate object on which we are setting values always behaves as a copy.\n",
            "\n",
            "For example, when doing 'df[col].method(value, inplace=True)', try using 'df.method({col: value}, inplace=True)' or df[col] = df[col].method(value) instead, to perform the operation inplace on the original object.\n",
            "\n",
            "\n",
            "  products_df.product_width_cm.fillna(value=products_df['product_width_cm'].mean(), inplace=True)\n"
          ]
        }
      ]
    },
    {
      "cell_type": "code",
      "source": [
        "print(products_df.isna().sum())"
      ],
      "metadata": {
        "colab": {
          "base_uri": "https://localhost:8080/"
        },
        "id": "mImrh7x_FJze",
        "outputId": "d03bf66d-594c-4115-b5fe-068130f29d7c"
      },
      "execution_count": null,
      "outputs": [
        {
          "output_type": "stream",
          "name": "stdout",
          "text": [
            "product_id                    0\n",
            "product_category_name         0\n",
            "product_name_lenght           0\n",
            "product_description_lenght    0\n",
            "product_photos_qty            0\n",
            "product_weight_g              0\n",
            "product_length_cm             0\n",
            "product_height_cm             0\n",
            "product_width_cm              0\n",
            "dtype: int64\n"
          ]
        }
      ]
    },
    {
      "cell_type": "code",
      "source": [
        "print(pd.__version__)"
      ],
      "metadata": {
        "colab": {
          "base_uri": "https://localhost:8080/"
        },
        "id": "WdSYq4RJ9YUp",
        "outputId": "93463a0d-adac-4deb-d165-758ef977d773"
      },
      "execution_count": null,
      "outputs": [
        {
          "output_type": "stream",
          "name": "stdout",
          "text": [
            "2.2.2\n"
          ]
        }
      ]
    },
    {
      "cell_type": "markdown",
      "source": [
        "Karena saya menggunakan Pandas version 2.2.2 maka hiraukan peringatan yang muncul"
      ],
      "metadata": {
        "id": "AbHUuZJjFr5C"
      }
    },
    {
      "cell_type": "markdown",
      "source": [
        "#### Handling Duplicate Data"
      ],
      "metadata": {
        "id": "8NKf_IwdwNlO"
      }
    },
    {
      "cell_type": "code",
      "source": [
        "geolocation_df.duplicated().sum()"
      ],
      "metadata": {
        "colab": {
          "base_uri": "https://localhost:8080/"
        },
        "id": "pfDxLFi5wQXy",
        "outputId": "02d44937-b3eb-4f34-b721-1fc1925d0cef"
      },
      "execution_count": null,
      "outputs": [
        {
          "output_type": "execute_result",
          "data": {
            "text/plain": [
              "261831"
            ]
          },
          "metadata": {},
          "execution_count": 229
        }
      ]
    },
    {
      "cell_type": "markdown",
      "source": [
        "Melihat Berapa Jumlah Data Terduplikasi di tabel geolocation_df"
      ],
      "metadata": {
        "id": "SKh6f4BxGZOT"
      }
    },
    {
      "cell_type": "code",
      "source": [
        "geolocation_df.drop_duplicates(inplace=True)"
      ],
      "metadata": {
        "id": "IfcpBmGxGHjd"
      },
      "execution_count": null,
      "outputs": []
    },
    {
      "cell_type": "markdown",
      "source": [
        "Melakukan drop data duplikat pada tabel geolocation_df"
      ],
      "metadata": {
        "id": "F3Yaw92SGglp"
      }
    },
    {
      "cell_type": "code",
      "source": [
        "print(\"Jumlah duplikasi: \", geolocation_df.duplicated().sum())"
      ],
      "metadata": {
        "colab": {
          "base_uri": "https://localhost:8080/"
        },
        "id": "EtFuxfrzGLDX",
        "outputId": "370df466-d7b3-4971-b907-37ac7ab3600f"
      },
      "execution_count": null,
      "outputs": [
        {
          "output_type": "stream",
          "name": "stdout",
          "text": [
            "Jumlah duplikasi:  0\n"
          ]
        }
      ]
    },
    {
      "cell_type": "markdown",
      "source": [
        "#### Insight Cleaning Data"
      ],
      "metadata": {
        "id": "CTp7s7cav-zp"
      }
    },
    {
      "cell_type": "markdown",
      "source": [
        "**Insight:**\n",
        "Tipe data error, Missing Value dan Duplicate data sudah dihandling di masing\" tabel yang memiliki permaslahan data yang perlu di cleaning"
      ],
      "metadata": {
        "id": "y79nspbpwCiU"
      }
    },
    {
      "cell_type": "markdown",
      "metadata": {
        "id": "gp-Y6wU38DC1"
      },
      "source": [
        "## Exploratory Data Analysis (EDA)"
      ]
    },
    {
      "cell_type": "code",
      "source": [
        "dataframes = [\n",
        "    (\"Customers\", customers_df),\n",
        "    (\"Geolocation\", geolocation_df),\n",
        "    (\"Items\", items_df),\n",
        "    (\"Payments\", payments_df),\n",
        "    (\"Reviews\", reviews_df),\n",
        "    (\"Orders\", orders_df),\n",
        "    (\"Products\", products_df),\n",
        "    (\"Product Category Name Translation\", product_category_name_translation_df),\n",
        "    (\"Sellers\", sellers_df)\n",
        "]"
      ],
      "metadata": {
        "id": "i6rKCpWkLqsJ"
      },
      "execution_count": null,
      "outputs": []
    },
    {
      "cell_type": "code",
      "execution_count": null,
      "metadata": {
        "id": "e9CQCZjk8DC2",
        "colab": {
          "base_uri": "https://localhost:8080/"
        },
        "outputId": "b3684039-a209-44e4-ea2c-9535c3aaae61"
      },
      "outputs": [
        {
          "output_type": "stream",
          "name": "stdout",
          "text": [
            "\n",
            "Informasi untuk tabel: Customers\n",
            "\n",
            "<class 'pandas.core.frame.DataFrame'>\n",
            "RangeIndex: 99441 entries, 0 to 99440\n",
            "Data columns (total 5 columns):\n",
            " #   Column                    Non-Null Count  Dtype \n",
            "---  ------                    --------------  ----- \n",
            " 0   customer_id               99441 non-null  object\n",
            " 1   customer_unique_id        99441 non-null  object\n",
            " 2   customer_zip_code_prefix  99441 non-null  int64 \n",
            " 3   customer_city             99441 non-null  object\n",
            " 4   customer_state            99441 non-null  object\n",
            "dtypes: int64(1), object(4)\n",
            "memory usage: 3.8+ MB\n",
            "==================================================\n",
            "\n",
            "Informasi untuk tabel: Geolocation\n",
            "\n",
            "<class 'pandas.core.frame.DataFrame'>\n",
            "Index: 738332 entries, 0 to 1000161\n",
            "Data columns (total 5 columns):\n",
            " #   Column                       Non-Null Count   Dtype  \n",
            "---  ------                       --------------   -----  \n",
            " 0   geolocation_zip_code_prefix  738332 non-null  int64  \n",
            " 1   geolocation_lat              738332 non-null  float64\n",
            " 2   geolocation_lng              738332 non-null  float64\n",
            " 3   geolocation_city             738332 non-null  object \n",
            " 4   geolocation_state            738332 non-null  object \n",
            "dtypes: float64(2), int64(1), object(2)\n",
            "memory usage: 33.8+ MB\n",
            "==================================================\n",
            "\n",
            "Informasi untuk tabel: Items\n",
            "\n",
            "<class 'pandas.core.frame.DataFrame'>\n",
            "RangeIndex: 112650 entries, 0 to 112649\n",
            "Data columns (total 7 columns):\n",
            " #   Column               Non-Null Count   Dtype         \n",
            "---  ------               --------------   -----         \n",
            " 0   order_id             112650 non-null  object        \n",
            " 1   order_item_id        112650 non-null  int64         \n",
            " 2   product_id           112650 non-null  object        \n",
            " 3   seller_id            112650 non-null  object        \n",
            " 4   shipping_limit_date  112650 non-null  datetime64[ns]\n",
            " 5   price                112650 non-null  float64       \n",
            " 6   freight_value        112650 non-null  float64       \n",
            "dtypes: datetime64[ns](1), float64(2), int64(1), object(3)\n",
            "memory usage: 6.0+ MB\n",
            "==================================================\n",
            "\n",
            "Informasi untuk tabel: Payments\n",
            "\n",
            "<class 'pandas.core.frame.DataFrame'>\n",
            "RangeIndex: 103886 entries, 0 to 103885\n",
            "Data columns (total 5 columns):\n",
            " #   Column                Non-Null Count   Dtype  \n",
            "---  ------                --------------   -----  \n",
            " 0   order_id              103886 non-null  object \n",
            " 1   payment_sequential    103886 non-null  int64  \n",
            " 2   payment_type          103886 non-null  object \n",
            " 3   payment_installments  103886 non-null  int64  \n",
            " 4   payment_value         103886 non-null  float64\n",
            "dtypes: float64(1), int64(2), object(2)\n",
            "memory usage: 4.0+ MB\n",
            "==================================================\n",
            "\n",
            "Informasi untuk tabel: Reviews\n",
            "\n",
            "<class 'pandas.core.frame.DataFrame'>\n",
            "RangeIndex: 99224 entries, 0 to 99223\n",
            "Data columns (total 7 columns):\n",
            " #   Column                   Non-Null Count  Dtype         \n",
            "---  ------                   --------------  -----         \n",
            " 0   review_id                99224 non-null  object        \n",
            " 1   order_id                 99224 non-null  object        \n",
            " 2   review_score             99224 non-null  int64         \n",
            " 3   review_comment_title     11568 non-null  object        \n",
            " 4   review_comment_message   40977 non-null  object        \n",
            " 5   review_creation_date     99224 non-null  datetime64[ns]\n",
            " 6   review_answer_timestamp  99224 non-null  datetime64[ns]\n",
            "dtypes: datetime64[ns](2), int64(1), object(4)\n",
            "memory usage: 5.3+ MB\n",
            "==================================================\n",
            "\n",
            "Informasi untuk tabel: Orders\n",
            "\n",
            "<class 'pandas.core.frame.DataFrame'>\n",
            "RangeIndex: 99441 entries, 0 to 99440\n",
            "Data columns (total 8 columns):\n",
            " #   Column                         Non-Null Count  Dtype         \n",
            "---  ------                         --------------  -----         \n",
            " 0   order_id                       99441 non-null  object        \n",
            " 1   customer_id                    99441 non-null  object        \n",
            " 2   order_status                   99441 non-null  object        \n",
            " 3   order_purchase_timestamp       99441 non-null  datetime64[ns]\n",
            " 4   order_approved_at              99281 non-null  datetime64[ns]\n",
            " 5   order_delivered_carrier_date   97658 non-null  datetime64[ns]\n",
            " 6   order_delivered_customer_date  96476 non-null  datetime64[ns]\n",
            " 7   order_estimated_delivery_date  99441 non-null  datetime64[ns]\n",
            "dtypes: datetime64[ns](5), object(3)\n",
            "memory usage: 6.1+ MB\n",
            "==================================================\n",
            "\n",
            "Informasi untuk tabel: Products\n",
            "\n",
            "<class 'pandas.core.frame.DataFrame'>\n",
            "RangeIndex: 32951 entries, 0 to 32950\n",
            "Data columns (total 9 columns):\n",
            " #   Column                      Non-Null Count  Dtype  \n",
            "---  ------                      --------------  -----  \n",
            " 0   product_id                  32951 non-null  object \n",
            " 1   product_category_name       32951 non-null  object \n",
            " 2   product_name_lenght         32951 non-null  float64\n",
            " 3   product_description_lenght  32951 non-null  float64\n",
            " 4   product_photos_qty          32951 non-null  float64\n",
            " 5   product_weight_g            32951 non-null  float64\n",
            " 6   product_length_cm           32951 non-null  float64\n",
            " 7   product_height_cm           32951 non-null  float64\n",
            " 8   product_width_cm            32951 non-null  float64\n",
            "dtypes: float64(7), object(2)\n",
            "memory usage: 2.3+ MB\n",
            "==================================================\n",
            "\n",
            "Informasi untuk tabel: Product Category Name Translation\n",
            "\n",
            "<class 'pandas.core.frame.DataFrame'>\n",
            "RangeIndex: 71 entries, 0 to 70\n",
            "Data columns (total 2 columns):\n",
            " #   Column                         Non-Null Count  Dtype \n",
            "---  ------                         --------------  ----- \n",
            " 0   product_category_name          71 non-null     object\n",
            " 1   product_category_name_english  71 non-null     object\n",
            "dtypes: object(2)\n",
            "memory usage: 1.2+ KB\n",
            "==================================================\n",
            "\n",
            "Informasi untuk tabel: Sellers\n",
            "\n",
            "<class 'pandas.core.frame.DataFrame'>\n",
            "RangeIndex: 3095 entries, 0 to 3094\n",
            "Data columns (total 4 columns):\n",
            " #   Column                  Non-Null Count  Dtype \n",
            "---  ------                  --------------  ----- \n",
            " 0   seller_id               3095 non-null   object\n",
            " 1   seller_zip_code_prefix  3095 non-null   int64 \n",
            " 2   seller_city             3095 non-null   object\n",
            " 3   seller_state            3095 non-null   object\n",
            "dtypes: int64(1), object(3)\n",
            "memory usage: 96.8+ KB\n",
            "==================================================\n"
          ]
        }
      ],
      "source": [
        "# Looping untuk menampilkan info dari setiap DataFrame\n",
        "for nama_df, df in dataframes:\n",
        "    print(f\"\\nInformasi untuk tabel: {nama_df}\\n\")\n",
        "    df.info()\n",
        "    print(\"=\" * 50)"
      ]
    },
    {
      "cell_type": "markdown",
      "metadata": {
        "id": "MW7WF2kr8DC1"
      },
      "source": [
        "### Explore customers_df"
      ]
    },
    {
      "cell_type": "code",
      "source": [
        "customers_df['customer_unique_id'].nunique()"
      ],
      "metadata": {
        "colab": {
          "base_uri": "https://localhost:8080/"
        },
        "id": "2IOUdbYgSOW4",
        "outputId": "c76acbe4-8ced-435b-bd73-ff1585131650"
      },
      "execution_count": null,
      "outputs": [
        {
          "output_type": "execute_result",
          "data": {
            "text/plain": [
              "96096"
            ]
          },
          "metadata": {},
          "execution_count": 242
        }
      ]
    },
    {
      "cell_type": "markdown",
      "source": [
        "Terdapat 96096 Pelanggan yang pernah bertransaksi"
      ],
      "metadata": {
        "id": "HHpdsXTDTlcv"
      }
    },
    {
      "cell_type": "code",
      "source": [
        "customers_df['customer_city'].value_counts().head(10)"
      ],
      "metadata": {
        "colab": {
          "base_uri": "https://localhost:8080/",
          "height": 429
        },
        "id": "b9BoQp-5R8wo",
        "outputId": "f2ba1b86-7608-4a8a-e410-214e3e7741a9"
      },
      "execution_count": null,
      "outputs": [
        {
          "output_type": "execute_result",
          "data": {
            "text/plain": [
              "customer_city\n",
              "sao paulo                15540\n",
              "rio de janeiro            6882\n",
              "belo horizonte            2773\n",
              "brasilia                  2131\n",
              "curitiba                  1521\n",
              "campinas                  1444\n",
              "porto alegre              1379\n",
              "salvador                  1245\n",
              "guarulhos                 1189\n",
              "sao bernardo do campo      938\n",
              "Name: count, dtype: int64"
            ],
            "text/html": [
              "<div>\n",
              "<style scoped>\n",
              "    .dataframe tbody tr th:only-of-type {\n",
              "        vertical-align: middle;\n",
              "    }\n",
              "\n",
              "    .dataframe tbody tr th {\n",
              "        vertical-align: top;\n",
              "    }\n",
              "\n",
              "    .dataframe thead th {\n",
              "        text-align: right;\n",
              "    }\n",
              "</style>\n",
              "<table border=\"1\" class=\"dataframe\">\n",
              "  <thead>\n",
              "    <tr style=\"text-align: right;\">\n",
              "      <th></th>\n",
              "      <th>count</th>\n",
              "    </tr>\n",
              "    <tr>\n",
              "      <th>customer_city</th>\n",
              "      <th></th>\n",
              "    </tr>\n",
              "  </thead>\n",
              "  <tbody>\n",
              "    <tr>\n",
              "      <th>sao paulo</th>\n",
              "      <td>15540</td>\n",
              "    </tr>\n",
              "    <tr>\n",
              "      <th>rio de janeiro</th>\n",
              "      <td>6882</td>\n",
              "    </tr>\n",
              "    <tr>\n",
              "      <th>belo horizonte</th>\n",
              "      <td>2773</td>\n",
              "    </tr>\n",
              "    <tr>\n",
              "      <th>brasilia</th>\n",
              "      <td>2131</td>\n",
              "    </tr>\n",
              "    <tr>\n",
              "      <th>curitiba</th>\n",
              "      <td>1521</td>\n",
              "    </tr>\n",
              "    <tr>\n",
              "      <th>campinas</th>\n",
              "      <td>1444</td>\n",
              "    </tr>\n",
              "    <tr>\n",
              "      <th>porto alegre</th>\n",
              "      <td>1379</td>\n",
              "    </tr>\n",
              "    <tr>\n",
              "      <th>salvador</th>\n",
              "      <td>1245</td>\n",
              "    </tr>\n",
              "    <tr>\n",
              "      <th>guarulhos</th>\n",
              "      <td>1189</td>\n",
              "    </tr>\n",
              "    <tr>\n",
              "      <th>sao bernardo do campo</th>\n",
              "      <td>938</td>\n",
              "    </tr>\n",
              "  </tbody>\n",
              "</table>\n",
              "</div><br><label><b>dtype:</b> int64</label>"
            ]
          },
          "metadata": {},
          "execution_count": 240
        }
      ]
    },
    {
      "cell_type": "markdown",
      "source": [
        "Menampilkan tempat tinggal Kota Customer yang paling banyak dengan top 10"
      ],
      "metadata": {
        "id": "O0qROPi-T6so"
      }
    },
    {
      "cell_type": "code",
      "source": [
        "customers_df['customer_state'].value_counts().head(10)"
      ],
      "metadata": {
        "colab": {
          "base_uri": "https://localhost:8080/",
          "height": 429
        },
        "id": "4QiJMlxtSI6D",
        "outputId": "e73b4dd6-19b0-42a3-d47a-089b323206ad"
      },
      "execution_count": null,
      "outputs": [
        {
          "output_type": "execute_result",
          "data": {
            "text/plain": [
              "customer_state\n",
              "SP    41746\n",
              "RJ    12852\n",
              "MG    11635\n",
              "RS     5466\n",
              "PR     5045\n",
              "SC     3637\n",
              "BA     3380\n",
              "DF     2140\n",
              "ES     2033\n",
              "GO     2020\n",
              "Name: count, dtype: int64"
            ],
            "text/html": [
              "<div>\n",
              "<style scoped>\n",
              "    .dataframe tbody tr th:only-of-type {\n",
              "        vertical-align: middle;\n",
              "    }\n",
              "\n",
              "    .dataframe tbody tr th {\n",
              "        vertical-align: top;\n",
              "    }\n",
              "\n",
              "    .dataframe thead th {\n",
              "        text-align: right;\n",
              "    }\n",
              "</style>\n",
              "<table border=\"1\" class=\"dataframe\">\n",
              "  <thead>\n",
              "    <tr style=\"text-align: right;\">\n",
              "      <th></th>\n",
              "      <th>count</th>\n",
              "    </tr>\n",
              "    <tr>\n",
              "      <th>customer_state</th>\n",
              "      <th></th>\n",
              "    </tr>\n",
              "  </thead>\n",
              "  <tbody>\n",
              "    <tr>\n",
              "      <th>SP</th>\n",
              "      <td>41746</td>\n",
              "    </tr>\n",
              "    <tr>\n",
              "      <th>RJ</th>\n",
              "      <td>12852</td>\n",
              "    </tr>\n",
              "    <tr>\n",
              "      <th>MG</th>\n",
              "      <td>11635</td>\n",
              "    </tr>\n",
              "    <tr>\n",
              "      <th>RS</th>\n",
              "      <td>5466</td>\n",
              "    </tr>\n",
              "    <tr>\n",
              "      <th>PR</th>\n",
              "      <td>5045</td>\n",
              "    </tr>\n",
              "    <tr>\n",
              "      <th>SC</th>\n",
              "      <td>3637</td>\n",
              "    </tr>\n",
              "    <tr>\n",
              "      <th>BA</th>\n",
              "      <td>3380</td>\n",
              "    </tr>\n",
              "    <tr>\n",
              "      <th>DF</th>\n",
              "      <td>2140</td>\n",
              "    </tr>\n",
              "    <tr>\n",
              "      <th>ES</th>\n",
              "      <td>2033</td>\n",
              "    </tr>\n",
              "    <tr>\n",
              "      <th>GO</th>\n",
              "      <td>2020</td>\n",
              "    </tr>\n",
              "  </tbody>\n",
              "</table>\n",
              "</div><br><label><b>dtype:</b> int64</label>"
            ]
          },
          "metadata": {},
          "execution_count": 241
        }
      ]
    },
    {
      "cell_type": "markdown",
      "source": [
        "Menampilkan state atau provinsi tempat tinggal Kota Customer yang paling banyak dengan top 10"
      ],
      "metadata": {
        "id": "j7KUR1-RUnkj"
      }
    },
    {
      "cell_type": "markdown",
      "source": [
        "### Explore sellers_df"
      ],
      "metadata": {
        "id": "NAyq_STqhuOa"
      }
    },
    {
      "cell_type": "code",
      "source": [
        "sellers_df['seller_city'].value_counts().head(10)"
      ],
      "metadata": {
        "colab": {
          "base_uri": "https://localhost:8080/",
          "height": 429
        },
        "id": "yluLI5-Zh0xB",
        "outputId": "fa3831f7-882a-47a3-84f0-be50f1d03bae"
      },
      "execution_count": null,
      "outputs": [
        {
          "output_type": "execute_result",
          "data": {
            "text/plain": [
              "seller_city\n",
              "sao paulo         694\n",
              "curitiba          127\n",
              "rio de janeiro     96\n",
              "belo horizonte     68\n",
              "ribeirao preto     52\n",
              "guarulhos          50\n",
              "ibitinga           49\n",
              "santo andre        45\n",
              "campinas           41\n",
              "maringa            40\n",
              "Name: count, dtype: int64"
            ],
            "text/html": [
              "<div>\n",
              "<style scoped>\n",
              "    .dataframe tbody tr th:only-of-type {\n",
              "        vertical-align: middle;\n",
              "    }\n",
              "\n",
              "    .dataframe tbody tr th {\n",
              "        vertical-align: top;\n",
              "    }\n",
              "\n",
              "    .dataframe thead th {\n",
              "        text-align: right;\n",
              "    }\n",
              "</style>\n",
              "<table border=\"1\" class=\"dataframe\">\n",
              "  <thead>\n",
              "    <tr style=\"text-align: right;\">\n",
              "      <th></th>\n",
              "      <th>count</th>\n",
              "    </tr>\n",
              "    <tr>\n",
              "      <th>seller_city</th>\n",
              "      <th></th>\n",
              "    </tr>\n",
              "  </thead>\n",
              "  <tbody>\n",
              "    <tr>\n",
              "      <th>sao paulo</th>\n",
              "      <td>694</td>\n",
              "    </tr>\n",
              "    <tr>\n",
              "      <th>curitiba</th>\n",
              "      <td>127</td>\n",
              "    </tr>\n",
              "    <tr>\n",
              "      <th>rio de janeiro</th>\n",
              "      <td>96</td>\n",
              "    </tr>\n",
              "    <tr>\n",
              "      <th>belo horizonte</th>\n",
              "      <td>68</td>\n",
              "    </tr>\n",
              "    <tr>\n",
              "      <th>ribeirao preto</th>\n",
              "      <td>52</td>\n",
              "    </tr>\n",
              "    <tr>\n",
              "      <th>guarulhos</th>\n",
              "      <td>50</td>\n",
              "    </tr>\n",
              "    <tr>\n",
              "      <th>ibitinga</th>\n",
              "      <td>49</td>\n",
              "    </tr>\n",
              "    <tr>\n",
              "      <th>santo andre</th>\n",
              "      <td>45</td>\n",
              "    </tr>\n",
              "    <tr>\n",
              "      <th>campinas</th>\n",
              "      <td>41</td>\n",
              "    </tr>\n",
              "    <tr>\n",
              "      <th>maringa</th>\n",
              "      <td>40</td>\n",
              "    </tr>\n",
              "  </tbody>\n",
              "</table>\n",
              "</div><br><label><b>dtype:</b> int64</label>"
            ]
          },
          "metadata": {},
          "execution_count": 301
        }
      ]
    },
    {
      "cell_type": "markdown",
      "source": [
        "Menampilkan asal kota paling banyak dari seller yang menjual"
      ],
      "metadata": {
        "id": "8hTc23OliHcl"
      }
    },
    {
      "cell_type": "code",
      "source": [
        "sellers_df['seller_state'].value_counts().head(10)"
      ],
      "metadata": {
        "colab": {
          "base_uri": "https://localhost:8080/",
          "height": 429
        },
        "id": "8pGIWcF7iDT8",
        "outputId": "75bd843f-8a6e-410f-9fdf-513d3272d81b"
      },
      "execution_count": null,
      "outputs": [
        {
          "output_type": "execute_result",
          "data": {
            "text/plain": [
              "seller_state\n",
              "SP    1849\n",
              "PR     349\n",
              "MG     244\n",
              "SC     190\n",
              "RJ     171\n",
              "RS     129\n",
              "GO      40\n",
              "DF      30\n",
              "ES      23\n",
              "BA      19\n",
              "Name: count, dtype: int64"
            ],
            "text/html": [
              "<div>\n",
              "<style scoped>\n",
              "    .dataframe tbody tr th:only-of-type {\n",
              "        vertical-align: middle;\n",
              "    }\n",
              "\n",
              "    .dataframe tbody tr th {\n",
              "        vertical-align: top;\n",
              "    }\n",
              "\n",
              "    .dataframe thead th {\n",
              "        text-align: right;\n",
              "    }\n",
              "</style>\n",
              "<table border=\"1\" class=\"dataframe\">\n",
              "  <thead>\n",
              "    <tr style=\"text-align: right;\">\n",
              "      <th></th>\n",
              "      <th>count</th>\n",
              "    </tr>\n",
              "    <tr>\n",
              "      <th>seller_state</th>\n",
              "      <th></th>\n",
              "    </tr>\n",
              "  </thead>\n",
              "  <tbody>\n",
              "    <tr>\n",
              "      <th>SP</th>\n",
              "      <td>1849</td>\n",
              "    </tr>\n",
              "    <tr>\n",
              "      <th>PR</th>\n",
              "      <td>349</td>\n",
              "    </tr>\n",
              "    <tr>\n",
              "      <th>MG</th>\n",
              "      <td>244</td>\n",
              "    </tr>\n",
              "    <tr>\n",
              "      <th>SC</th>\n",
              "      <td>190</td>\n",
              "    </tr>\n",
              "    <tr>\n",
              "      <th>RJ</th>\n",
              "      <td>171</td>\n",
              "    </tr>\n",
              "    <tr>\n",
              "      <th>RS</th>\n",
              "      <td>129</td>\n",
              "    </tr>\n",
              "    <tr>\n",
              "      <th>GO</th>\n",
              "      <td>40</td>\n",
              "    </tr>\n",
              "    <tr>\n",
              "      <th>DF</th>\n",
              "      <td>30</td>\n",
              "    </tr>\n",
              "    <tr>\n",
              "      <th>ES</th>\n",
              "      <td>23</td>\n",
              "    </tr>\n",
              "    <tr>\n",
              "      <th>BA</th>\n",
              "      <td>19</td>\n",
              "    </tr>\n",
              "  </tbody>\n",
              "</table>\n",
              "</div><br><label><b>dtype:</b> int64</label>"
            ]
          },
          "metadata": {},
          "execution_count": 302
        }
      ]
    },
    {
      "cell_type": "markdown",
      "source": [
        "Menampilkan asal state atau provinsi paling banyak dari seller yang menjual"
      ],
      "metadata": {
        "id": "8K4ld29OiOTf"
      }
    },
    {
      "cell_type": "markdown",
      "metadata": {
        "id": "Kfrrlrg2R-KH"
      },
      "source": [
        "### Explore orders_df"
      ]
    },
    {
      "cell_type": "code",
      "source": [
        "orders_df['order_status'].value_counts()"
      ],
      "metadata": {
        "colab": {
          "base_uri": "https://localhost:8080/",
          "height": 366
        },
        "id": "6m5kZV5tSj-u",
        "outputId": "092885f5-e42d-464e-81f8-6363021dc612"
      },
      "execution_count": null,
      "outputs": [
        {
          "output_type": "execute_result",
          "data": {
            "text/plain": [
              "order_status\n",
              "delivered      96478\n",
              "shipped         1107\n",
              "canceled         625\n",
              "unavailable      609\n",
              "invoiced         314\n",
              "processing       301\n",
              "created            5\n",
              "approved           2\n",
              "Name: count, dtype: int64"
            ],
            "text/html": [
              "<div>\n",
              "<style scoped>\n",
              "    .dataframe tbody tr th:only-of-type {\n",
              "        vertical-align: middle;\n",
              "    }\n",
              "\n",
              "    .dataframe tbody tr th {\n",
              "        vertical-align: top;\n",
              "    }\n",
              "\n",
              "    .dataframe thead th {\n",
              "        text-align: right;\n",
              "    }\n",
              "</style>\n",
              "<table border=\"1\" class=\"dataframe\">\n",
              "  <thead>\n",
              "    <tr style=\"text-align: right;\">\n",
              "      <th></th>\n",
              "      <th>count</th>\n",
              "    </tr>\n",
              "    <tr>\n",
              "      <th>order_status</th>\n",
              "      <th></th>\n",
              "    </tr>\n",
              "  </thead>\n",
              "  <tbody>\n",
              "    <tr>\n",
              "      <th>delivered</th>\n",
              "      <td>96478</td>\n",
              "    </tr>\n",
              "    <tr>\n",
              "      <th>shipped</th>\n",
              "      <td>1107</td>\n",
              "    </tr>\n",
              "    <tr>\n",
              "      <th>canceled</th>\n",
              "      <td>625</td>\n",
              "    </tr>\n",
              "    <tr>\n",
              "      <th>unavailable</th>\n",
              "      <td>609</td>\n",
              "    </tr>\n",
              "    <tr>\n",
              "      <th>invoiced</th>\n",
              "      <td>314</td>\n",
              "    </tr>\n",
              "    <tr>\n",
              "      <th>processing</th>\n",
              "      <td>301</td>\n",
              "    </tr>\n",
              "    <tr>\n",
              "      <th>created</th>\n",
              "      <td>5</td>\n",
              "    </tr>\n",
              "    <tr>\n",
              "      <th>approved</th>\n",
              "      <td>2</td>\n",
              "    </tr>\n",
              "  </tbody>\n",
              "</table>\n",
              "</div><br><label><b>dtype:</b> int64</label>"
            ]
          },
          "metadata": {},
          "execution_count": 287
        }
      ]
    },
    {
      "cell_type": "markdown",
      "source": [
        "Menampilkan berapa status order yang telah dicapai ditiap kategori dalam status order"
      ],
      "metadata": {
        "id": "OMSbtXRJVOhk"
      }
    },
    {
      "cell_type": "code",
      "source": [
        "orders_df['order_purchase_timestamp'] = pd.to_datetime(orders_df['order_purchase_timestamp'])\n",
        "orders_df.groupby(orders_df['order_purchase_timestamp'].dt.to_period('M'))['order_id'].count()"
      ],
      "metadata": {
        "colab": {
          "base_uri": "https://localhost:8080/",
          "height": 899
        },
        "id": "TvFX88U7SnUt",
        "outputId": "4148fe15-9d4a-4bd3-caee-651777a1bec6"
      },
      "execution_count": null,
      "outputs": [
        {
          "output_type": "execute_result",
          "data": {
            "text/plain": [
              "order_purchase_timestamp\n",
              "2016-09       4\n",
              "2016-10     324\n",
              "2016-12       1\n",
              "2017-01     800\n",
              "2017-02    1780\n",
              "2017-03    2682\n",
              "2017-04    2404\n",
              "2017-05    3700\n",
              "2017-06    3245\n",
              "2017-07    4026\n",
              "2017-08    4331\n",
              "2017-09    4285\n",
              "2017-10    4631\n",
              "2017-11    7544\n",
              "2017-12    5673\n",
              "2018-01    7269\n",
              "2018-02    6728\n",
              "2018-03    7211\n",
              "2018-04    6939\n",
              "2018-05    6873\n",
              "2018-06    6167\n",
              "2018-07    6292\n",
              "2018-08    6512\n",
              "2018-09      16\n",
              "2018-10       4\n",
              "Freq: M, Name: order_id, dtype: int64"
            ],
            "text/html": [
              "<div>\n",
              "<style scoped>\n",
              "    .dataframe tbody tr th:only-of-type {\n",
              "        vertical-align: middle;\n",
              "    }\n",
              "\n",
              "    .dataframe tbody tr th {\n",
              "        vertical-align: top;\n",
              "    }\n",
              "\n",
              "    .dataframe thead th {\n",
              "        text-align: right;\n",
              "    }\n",
              "</style>\n",
              "<table border=\"1\" class=\"dataframe\">\n",
              "  <thead>\n",
              "    <tr style=\"text-align: right;\">\n",
              "      <th></th>\n",
              "      <th>order_id</th>\n",
              "    </tr>\n",
              "    <tr>\n",
              "      <th>order_purchase_timestamp</th>\n",
              "      <th></th>\n",
              "    </tr>\n",
              "  </thead>\n",
              "  <tbody>\n",
              "    <tr>\n",
              "      <th>2016-09</th>\n",
              "      <td>4</td>\n",
              "    </tr>\n",
              "    <tr>\n",
              "      <th>2016-10</th>\n",
              "      <td>324</td>\n",
              "    </tr>\n",
              "    <tr>\n",
              "      <th>2016-12</th>\n",
              "      <td>1</td>\n",
              "    </tr>\n",
              "    <tr>\n",
              "      <th>2017-01</th>\n",
              "      <td>800</td>\n",
              "    </tr>\n",
              "    <tr>\n",
              "      <th>2017-02</th>\n",
              "      <td>1780</td>\n",
              "    </tr>\n",
              "    <tr>\n",
              "      <th>2017-03</th>\n",
              "      <td>2682</td>\n",
              "    </tr>\n",
              "    <tr>\n",
              "      <th>2017-04</th>\n",
              "      <td>2404</td>\n",
              "    </tr>\n",
              "    <tr>\n",
              "      <th>2017-05</th>\n",
              "      <td>3700</td>\n",
              "    </tr>\n",
              "    <tr>\n",
              "      <th>2017-06</th>\n",
              "      <td>3245</td>\n",
              "    </tr>\n",
              "    <tr>\n",
              "      <th>2017-07</th>\n",
              "      <td>4026</td>\n",
              "    </tr>\n",
              "    <tr>\n",
              "      <th>2017-08</th>\n",
              "      <td>4331</td>\n",
              "    </tr>\n",
              "    <tr>\n",
              "      <th>2017-09</th>\n",
              "      <td>4285</td>\n",
              "    </tr>\n",
              "    <tr>\n",
              "      <th>2017-10</th>\n",
              "      <td>4631</td>\n",
              "    </tr>\n",
              "    <tr>\n",
              "      <th>2017-11</th>\n",
              "      <td>7544</td>\n",
              "    </tr>\n",
              "    <tr>\n",
              "      <th>2017-12</th>\n",
              "      <td>5673</td>\n",
              "    </tr>\n",
              "    <tr>\n",
              "      <th>2018-01</th>\n",
              "      <td>7269</td>\n",
              "    </tr>\n",
              "    <tr>\n",
              "      <th>2018-02</th>\n",
              "      <td>6728</td>\n",
              "    </tr>\n",
              "    <tr>\n",
              "      <th>2018-03</th>\n",
              "      <td>7211</td>\n",
              "    </tr>\n",
              "    <tr>\n",
              "      <th>2018-04</th>\n",
              "      <td>6939</td>\n",
              "    </tr>\n",
              "    <tr>\n",
              "      <th>2018-05</th>\n",
              "      <td>6873</td>\n",
              "    </tr>\n",
              "    <tr>\n",
              "      <th>2018-06</th>\n",
              "      <td>6167</td>\n",
              "    </tr>\n",
              "    <tr>\n",
              "      <th>2018-07</th>\n",
              "      <td>6292</td>\n",
              "    </tr>\n",
              "    <tr>\n",
              "      <th>2018-08</th>\n",
              "      <td>6512</td>\n",
              "    </tr>\n",
              "    <tr>\n",
              "      <th>2018-09</th>\n",
              "      <td>16</td>\n",
              "    </tr>\n",
              "    <tr>\n",
              "      <th>2018-10</th>\n",
              "      <td>4</td>\n",
              "    </tr>\n",
              "  </tbody>\n",
              "</table>\n",
              "</div><br><label><b>dtype:</b> int64</label>"
            ]
          },
          "metadata": {},
          "execution_count": 246
        }
      ]
    },
    {
      "cell_type": "markdown",
      "source": [
        "Menampilkan berapa jumlah orderan dalam bulanan"
      ],
      "metadata": {
        "id": "JNt-G13HVvow"
      }
    },
    {
      "cell_type": "code",
      "source": [
        "#Perbaiki Agar Delivery time tidak float\n",
        "orders_df['delivery_time'] = (orders_df['order_delivered_customer_date'] - orders_df['order_purchase_timestamp']).dt.days\n",
        "orders_df['estimated_time'] = (orders_df['order_estimated_delivery_date'] - orders_df['order_purchase_timestamp']).dt.days\n",
        "orders_df[[\"estimated_time\",\"delivery_time\"]]"
      ],
      "metadata": {
        "colab": {
          "base_uri": "https://localhost:8080/",
          "height": 423
        },
        "id": "KetKePkMSvNv",
        "outputId": "b156f838-5311-4cea-edbd-2bd2e3f2d1b6"
      },
      "execution_count": null,
      "outputs": [
        {
          "output_type": "execute_result",
          "data": {
            "text/plain": [
              "       estimated_time  delivery_time\n",
              "0                  15            8.0\n",
              "1                  19           13.0\n",
              "2                  26            9.0\n",
              "3                  26           13.0\n",
              "4                  12            2.0\n",
              "...               ...            ...\n",
              "99436              18            8.0\n",
              "99437              23           22.0\n",
              "99438              30           24.0\n",
              "99439              37           17.0\n",
              "99440              25            7.0\n",
              "\n",
              "[99441 rows x 2 columns]"
            ],
            "text/html": [
              "\n",
              "  <div id=\"df-b85ed32a-0ced-4466-be5d-24403c3806de\" class=\"colab-df-container\">\n",
              "    <div>\n",
              "<style scoped>\n",
              "    .dataframe tbody tr th:only-of-type {\n",
              "        vertical-align: middle;\n",
              "    }\n",
              "\n",
              "    .dataframe tbody tr th {\n",
              "        vertical-align: top;\n",
              "    }\n",
              "\n",
              "    .dataframe thead th {\n",
              "        text-align: right;\n",
              "    }\n",
              "</style>\n",
              "<table border=\"1\" class=\"dataframe\">\n",
              "  <thead>\n",
              "    <tr style=\"text-align: right;\">\n",
              "      <th></th>\n",
              "      <th>estimated_time</th>\n",
              "      <th>delivery_time</th>\n",
              "    </tr>\n",
              "  </thead>\n",
              "  <tbody>\n",
              "    <tr>\n",
              "      <th>0</th>\n",
              "      <td>15</td>\n",
              "      <td>8.0</td>\n",
              "    </tr>\n",
              "    <tr>\n",
              "      <th>1</th>\n",
              "      <td>19</td>\n",
              "      <td>13.0</td>\n",
              "    </tr>\n",
              "    <tr>\n",
              "      <th>2</th>\n",
              "      <td>26</td>\n",
              "      <td>9.0</td>\n",
              "    </tr>\n",
              "    <tr>\n",
              "      <th>3</th>\n",
              "      <td>26</td>\n",
              "      <td>13.0</td>\n",
              "    </tr>\n",
              "    <tr>\n",
              "      <th>4</th>\n",
              "      <td>12</td>\n",
              "      <td>2.0</td>\n",
              "    </tr>\n",
              "    <tr>\n",
              "      <th>...</th>\n",
              "      <td>...</td>\n",
              "      <td>...</td>\n",
              "    </tr>\n",
              "    <tr>\n",
              "      <th>99436</th>\n",
              "      <td>18</td>\n",
              "      <td>8.0</td>\n",
              "    </tr>\n",
              "    <tr>\n",
              "      <th>99437</th>\n",
              "      <td>23</td>\n",
              "      <td>22.0</td>\n",
              "    </tr>\n",
              "    <tr>\n",
              "      <th>99438</th>\n",
              "      <td>30</td>\n",
              "      <td>24.0</td>\n",
              "    </tr>\n",
              "    <tr>\n",
              "      <th>99439</th>\n",
              "      <td>37</td>\n",
              "      <td>17.0</td>\n",
              "    </tr>\n",
              "    <tr>\n",
              "      <th>99440</th>\n",
              "      <td>25</td>\n",
              "      <td>7.0</td>\n",
              "    </tr>\n",
              "  </tbody>\n",
              "</table>\n",
              "<p>99441 rows × 2 columns</p>\n",
              "</div>\n",
              "    <div class=\"colab-df-buttons\">\n",
              "\n",
              "  <div class=\"colab-df-container\">\n",
              "    <button class=\"colab-df-convert\" onclick=\"convertToInteractive('df-b85ed32a-0ced-4466-be5d-24403c3806de')\"\n",
              "            title=\"Convert this dataframe to an interactive table.\"\n",
              "            style=\"display:none;\">\n",
              "\n",
              "  <svg xmlns=\"http://www.w3.org/2000/svg\" height=\"24px\" viewBox=\"0 -960 960 960\">\n",
              "    <path d=\"M120-120v-720h720v720H120Zm60-500h600v-160H180v160Zm220 220h160v-160H400v160Zm0 220h160v-160H400v160ZM180-400h160v-160H180v160Zm440 0h160v-160H620v160ZM180-180h160v-160H180v160Zm440 0h160v-160H620v160Z\"/>\n",
              "  </svg>\n",
              "    </button>\n",
              "\n",
              "  <style>\n",
              "    .colab-df-container {\n",
              "      display:flex;\n",
              "      gap: 12px;\n",
              "    }\n",
              "\n",
              "    .colab-df-convert {\n",
              "      background-color: #E8F0FE;\n",
              "      border: none;\n",
              "      border-radius: 50%;\n",
              "      cursor: pointer;\n",
              "      display: none;\n",
              "      fill: #1967D2;\n",
              "      height: 32px;\n",
              "      padding: 0 0 0 0;\n",
              "      width: 32px;\n",
              "    }\n",
              "\n",
              "    .colab-df-convert:hover {\n",
              "      background-color: #E2EBFA;\n",
              "      box-shadow: 0px 1px 2px rgba(60, 64, 67, 0.3), 0px 1px 3px 1px rgba(60, 64, 67, 0.15);\n",
              "      fill: #174EA6;\n",
              "    }\n",
              "\n",
              "    .colab-df-buttons div {\n",
              "      margin-bottom: 4px;\n",
              "    }\n",
              "\n",
              "    [theme=dark] .colab-df-convert {\n",
              "      background-color: #3B4455;\n",
              "      fill: #D2E3FC;\n",
              "    }\n",
              "\n",
              "    [theme=dark] .colab-df-convert:hover {\n",
              "      background-color: #434B5C;\n",
              "      box-shadow: 0px 1px 3px 1px rgba(0, 0, 0, 0.15);\n",
              "      filter: drop-shadow(0px 1px 2px rgba(0, 0, 0, 0.3));\n",
              "      fill: #FFFFFF;\n",
              "    }\n",
              "  </style>\n",
              "\n",
              "    <script>\n",
              "      const buttonEl =\n",
              "        document.querySelector('#df-b85ed32a-0ced-4466-be5d-24403c3806de button.colab-df-convert');\n",
              "      buttonEl.style.display =\n",
              "        google.colab.kernel.accessAllowed ? 'block' : 'none';\n",
              "\n",
              "      async function convertToInteractive(key) {\n",
              "        const element = document.querySelector('#df-b85ed32a-0ced-4466-be5d-24403c3806de');\n",
              "        const dataTable =\n",
              "          await google.colab.kernel.invokeFunction('convertToInteractive',\n",
              "                                                    [key], {});\n",
              "        if (!dataTable) return;\n",
              "\n",
              "        const docLinkHtml = 'Like what you see? Visit the ' +\n",
              "          '<a target=\"_blank\" href=https://colab.research.google.com/notebooks/data_table.ipynb>data table notebook</a>'\n",
              "          + ' to learn more about interactive tables.';\n",
              "        element.innerHTML = '';\n",
              "        dataTable['output_type'] = 'display_data';\n",
              "        await google.colab.output.renderOutput(dataTable, element);\n",
              "        const docLink = document.createElement('div');\n",
              "        docLink.innerHTML = docLinkHtml;\n",
              "        element.appendChild(docLink);\n",
              "      }\n",
              "    </script>\n",
              "  </div>\n",
              "\n",
              "\n",
              "<div id=\"df-54c602de-2ce8-4b0b-b2bf-ce2424d9e608\">\n",
              "  <button class=\"colab-df-quickchart\" onclick=\"quickchart('df-54c602de-2ce8-4b0b-b2bf-ce2424d9e608')\"\n",
              "            title=\"Suggest charts\"\n",
              "            style=\"display:none;\">\n",
              "\n",
              "<svg xmlns=\"http://www.w3.org/2000/svg\" height=\"24px\"viewBox=\"0 0 24 24\"\n",
              "     width=\"24px\">\n",
              "    <g>\n",
              "        <path d=\"M19 3H5c-1.1 0-2 .9-2 2v14c0 1.1.9 2 2 2h14c1.1 0 2-.9 2-2V5c0-1.1-.9-2-2-2zM9 17H7v-7h2v7zm4 0h-2V7h2v10zm4 0h-2v-4h2v4z\"/>\n",
              "    </g>\n",
              "</svg>\n",
              "  </button>\n",
              "\n",
              "<style>\n",
              "  .colab-df-quickchart {\n",
              "      --bg-color: #E8F0FE;\n",
              "      --fill-color: #1967D2;\n",
              "      --hover-bg-color: #E2EBFA;\n",
              "      --hover-fill-color: #174EA6;\n",
              "      --disabled-fill-color: #AAA;\n",
              "      --disabled-bg-color: #DDD;\n",
              "  }\n",
              "\n",
              "  [theme=dark] .colab-df-quickchart {\n",
              "      --bg-color: #3B4455;\n",
              "      --fill-color: #D2E3FC;\n",
              "      --hover-bg-color: #434B5C;\n",
              "      --hover-fill-color: #FFFFFF;\n",
              "      --disabled-bg-color: #3B4455;\n",
              "      --disabled-fill-color: #666;\n",
              "  }\n",
              "\n",
              "  .colab-df-quickchart {\n",
              "    background-color: var(--bg-color);\n",
              "    border: none;\n",
              "    border-radius: 50%;\n",
              "    cursor: pointer;\n",
              "    display: none;\n",
              "    fill: var(--fill-color);\n",
              "    height: 32px;\n",
              "    padding: 0;\n",
              "    width: 32px;\n",
              "  }\n",
              "\n",
              "  .colab-df-quickchart:hover {\n",
              "    background-color: var(--hover-bg-color);\n",
              "    box-shadow: 0 1px 2px rgba(60, 64, 67, 0.3), 0 1px 3px 1px rgba(60, 64, 67, 0.15);\n",
              "    fill: var(--button-hover-fill-color);\n",
              "  }\n",
              "\n",
              "  .colab-df-quickchart-complete:disabled,\n",
              "  .colab-df-quickchart-complete:disabled:hover {\n",
              "    background-color: var(--disabled-bg-color);\n",
              "    fill: var(--disabled-fill-color);\n",
              "    box-shadow: none;\n",
              "  }\n",
              "\n",
              "  .colab-df-spinner {\n",
              "    border: 2px solid var(--fill-color);\n",
              "    border-color: transparent;\n",
              "    border-bottom-color: var(--fill-color);\n",
              "    animation:\n",
              "      spin 1s steps(1) infinite;\n",
              "  }\n",
              "\n",
              "  @keyframes spin {\n",
              "    0% {\n",
              "      border-color: transparent;\n",
              "      border-bottom-color: var(--fill-color);\n",
              "      border-left-color: var(--fill-color);\n",
              "    }\n",
              "    20% {\n",
              "      border-color: transparent;\n",
              "      border-left-color: var(--fill-color);\n",
              "      border-top-color: var(--fill-color);\n",
              "    }\n",
              "    30% {\n",
              "      border-color: transparent;\n",
              "      border-left-color: var(--fill-color);\n",
              "      border-top-color: var(--fill-color);\n",
              "      border-right-color: var(--fill-color);\n",
              "    }\n",
              "    40% {\n",
              "      border-color: transparent;\n",
              "      border-right-color: var(--fill-color);\n",
              "      border-top-color: var(--fill-color);\n",
              "    }\n",
              "    60% {\n",
              "      border-color: transparent;\n",
              "      border-right-color: var(--fill-color);\n",
              "    }\n",
              "    80% {\n",
              "      border-color: transparent;\n",
              "      border-right-color: var(--fill-color);\n",
              "      border-bottom-color: var(--fill-color);\n",
              "    }\n",
              "    90% {\n",
              "      border-color: transparent;\n",
              "      border-bottom-color: var(--fill-color);\n",
              "    }\n",
              "  }\n",
              "</style>\n",
              "\n",
              "  <script>\n",
              "    async function quickchart(key) {\n",
              "      const quickchartButtonEl =\n",
              "        document.querySelector('#' + key + ' button');\n",
              "      quickchartButtonEl.disabled = true;  // To prevent multiple clicks.\n",
              "      quickchartButtonEl.classList.add('colab-df-spinner');\n",
              "      try {\n",
              "        const charts = await google.colab.kernel.invokeFunction(\n",
              "            'suggestCharts', [key], {});\n",
              "      } catch (error) {\n",
              "        console.error('Error during call to suggestCharts:', error);\n",
              "      }\n",
              "      quickchartButtonEl.classList.remove('colab-df-spinner');\n",
              "      quickchartButtonEl.classList.add('colab-df-quickchart-complete');\n",
              "    }\n",
              "    (() => {\n",
              "      let quickchartButtonEl =\n",
              "        document.querySelector('#df-54c602de-2ce8-4b0b-b2bf-ce2424d9e608 button');\n",
              "      quickchartButtonEl.style.display =\n",
              "        google.colab.kernel.accessAllowed ? 'block' : 'none';\n",
              "    })();\n",
              "  </script>\n",
              "</div>\n",
              "\n",
              "    </div>\n",
              "  </div>\n"
            ],
            "application/vnd.google.colaboratory.intrinsic+json": {
              "type": "dataframe",
              "summary": "{\n  \"name\": \"orders_df[[\\\"estimated_time\\\",\\\"delivery_time\\\"]]\",\n  \"rows\": 99441,\n  \"fields\": [\n    {\n      \"column\": \"estimated_time\",\n      \"properties\": {\n        \"dtype\": \"number\",\n        \"std\": 8,\n        \"min\": 1,\n        \"max\": 155,\n        \"num_unique_values\": 104,\n        \"samples\": [\n          29,\n          70,\n          60\n        ],\n        \"semantic_type\": \"\",\n        \"description\": \"\"\n      }\n    },\n    {\n      \"column\": \"delivery_time\",\n      \"properties\": {\n        \"dtype\": \"number\",\n        \"std\": 9.551746107128885,\n        \"min\": 0.0,\n        \"max\": 209.0,\n        \"num_unique_values\": 146,\n        \"samples\": [\n          45.0,\n          98.0,\n          56.0\n        ],\n        \"semantic_type\": \"\",\n        \"description\": \"\"\n      }\n    }\n  ]\n}"
            }
          },
          "metadata": {},
          "execution_count": 288
        }
      ]
    },
    {
      "cell_type": "markdown",
      "source": [
        "Membuat kolom delivery time dan estimated time untuk mengetahui perbedaan estimasi dan asli dari lama pengantaran paket sampai"
      ],
      "metadata": {
        "id": "cycrn_GYWAYu"
      }
    },
    {
      "cell_type": "code",
      "source": [
        "# Gabungkan tabel orders dengan customers\n",
        "orders_customers = orders_df.merge(customers_df[['customer_id', 'customer_city', 'customer_state']], on='customer_id', how='left')\n",
        "\n",
        "# Hitung jumlah pesanan per state\n",
        "state_orders = orders_customers.groupby('customer_state')['order_id'].count().reset_index()\n",
        "state_orders = state_orders.sort_values(by='order_id', ascending=False)\n",
        "\n",
        "# Hitung jumlah pesanan per city\n",
        "city_orders = orders_customers.groupby('customer_city')['order_id'].count().reset_index()\n",
        "city_orders = city_orders.sort_values(by='order_id', ascending=False)\n",
        "\n",
        "# Tampilkan hasil\n",
        "print(state_orders.head())  # Top 5 state dengan pesanan terbanyak\n",
        "print(city_orders.head())   # Top 5 city dengan pesanan terbanyak\n"
      ],
      "metadata": {
        "colab": {
          "base_uri": "https://localhost:8080/"
        },
        "id": "vxYyNGMBl7Pf",
        "outputId": "22cdede8-f591-43de-baa8-4607e656abb4"
      },
      "execution_count": null,
      "outputs": [
        {
          "output_type": "stream",
          "name": "stdout",
          "text": [
            "   customer_state  order_id\n",
            "25             SP     41746\n",
            "18             RJ     12852\n",
            "10             MG     11635\n",
            "22             RS      5466\n",
            "17             PR      5045\n",
            "       customer_city  order_id\n",
            "3597       sao paulo     15540\n",
            "3155  rio de janeiro      6882\n",
            "453   belo horizonte      2773\n",
            "558         brasilia      2131\n",
            "1143        curitiba      1521\n"
          ]
        }
      ]
    },
    {
      "cell_type": "code",
      "source": [
        "city_orders.head(30)"
      ],
      "metadata": {
        "colab": {
          "base_uri": "https://localhost:8080/",
          "height": 990
        },
        "id": "DnYekW94mRrW",
        "outputId": "34787438-90a7-45e2-de65-4fa60480324a"
      },
      "execution_count": null,
      "outputs": [
        {
          "output_type": "execute_result",
          "data": {
            "text/plain": [
              "              customer_city  order_id\n",
              "3597              sao paulo     15540\n",
              "3155         rio de janeiro      6882\n",
              "453          belo horizonte      2773\n",
              "558                brasilia      2131\n",
              "1143               curitiba      1521\n",
              "707                campinas      1444\n",
              "2964           porto alegre      1379\n",
              "3247               salvador      1245\n",
              "1529              guarulhos      1189\n",
              "3428  sao bernardo do campo       938\n",
              "2461                niteroi       849\n",
              "3375            santo andre       797\n",
              "2594                 osasco       746\n",
              "3415                 santos       713\n",
              "1445                goiania       692\n",
              "3554    sao jose dos campos       691\n",
              "1374              fortaleza       654\n",
              "3758               sorocaba       633\n",
              "3086                 recife       613\n",
              "1358          florianopolis       570\n",
              "2010                jundiai       565\n",
              "3132         ribeirao preto       510\n",
              "448                   belem       447\n",
              "2506            nova iguacu       442\n",
              "430                 barueri       433\n",
              "2005           juiz de fora       427\n",
              "1041               contagem       426\n",
              "3471            sao goncalo       409\n",
              "2341        mogi das cruzes       383\n",
              "4087                vitoria       380"
            ],
            "text/html": [
              "\n",
              "  <div id=\"df-f39258c5-5a94-4ef2-9bae-6502c6cd01c2\" class=\"colab-df-container\">\n",
              "    <div>\n",
              "<style scoped>\n",
              "    .dataframe tbody tr th:only-of-type {\n",
              "        vertical-align: middle;\n",
              "    }\n",
              "\n",
              "    .dataframe tbody tr th {\n",
              "        vertical-align: top;\n",
              "    }\n",
              "\n",
              "    .dataframe thead th {\n",
              "        text-align: right;\n",
              "    }\n",
              "</style>\n",
              "<table border=\"1\" class=\"dataframe\">\n",
              "  <thead>\n",
              "    <tr style=\"text-align: right;\">\n",
              "      <th></th>\n",
              "      <th>customer_city</th>\n",
              "      <th>order_id</th>\n",
              "    </tr>\n",
              "  </thead>\n",
              "  <tbody>\n",
              "    <tr>\n",
              "      <th>3597</th>\n",
              "      <td>sao paulo</td>\n",
              "      <td>15540</td>\n",
              "    </tr>\n",
              "    <tr>\n",
              "      <th>3155</th>\n",
              "      <td>rio de janeiro</td>\n",
              "      <td>6882</td>\n",
              "    </tr>\n",
              "    <tr>\n",
              "      <th>453</th>\n",
              "      <td>belo horizonte</td>\n",
              "      <td>2773</td>\n",
              "    </tr>\n",
              "    <tr>\n",
              "      <th>558</th>\n",
              "      <td>brasilia</td>\n",
              "      <td>2131</td>\n",
              "    </tr>\n",
              "    <tr>\n",
              "      <th>1143</th>\n",
              "      <td>curitiba</td>\n",
              "      <td>1521</td>\n",
              "    </tr>\n",
              "    <tr>\n",
              "      <th>707</th>\n",
              "      <td>campinas</td>\n",
              "      <td>1444</td>\n",
              "    </tr>\n",
              "    <tr>\n",
              "      <th>2964</th>\n",
              "      <td>porto alegre</td>\n",
              "      <td>1379</td>\n",
              "    </tr>\n",
              "    <tr>\n",
              "      <th>3247</th>\n",
              "      <td>salvador</td>\n",
              "      <td>1245</td>\n",
              "    </tr>\n",
              "    <tr>\n",
              "      <th>1529</th>\n",
              "      <td>guarulhos</td>\n",
              "      <td>1189</td>\n",
              "    </tr>\n",
              "    <tr>\n",
              "      <th>3428</th>\n",
              "      <td>sao bernardo do campo</td>\n",
              "      <td>938</td>\n",
              "    </tr>\n",
              "    <tr>\n",
              "      <th>2461</th>\n",
              "      <td>niteroi</td>\n",
              "      <td>849</td>\n",
              "    </tr>\n",
              "    <tr>\n",
              "      <th>3375</th>\n",
              "      <td>santo andre</td>\n",
              "      <td>797</td>\n",
              "    </tr>\n",
              "    <tr>\n",
              "      <th>2594</th>\n",
              "      <td>osasco</td>\n",
              "      <td>746</td>\n",
              "    </tr>\n",
              "    <tr>\n",
              "      <th>3415</th>\n",
              "      <td>santos</td>\n",
              "      <td>713</td>\n",
              "    </tr>\n",
              "    <tr>\n",
              "      <th>1445</th>\n",
              "      <td>goiania</td>\n",
              "      <td>692</td>\n",
              "    </tr>\n",
              "    <tr>\n",
              "      <th>3554</th>\n",
              "      <td>sao jose dos campos</td>\n",
              "      <td>691</td>\n",
              "    </tr>\n",
              "    <tr>\n",
              "      <th>1374</th>\n",
              "      <td>fortaleza</td>\n",
              "      <td>654</td>\n",
              "    </tr>\n",
              "    <tr>\n",
              "      <th>3758</th>\n",
              "      <td>sorocaba</td>\n",
              "      <td>633</td>\n",
              "    </tr>\n",
              "    <tr>\n",
              "      <th>3086</th>\n",
              "      <td>recife</td>\n",
              "      <td>613</td>\n",
              "    </tr>\n",
              "    <tr>\n",
              "      <th>1358</th>\n",
              "      <td>florianopolis</td>\n",
              "      <td>570</td>\n",
              "    </tr>\n",
              "    <tr>\n",
              "      <th>2010</th>\n",
              "      <td>jundiai</td>\n",
              "      <td>565</td>\n",
              "    </tr>\n",
              "    <tr>\n",
              "      <th>3132</th>\n",
              "      <td>ribeirao preto</td>\n",
              "      <td>510</td>\n",
              "    </tr>\n",
              "    <tr>\n",
              "      <th>448</th>\n",
              "      <td>belem</td>\n",
              "      <td>447</td>\n",
              "    </tr>\n",
              "    <tr>\n",
              "      <th>2506</th>\n",
              "      <td>nova iguacu</td>\n",
              "      <td>442</td>\n",
              "    </tr>\n",
              "    <tr>\n",
              "      <th>430</th>\n",
              "      <td>barueri</td>\n",
              "      <td>433</td>\n",
              "    </tr>\n",
              "    <tr>\n",
              "      <th>2005</th>\n",
              "      <td>juiz de fora</td>\n",
              "      <td>427</td>\n",
              "    </tr>\n",
              "    <tr>\n",
              "      <th>1041</th>\n",
              "      <td>contagem</td>\n",
              "      <td>426</td>\n",
              "    </tr>\n",
              "    <tr>\n",
              "      <th>3471</th>\n",
              "      <td>sao goncalo</td>\n",
              "      <td>409</td>\n",
              "    </tr>\n",
              "    <tr>\n",
              "      <th>2341</th>\n",
              "      <td>mogi das cruzes</td>\n",
              "      <td>383</td>\n",
              "    </tr>\n",
              "    <tr>\n",
              "      <th>4087</th>\n",
              "      <td>vitoria</td>\n",
              "      <td>380</td>\n",
              "    </tr>\n",
              "  </tbody>\n",
              "</table>\n",
              "</div>\n",
              "    <div class=\"colab-df-buttons\">\n",
              "\n",
              "  <div class=\"colab-df-container\">\n",
              "    <button class=\"colab-df-convert\" onclick=\"convertToInteractive('df-f39258c5-5a94-4ef2-9bae-6502c6cd01c2')\"\n",
              "            title=\"Convert this dataframe to an interactive table.\"\n",
              "            style=\"display:none;\">\n",
              "\n",
              "  <svg xmlns=\"http://www.w3.org/2000/svg\" height=\"24px\" viewBox=\"0 -960 960 960\">\n",
              "    <path d=\"M120-120v-720h720v720H120Zm60-500h600v-160H180v160Zm220 220h160v-160H400v160Zm0 220h160v-160H400v160ZM180-400h160v-160H180v160Zm440 0h160v-160H620v160ZM180-180h160v-160H180v160Zm440 0h160v-160H620v160Z\"/>\n",
              "  </svg>\n",
              "    </button>\n",
              "\n",
              "  <style>\n",
              "    .colab-df-container {\n",
              "      display:flex;\n",
              "      gap: 12px;\n",
              "    }\n",
              "\n",
              "    .colab-df-convert {\n",
              "      background-color: #E8F0FE;\n",
              "      border: none;\n",
              "      border-radius: 50%;\n",
              "      cursor: pointer;\n",
              "      display: none;\n",
              "      fill: #1967D2;\n",
              "      height: 32px;\n",
              "      padding: 0 0 0 0;\n",
              "      width: 32px;\n",
              "    }\n",
              "\n",
              "    .colab-df-convert:hover {\n",
              "      background-color: #E2EBFA;\n",
              "      box-shadow: 0px 1px 2px rgba(60, 64, 67, 0.3), 0px 1px 3px 1px rgba(60, 64, 67, 0.15);\n",
              "      fill: #174EA6;\n",
              "    }\n",
              "\n",
              "    .colab-df-buttons div {\n",
              "      margin-bottom: 4px;\n",
              "    }\n",
              "\n",
              "    [theme=dark] .colab-df-convert {\n",
              "      background-color: #3B4455;\n",
              "      fill: #D2E3FC;\n",
              "    }\n",
              "\n",
              "    [theme=dark] .colab-df-convert:hover {\n",
              "      background-color: #434B5C;\n",
              "      box-shadow: 0px 1px 3px 1px rgba(0, 0, 0, 0.15);\n",
              "      filter: drop-shadow(0px 1px 2px rgba(0, 0, 0, 0.3));\n",
              "      fill: #FFFFFF;\n",
              "    }\n",
              "  </style>\n",
              "\n",
              "    <script>\n",
              "      const buttonEl =\n",
              "        document.querySelector('#df-f39258c5-5a94-4ef2-9bae-6502c6cd01c2 button.colab-df-convert');\n",
              "      buttonEl.style.display =\n",
              "        google.colab.kernel.accessAllowed ? 'block' : 'none';\n",
              "\n",
              "      async function convertToInteractive(key) {\n",
              "        const element = document.querySelector('#df-f39258c5-5a94-4ef2-9bae-6502c6cd01c2');\n",
              "        const dataTable =\n",
              "          await google.colab.kernel.invokeFunction('convertToInteractive',\n",
              "                                                    [key], {});\n",
              "        if (!dataTable) return;\n",
              "\n",
              "        const docLinkHtml = 'Like what you see? Visit the ' +\n",
              "          '<a target=\"_blank\" href=https://colab.research.google.com/notebooks/data_table.ipynb>data table notebook</a>'\n",
              "          + ' to learn more about interactive tables.';\n",
              "        element.innerHTML = '';\n",
              "        dataTable['output_type'] = 'display_data';\n",
              "        await google.colab.output.renderOutput(dataTable, element);\n",
              "        const docLink = document.createElement('div');\n",
              "        docLink.innerHTML = docLinkHtml;\n",
              "        element.appendChild(docLink);\n",
              "      }\n",
              "    </script>\n",
              "  </div>\n",
              "\n",
              "\n",
              "<div id=\"df-d3b2f1d7-6d21-4930-897e-582dbcfd08b3\">\n",
              "  <button class=\"colab-df-quickchart\" onclick=\"quickchart('df-d3b2f1d7-6d21-4930-897e-582dbcfd08b3')\"\n",
              "            title=\"Suggest charts\"\n",
              "            style=\"display:none;\">\n",
              "\n",
              "<svg xmlns=\"http://www.w3.org/2000/svg\" height=\"24px\"viewBox=\"0 0 24 24\"\n",
              "     width=\"24px\">\n",
              "    <g>\n",
              "        <path d=\"M19 3H5c-1.1 0-2 .9-2 2v14c0 1.1.9 2 2 2h14c1.1 0 2-.9 2-2V5c0-1.1-.9-2-2-2zM9 17H7v-7h2v7zm4 0h-2V7h2v10zm4 0h-2v-4h2v4z\"/>\n",
              "    </g>\n",
              "</svg>\n",
              "  </button>\n",
              "\n",
              "<style>\n",
              "  .colab-df-quickchart {\n",
              "      --bg-color: #E8F0FE;\n",
              "      --fill-color: #1967D2;\n",
              "      --hover-bg-color: #E2EBFA;\n",
              "      --hover-fill-color: #174EA6;\n",
              "      --disabled-fill-color: #AAA;\n",
              "      --disabled-bg-color: #DDD;\n",
              "  }\n",
              "\n",
              "  [theme=dark] .colab-df-quickchart {\n",
              "      --bg-color: #3B4455;\n",
              "      --fill-color: #D2E3FC;\n",
              "      --hover-bg-color: #434B5C;\n",
              "      --hover-fill-color: #FFFFFF;\n",
              "      --disabled-bg-color: #3B4455;\n",
              "      --disabled-fill-color: #666;\n",
              "  }\n",
              "\n",
              "  .colab-df-quickchart {\n",
              "    background-color: var(--bg-color);\n",
              "    border: none;\n",
              "    border-radius: 50%;\n",
              "    cursor: pointer;\n",
              "    display: none;\n",
              "    fill: var(--fill-color);\n",
              "    height: 32px;\n",
              "    padding: 0;\n",
              "    width: 32px;\n",
              "  }\n",
              "\n",
              "  .colab-df-quickchart:hover {\n",
              "    background-color: var(--hover-bg-color);\n",
              "    box-shadow: 0 1px 2px rgba(60, 64, 67, 0.3), 0 1px 3px 1px rgba(60, 64, 67, 0.15);\n",
              "    fill: var(--button-hover-fill-color);\n",
              "  }\n",
              "\n",
              "  .colab-df-quickchart-complete:disabled,\n",
              "  .colab-df-quickchart-complete:disabled:hover {\n",
              "    background-color: var(--disabled-bg-color);\n",
              "    fill: var(--disabled-fill-color);\n",
              "    box-shadow: none;\n",
              "  }\n",
              "\n",
              "  .colab-df-spinner {\n",
              "    border: 2px solid var(--fill-color);\n",
              "    border-color: transparent;\n",
              "    border-bottom-color: var(--fill-color);\n",
              "    animation:\n",
              "      spin 1s steps(1) infinite;\n",
              "  }\n",
              "\n",
              "  @keyframes spin {\n",
              "    0% {\n",
              "      border-color: transparent;\n",
              "      border-bottom-color: var(--fill-color);\n",
              "      border-left-color: var(--fill-color);\n",
              "    }\n",
              "    20% {\n",
              "      border-color: transparent;\n",
              "      border-left-color: var(--fill-color);\n",
              "      border-top-color: var(--fill-color);\n",
              "    }\n",
              "    30% {\n",
              "      border-color: transparent;\n",
              "      border-left-color: var(--fill-color);\n",
              "      border-top-color: var(--fill-color);\n",
              "      border-right-color: var(--fill-color);\n",
              "    }\n",
              "    40% {\n",
              "      border-color: transparent;\n",
              "      border-right-color: var(--fill-color);\n",
              "      border-top-color: var(--fill-color);\n",
              "    }\n",
              "    60% {\n",
              "      border-color: transparent;\n",
              "      border-right-color: var(--fill-color);\n",
              "    }\n",
              "    80% {\n",
              "      border-color: transparent;\n",
              "      border-right-color: var(--fill-color);\n",
              "      border-bottom-color: var(--fill-color);\n",
              "    }\n",
              "    90% {\n",
              "      border-color: transparent;\n",
              "      border-bottom-color: var(--fill-color);\n",
              "    }\n",
              "  }\n",
              "</style>\n",
              "\n",
              "  <script>\n",
              "    async function quickchart(key) {\n",
              "      const quickchartButtonEl =\n",
              "        document.querySelector('#' + key + ' button');\n",
              "      quickchartButtonEl.disabled = true;  // To prevent multiple clicks.\n",
              "      quickchartButtonEl.classList.add('colab-df-spinner');\n",
              "      try {\n",
              "        const charts = await google.colab.kernel.invokeFunction(\n",
              "            'suggestCharts', [key], {});\n",
              "      } catch (error) {\n",
              "        console.error('Error during call to suggestCharts:', error);\n",
              "      }\n",
              "      quickchartButtonEl.classList.remove('colab-df-spinner');\n",
              "      quickchartButtonEl.classList.add('colab-df-quickchart-complete');\n",
              "    }\n",
              "    (() => {\n",
              "      let quickchartButtonEl =\n",
              "        document.querySelector('#df-d3b2f1d7-6d21-4930-897e-582dbcfd08b3 button');\n",
              "      quickchartButtonEl.style.display =\n",
              "        google.colab.kernel.accessAllowed ? 'block' : 'none';\n",
              "    })();\n",
              "  </script>\n",
              "</div>\n",
              "\n",
              "    </div>\n",
              "  </div>\n"
            ],
            "application/vnd.google.colaboratory.intrinsic+json": {
              "type": "dataframe",
              "variable_name": "city_orders",
              "summary": "{\n  \"name\": \"city_orders\",\n  \"rows\": 4119,\n  \"fields\": [\n    {\n      \"column\": \"customer_city\",\n      \"properties\": {\n        \"dtype\": \"string\",\n        \"num_unique_values\": 4119,\n        \"samples\": [\n          \"xaxim\",\n          \"boca da mata\",\n          \"durande\"\n        ],\n        \"semantic_type\": \"\",\n        \"description\": \"\"\n      }\n    },\n    {\n      \"column\": \"order_id\",\n      \"properties\": {\n        \"dtype\": \"number\",\n        \"std\": 279,\n        \"min\": 1,\n        \"max\": 15540,\n        \"num_unique_values\": 210,\n        \"samples\": [\n          374,\n          38,\n          157\n        ],\n        \"semantic_type\": \"\",\n        \"description\": \"\"\n      }\n    }\n  ]\n}"
            }
          },
          "metadata": {},
          "execution_count": 314
        }
      ]
    },
    {
      "cell_type": "code",
      "source": [
        "customers_df['customer_city'].value_counts().head(30)"
      ],
      "metadata": {
        "colab": {
          "base_uri": "https://localhost:8080/",
          "height": 1000
        },
        "id": "nhqenrRomNyt",
        "outputId": "19576ce0-ad4f-4fdd-f6fa-0273bc8083ad"
      },
      "execution_count": null,
      "outputs": [
        {
          "output_type": "execute_result",
          "data": {
            "text/plain": [
              "customer_city\n",
              "sao paulo                15540\n",
              "rio de janeiro            6882\n",
              "belo horizonte            2773\n",
              "brasilia                  2131\n",
              "curitiba                  1521\n",
              "campinas                  1444\n",
              "porto alegre              1379\n",
              "salvador                  1245\n",
              "guarulhos                 1189\n",
              "sao bernardo do campo      938\n",
              "niteroi                    849\n",
              "santo andre                797\n",
              "osasco                     746\n",
              "santos                     713\n",
              "goiania                    692\n",
              "sao jose dos campos        691\n",
              "fortaleza                  654\n",
              "sorocaba                   633\n",
              "recife                     613\n",
              "florianopolis              570\n",
              "jundiai                    565\n",
              "ribeirao preto             510\n",
              "belem                      447\n",
              "nova iguacu                442\n",
              "barueri                    433\n",
              "juiz de fora               427\n",
              "contagem                   426\n",
              "sao goncalo                409\n",
              "mogi das cruzes            383\n",
              "vitoria                    380\n",
              "Name: count, dtype: int64"
            ],
            "text/html": [
              "<div>\n",
              "<style scoped>\n",
              "    .dataframe tbody tr th:only-of-type {\n",
              "        vertical-align: middle;\n",
              "    }\n",
              "\n",
              "    .dataframe tbody tr th {\n",
              "        vertical-align: top;\n",
              "    }\n",
              "\n",
              "    .dataframe thead th {\n",
              "        text-align: right;\n",
              "    }\n",
              "</style>\n",
              "<table border=\"1\" class=\"dataframe\">\n",
              "  <thead>\n",
              "    <tr style=\"text-align: right;\">\n",
              "      <th></th>\n",
              "      <th>count</th>\n",
              "    </tr>\n",
              "    <tr>\n",
              "      <th>customer_city</th>\n",
              "      <th></th>\n",
              "    </tr>\n",
              "  </thead>\n",
              "  <tbody>\n",
              "    <tr>\n",
              "      <th>sao paulo</th>\n",
              "      <td>15540</td>\n",
              "    </tr>\n",
              "    <tr>\n",
              "      <th>rio de janeiro</th>\n",
              "      <td>6882</td>\n",
              "    </tr>\n",
              "    <tr>\n",
              "      <th>belo horizonte</th>\n",
              "      <td>2773</td>\n",
              "    </tr>\n",
              "    <tr>\n",
              "      <th>brasilia</th>\n",
              "      <td>2131</td>\n",
              "    </tr>\n",
              "    <tr>\n",
              "      <th>curitiba</th>\n",
              "      <td>1521</td>\n",
              "    </tr>\n",
              "    <tr>\n",
              "      <th>campinas</th>\n",
              "      <td>1444</td>\n",
              "    </tr>\n",
              "    <tr>\n",
              "      <th>porto alegre</th>\n",
              "      <td>1379</td>\n",
              "    </tr>\n",
              "    <tr>\n",
              "      <th>salvador</th>\n",
              "      <td>1245</td>\n",
              "    </tr>\n",
              "    <tr>\n",
              "      <th>guarulhos</th>\n",
              "      <td>1189</td>\n",
              "    </tr>\n",
              "    <tr>\n",
              "      <th>sao bernardo do campo</th>\n",
              "      <td>938</td>\n",
              "    </tr>\n",
              "    <tr>\n",
              "      <th>niteroi</th>\n",
              "      <td>849</td>\n",
              "    </tr>\n",
              "    <tr>\n",
              "      <th>santo andre</th>\n",
              "      <td>797</td>\n",
              "    </tr>\n",
              "    <tr>\n",
              "      <th>osasco</th>\n",
              "      <td>746</td>\n",
              "    </tr>\n",
              "    <tr>\n",
              "      <th>santos</th>\n",
              "      <td>713</td>\n",
              "    </tr>\n",
              "    <tr>\n",
              "      <th>goiania</th>\n",
              "      <td>692</td>\n",
              "    </tr>\n",
              "    <tr>\n",
              "      <th>sao jose dos campos</th>\n",
              "      <td>691</td>\n",
              "    </tr>\n",
              "    <tr>\n",
              "      <th>fortaleza</th>\n",
              "      <td>654</td>\n",
              "    </tr>\n",
              "    <tr>\n",
              "      <th>sorocaba</th>\n",
              "      <td>633</td>\n",
              "    </tr>\n",
              "    <tr>\n",
              "      <th>recife</th>\n",
              "      <td>613</td>\n",
              "    </tr>\n",
              "    <tr>\n",
              "      <th>florianopolis</th>\n",
              "      <td>570</td>\n",
              "    </tr>\n",
              "    <tr>\n",
              "      <th>jundiai</th>\n",
              "      <td>565</td>\n",
              "    </tr>\n",
              "    <tr>\n",
              "      <th>ribeirao preto</th>\n",
              "      <td>510</td>\n",
              "    </tr>\n",
              "    <tr>\n",
              "      <th>belem</th>\n",
              "      <td>447</td>\n",
              "    </tr>\n",
              "    <tr>\n",
              "      <th>nova iguacu</th>\n",
              "      <td>442</td>\n",
              "    </tr>\n",
              "    <tr>\n",
              "      <th>barueri</th>\n",
              "      <td>433</td>\n",
              "    </tr>\n",
              "    <tr>\n",
              "      <th>juiz de fora</th>\n",
              "      <td>427</td>\n",
              "    </tr>\n",
              "    <tr>\n",
              "      <th>contagem</th>\n",
              "      <td>426</td>\n",
              "    </tr>\n",
              "    <tr>\n",
              "      <th>sao goncalo</th>\n",
              "      <td>409</td>\n",
              "    </tr>\n",
              "    <tr>\n",
              "      <th>mogi das cruzes</th>\n",
              "      <td>383</td>\n",
              "    </tr>\n",
              "    <tr>\n",
              "      <th>vitoria</th>\n",
              "      <td>380</td>\n",
              "    </tr>\n",
              "  </tbody>\n",
              "</table>\n",
              "</div><br><label><b>dtype:</b> int64</label>"
            ]
          },
          "metadata": {},
          "execution_count": 315
        }
      ]
    },
    {
      "cell_type": "markdown",
      "metadata": {
        "id": "KHMEypwkSk4j"
      },
      "source": [
        "### Explore items_df"
      ]
    },
    {
      "cell_type": "code",
      "source": [
        "items_df['price'].describe()\n"
      ],
      "metadata": {
        "colab": {
          "base_uri": "https://localhost:8080/",
          "height": 335
        },
        "id": "yqS9vJk3XcDX",
        "outputId": "f2f2f7ec-10f2-401a-a217-b72127dc0890"
      },
      "execution_count": null,
      "outputs": [
        {
          "output_type": "execute_result",
          "data": {
            "text/plain": [
              "count    112650.000000\n",
              "mean        120.653739\n",
              "std         183.633928\n",
              "min           0.850000\n",
              "25%          39.900000\n",
              "50%          74.990000\n",
              "75%         134.900000\n",
              "max        6735.000000\n",
              "Name: price, dtype: float64"
            ],
            "text/html": [
              "<div>\n",
              "<style scoped>\n",
              "    .dataframe tbody tr th:only-of-type {\n",
              "        vertical-align: middle;\n",
              "    }\n",
              "\n",
              "    .dataframe tbody tr th {\n",
              "        vertical-align: top;\n",
              "    }\n",
              "\n",
              "    .dataframe thead th {\n",
              "        text-align: right;\n",
              "    }\n",
              "</style>\n",
              "<table border=\"1\" class=\"dataframe\">\n",
              "  <thead>\n",
              "    <tr style=\"text-align: right;\">\n",
              "      <th></th>\n",
              "      <th>price</th>\n",
              "    </tr>\n",
              "  </thead>\n",
              "  <tbody>\n",
              "    <tr>\n",
              "      <th>count</th>\n",
              "      <td>112650.000000</td>\n",
              "    </tr>\n",
              "    <tr>\n",
              "      <th>mean</th>\n",
              "      <td>120.653739</td>\n",
              "    </tr>\n",
              "    <tr>\n",
              "      <th>std</th>\n",
              "      <td>183.633928</td>\n",
              "    </tr>\n",
              "    <tr>\n",
              "      <th>min</th>\n",
              "      <td>0.850000</td>\n",
              "    </tr>\n",
              "    <tr>\n",
              "      <th>25%</th>\n",
              "      <td>39.900000</td>\n",
              "    </tr>\n",
              "    <tr>\n",
              "      <th>50%</th>\n",
              "      <td>74.990000</td>\n",
              "    </tr>\n",
              "    <tr>\n",
              "      <th>75%</th>\n",
              "      <td>134.900000</td>\n",
              "    </tr>\n",
              "    <tr>\n",
              "      <th>max</th>\n",
              "      <td>6735.000000</td>\n",
              "    </tr>\n",
              "  </tbody>\n",
              "</table>\n",
              "</div><br><label><b>dtype:</b> float64</label>"
            ]
          },
          "metadata": {},
          "execution_count": 290
        }
      ]
    },
    {
      "cell_type": "markdown",
      "source": [
        "Rata-rata pengeluaran customer yaitu 120 di mulai dari 0.85 hingga 6735"
      ],
      "metadata": {
        "id": "q8l6Dn82eT3i"
      }
    },
    {
      "cell_type": "code",
      "source": [
        "items_products = items_df.merge(products_df[['product_id', 'product_category_name']], on='product_id', how='left')\n",
        "items_products = items_products.merge(product_category_name_translation_df, on='product_category_name', how='left')\n",
        "category_sales = items_products.groupby('product_category_name_english')['order_id'].count().reset_index()\n",
        "category_sales = category_sales.sort_values(by='order_id', ascending=False)\n",
        "print(category_sales)"
      ],
      "metadata": {
        "colab": {
          "base_uri": "https://localhost:8080/"
        },
        "id": "bibcsH9Ubu56",
        "outputId": "22771110-1de2-4fec-acc1-dd09d428a277"
      },
      "execution_count": null,
      "outputs": [
        {
          "output_type": "stream",
          "name": "stdout",
          "text": [
            "   product_category_name_english  order_id\n",
            "7                 bed_bath_table     12718\n",
            "43                 health_beauty      9670\n",
            "65                sports_leisure      8641\n",
            "39               furniture_decor      8334\n",
            "15         computers_accessories      7827\n",
            "..                           ...       ...\n",
            "3          arts_and_craftmanship        24\n",
            "52                    la_cuisine        14\n",
            "11             cds_dvds_musicals        14\n",
            "29     fashion_childrens_clothes         8\n",
            "61         security_and_services         2\n",
            "\n",
            "[71 rows x 2 columns]\n"
          ]
        }
      ]
    },
    {
      "cell_type": "markdown",
      "source": [
        "Menampilkan Kategori Product dari penggabungan data item dengan product untuk menghitung berapa banyak kategori product, lalu penggabungan product dengan product translation untuk mentransalte menjadi bahasa inggris lalu di urutkan dari besar ke kecil"
      ],
      "metadata": {
        "id": "aAd24Glpdb5R"
      }
    },
    {
      "cell_type": "markdown",
      "source": [
        "### Explore products_df"
      ],
      "metadata": {
        "id": "Ub-_jS0ZUzro"
      }
    },
    {
      "cell_type": "code",
      "source": [
        "products_english = products_df.merge(product_category_name_translation_df, on='product_category_name', how='left')"
      ],
      "metadata": {
        "id": "AjJpNsCcfC2-"
      },
      "execution_count": null,
      "outputs": []
    },
    {
      "cell_type": "code",
      "source": [
        "products_english['product_category_name_english'].value_counts().head(10)"
      ],
      "metadata": {
        "colab": {
          "base_uri": "https://localhost:8080/",
          "height": 429
        },
        "id": "St3DPo2efYlC",
        "outputId": "43768d66-d7ab-4d07-81c2-ce62aeb83a53"
      },
      "execution_count": null,
      "outputs": [
        {
          "output_type": "execute_result",
          "data": {
            "text/plain": [
              "product_category_name_english\n",
              "bed_bath_table           3639\n",
              "sports_leisure           2867\n",
              "furniture_decor          2657\n",
              "health_beauty            2444\n",
              "housewares               2335\n",
              "auto                     1900\n",
              "computers_accessories    1639\n",
              "toys                     1411\n",
              "watches_gifts            1329\n",
              "telephony                1134\n",
              "Name: count, dtype: int64"
            ],
            "text/html": [
              "<div>\n",
              "<style scoped>\n",
              "    .dataframe tbody tr th:only-of-type {\n",
              "        vertical-align: middle;\n",
              "    }\n",
              "\n",
              "    .dataframe tbody tr th {\n",
              "        vertical-align: top;\n",
              "    }\n",
              "\n",
              "    .dataframe thead th {\n",
              "        text-align: right;\n",
              "    }\n",
              "</style>\n",
              "<table border=\"1\" class=\"dataframe\">\n",
              "  <thead>\n",
              "    <tr style=\"text-align: right;\">\n",
              "      <th></th>\n",
              "      <th>count</th>\n",
              "    </tr>\n",
              "    <tr>\n",
              "      <th>product_category_name_english</th>\n",
              "      <th></th>\n",
              "    </tr>\n",
              "  </thead>\n",
              "  <tbody>\n",
              "    <tr>\n",
              "      <th>bed_bath_table</th>\n",
              "      <td>3639</td>\n",
              "    </tr>\n",
              "    <tr>\n",
              "      <th>sports_leisure</th>\n",
              "      <td>2867</td>\n",
              "    </tr>\n",
              "    <tr>\n",
              "      <th>furniture_decor</th>\n",
              "      <td>2657</td>\n",
              "    </tr>\n",
              "    <tr>\n",
              "      <th>health_beauty</th>\n",
              "      <td>2444</td>\n",
              "    </tr>\n",
              "    <tr>\n",
              "      <th>housewares</th>\n",
              "      <td>2335</td>\n",
              "    </tr>\n",
              "    <tr>\n",
              "      <th>auto</th>\n",
              "      <td>1900</td>\n",
              "    </tr>\n",
              "    <tr>\n",
              "      <th>computers_accessories</th>\n",
              "      <td>1639</td>\n",
              "    </tr>\n",
              "    <tr>\n",
              "      <th>toys</th>\n",
              "      <td>1411</td>\n",
              "    </tr>\n",
              "    <tr>\n",
              "      <th>watches_gifts</th>\n",
              "      <td>1329</td>\n",
              "    </tr>\n",
              "    <tr>\n",
              "      <th>telephony</th>\n",
              "      <td>1134</td>\n",
              "    </tr>\n",
              "  </tbody>\n",
              "</table>\n",
              "</div><br><label><b>dtype:</b> int64</label>"
            ]
          },
          "metadata": {},
          "execution_count": 293
        }
      ]
    },
    {
      "cell_type": "markdown",
      "source": [
        "Menampilkan Produk apa yang banyak dijual oleh seller dengan menggabungkan data products_df dan product_category_name_translation_df untuk mendapatkan nama product dalam bahasa inggris"
      ],
      "metadata": {
        "id": "aWuPe5kBXv4x"
      }
    },
    {
      "cell_type": "markdown",
      "source": [
        "### Explore payments_df"
      ],
      "metadata": {
        "id": "kN0goMc7XsDf"
      }
    },
    {
      "cell_type": "code",
      "source": [
        "payments_orders = payments_df.merge(orders_df[['order_id', 'order_purchase_timestamp']], on='order_id', how='inner')\n",
        "payments_orders['order_purchase_timestamp'] = pd.to_datetime(payments_orders['order_purchase_timestamp'])\n",
        "monthly_spending = payments_orders.groupby(payments_orders['order_purchase_timestamp'].dt.to_period('M'))['payment_value'].sum().reset_index()\n",
        "monthly_spending['order_purchase_timestamp'] = monthly_spending['order_purchase_timestamp'].astype(str)\n",
        "monthly_spending"
      ],
      "metadata": {
        "colab": {
          "base_uri": "https://localhost:8080/",
          "height": 833
        },
        "collapsed": true,
        "id": "BBquq26ucXmN",
        "outputId": "6a6b283f-f43c-4ba0-d979-67b6be59921f"
      },
      "execution_count": null,
      "outputs": [
        {
          "output_type": "execute_result",
          "data": {
            "text/plain": [
              "   order_purchase_timestamp  payment_value\n",
              "0                   2016-09         252.24\n",
              "1                   2016-10       59090.48\n",
              "2                   2016-12          19.62\n",
              "3                   2017-01      138488.04\n",
              "4                   2017-02      291908.01\n",
              "5                   2017-03      449863.60\n",
              "6                   2017-04      417788.03\n",
              "7                   2017-05      592918.82\n",
              "8                   2017-06      511276.38\n",
              "9                   2017-07      592382.92\n",
              "10                  2017-08      674396.32\n",
              "11                  2017-09      727762.45\n",
              "12                  2017-10      779677.88\n",
              "13                  2017-11     1194882.80\n",
              "14                  2017-12      878401.48\n",
              "15                  2018-01     1115004.18\n",
              "16                  2018-02      992463.34\n",
              "17                  2018-03     1159652.12\n",
              "18                  2018-04     1160785.48\n",
              "19                  2018-05     1153982.15\n",
              "20                  2018-06     1023880.50\n",
              "21                  2018-07     1066540.75\n",
              "22                  2018-08     1022425.32\n",
              "23                  2018-09        4439.54\n",
              "24                  2018-10         589.67"
            ],
            "text/html": [
              "\n",
              "  <div id=\"df-21baad4d-4dc1-4a96-bd51-02611baf5478\" class=\"colab-df-container\">\n",
              "    <div>\n",
              "<style scoped>\n",
              "    .dataframe tbody tr th:only-of-type {\n",
              "        vertical-align: middle;\n",
              "    }\n",
              "\n",
              "    .dataframe tbody tr th {\n",
              "        vertical-align: top;\n",
              "    }\n",
              "\n",
              "    .dataframe thead th {\n",
              "        text-align: right;\n",
              "    }\n",
              "</style>\n",
              "<table border=\"1\" class=\"dataframe\">\n",
              "  <thead>\n",
              "    <tr style=\"text-align: right;\">\n",
              "      <th></th>\n",
              "      <th>order_purchase_timestamp</th>\n",
              "      <th>payment_value</th>\n",
              "    </tr>\n",
              "  </thead>\n",
              "  <tbody>\n",
              "    <tr>\n",
              "      <th>0</th>\n",
              "      <td>2016-09</td>\n",
              "      <td>252.24</td>\n",
              "    </tr>\n",
              "    <tr>\n",
              "      <th>1</th>\n",
              "      <td>2016-10</td>\n",
              "      <td>59090.48</td>\n",
              "    </tr>\n",
              "    <tr>\n",
              "      <th>2</th>\n",
              "      <td>2016-12</td>\n",
              "      <td>19.62</td>\n",
              "    </tr>\n",
              "    <tr>\n",
              "      <th>3</th>\n",
              "      <td>2017-01</td>\n",
              "      <td>138488.04</td>\n",
              "    </tr>\n",
              "    <tr>\n",
              "      <th>4</th>\n",
              "      <td>2017-02</td>\n",
              "      <td>291908.01</td>\n",
              "    </tr>\n",
              "    <tr>\n",
              "      <th>5</th>\n",
              "      <td>2017-03</td>\n",
              "      <td>449863.60</td>\n",
              "    </tr>\n",
              "    <tr>\n",
              "      <th>6</th>\n",
              "      <td>2017-04</td>\n",
              "      <td>417788.03</td>\n",
              "    </tr>\n",
              "    <tr>\n",
              "      <th>7</th>\n",
              "      <td>2017-05</td>\n",
              "      <td>592918.82</td>\n",
              "    </tr>\n",
              "    <tr>\n",
              "      <th>8</th>\n",
              "      <td>2017-06</td>\n",
              "      <td>511276.38</td>\n",
              "    </tr>\n",
              "    <tr>\n",
              "      <th>9</th>\n",
              "      <td>2017-07</td>\n",
              "      <td>592382.92</td>\n",
              "    </tr>\n",
              "    <tr>\n",
              "      <th>10</th>\n",
              "      <td>2017-08</td>\n",
              "      <td>674396.32</td>\n",
              "    </tr>\n",
              "    <tr>\n",
              "      <th>11</th>\n",
              "      <td>2017-09</td>\n",
              "      <td>727762.45</td>\n",
              "    </tr>\n",
              "    <tr>\n",
              "      <th>12</th>\n",
              "      <td>2017-10</td>\n",
              "      <td>779677.88</td>\n",
              "    </tr>\n",
              "    <tr>\n",
              "      <th>13</th>\n",
              "      <td>2017-11</td>\n",
              "      <td>1194882.80</td>\n",
              "    </tr>\n",
              "    <tr>\n",
              "      <th>14</th>\n",
              "      <td>2017-12</td>\n",
              "      <td>878401.48</td>\n",
              "    </tr>\n",
              "    <tr>\n",
              "      <th>15</th>\n",
              "      <td>2018-01</td>\n",
              "      <td>1115004.18</td>\n",
              "    </tr>\n",
              "    <tr>\n",
              "      <th>16</th>\n",
              "      <td>2018-02</td>\n",
              "      <td>992463.34</td>\n",
              "    </tr>\n",
              "    <tr>\n",
              "      <th>17</th>\n",
              "      <td>2018-03</td>\n",
              "      <td>1159652.12</td>\n",
              "    </tr>\n",
              "    <tr>\n",
              "      <th>18</th>\n",
              "      <td>2018-04</td>\n",
              "      <td>1160785.48</td>\n",
              "    </tr>\n",
              "    <tr>\n",
              "      <th>19</th>\n",
              "      <td>2018-05</td>\n",
              "      <td>1153982.15</td>\n",
              "    </tr>\n",
              "    <tr>\n",
              "      <th>20</th>\n",
              "      <td>2018-06</td>\n",
              "      <td>1023880.50</td>\n",
              "    </tr>\n",
              "    <tr>\n",
              "      <th>21</th>\n",
              "      <td>2018-07</td>\n",
              "      <td>1066540.75</td>\n",
              "    </tr>\n",
              "    <tr>\n",
              "      <th>22</th>\n",
              "      <td>2018-08</td>\n",
              "      <td>1022425.32</td>\n",
              "    </tr>\n",
              "    <tr>\n",
              "      <th>23</th>\n",
              "      <td>2018-09</td>\n",
              "      <td>4439.54</td>\n",
              "    </tr>\n",
              "    <tr>\n",
              "      <th>24</th>\n",
              "      <td>2018-10</td>\n",
              "      <td>589.67</td>\n",
              "    </tr>\n",
              "  </tbody>\n",
              "</table>\n",
              "</div>\n",
              "    <div class=\"colab-df-buttons\">\n",
              "\n",
              "  <div class=\"colab-df-container\">\n",
              "    <button class=\"colab-df-convert\" onclick=\"convertToInteractive('df-21baad4d-4dc1-4a96-bd51-02611baf5478')\"\n",
              "            title=\"Convert this dataframe to an interactive table.\"\n",
              "            style=\"display:none;\">\n",
              "\n",
              "  <svg xmlns=\"http://www.w3.org/2000/svg\" height=\"24px\" viewBox=\"0 -960 960 960\">\n",
              "    <path d=\"M120-120v-720h720v720H120Zm60-500h600v-160H180v160Zm220 220h160v-160H400v160Zm0 220h160v-160H400v160ZM180-400h160v-160H180v160Zm440 0h160v-160H620v160ZM180-180h160v-160H180v160Zm440 0h160v-160H620v160Z\"/>\n",
              "  </svg>\n",
              "    </button>\n",
              "\n",
              "  <style>\n",
              "    .colab-df-container {\n",
              "      display:flex;\n",
              "      gap: 12px;\n",
              "    }\n",
              "\n",
              "    .colab-df-convert {\n",
              "      background-color: #E8F0FE;\n",
              "      border: none;\n",
              "      border-radius: 50%;\n",
              "      cursor: pointer;\n",
              "      display: none;\n",
              "      fill: #1967D2;\n",
              "      height: 32px;\n",
              "      padding: 0 0 0 0;\n",
              "      width: 32px;\n",
              "    }\n",
              "\n",
              "    .colab-df-convert:hover {\n",
              "      background-color: #E2EBFA;\n",
              "      box-shadow: 0px 1px 2px rgba(60, 64, 67, 0.3), 0px 1px 3px 1px rgba(60, 64, 67, 0.15);\n",
              "      fill: #174EA6;\n",
              "    }\n",
              "\n",
              "    .colab-df-buttons div {\n",
              "      margin-bottom: 4px;\n",
              "    }\n",
              "\n",
              "    [theme=dark] .colab-df-convert {\n",
              "      background-color: #3B4455;\n",
              "      fill: #D2E3FC;\n",
              "    }\n",
              "\n",
              "    [theme=dark] .colab-df-convert:hover {\n",
              "      background-color: #434B5C;\n",
              "      box-shadow: 0px 1px 3px 1px rgba(0, 0, 0, 0.15);\n",
              "      filter: drop-shadow(0px 1px 2px rgba(0, 0, 0, 0.3));\n",
              "      fill: #FFFFFF;\n",
              "    }\n",
              "  </style>\n",
              "\n",
              "    <script>\n",
              "      const buttonEl =\n",
              "        document.querySelector('#df-21baad4d-4dc1-4a96-bd51-02611baf5478 button.colab-df-convert');\n",
              "      buttonEl.style.display =\n",
              "        google.colab.kernel.accessAllowed ? 'block' : 'none';\n",
              "\n",
              "      async function convertToInteractive(key) {\n",
              "        const element = document.querySelector('#df-21baad4d-4dc1-4a96-bd51-02611baf5478');\n",
              "        const dataTable =\n",
              "          await google.colab.kernel.invokeFunction('convertToInteractive',\n",
              "                                                    [key], {});\n",
              "        if (!dataTable) return;\n",
              "\n",
              "        const docLinkHtml = 'Like what you see? Visit the ' +\n",
              "          '<a target=\"_blank\" href=https://colab.research.google.com/notebooks/data_table.ipynb>data table notebook</a>'\n",
              "          + ' to learn more about interactive tables.';\n",
              "        element.innerHTML = '';\n",
              "        dataTable['output_type'] = 'display_data';\n",
              "        await google.colab.output.renderOutput(dataTable, element);\n",
              "        const docLink = document.createElement('div');\n",
              "        docLink.innerHTML = docLinkHtml;\n",
              "        element.appendChild(docLink);\n",
              "      }\n",
              "    </script>\n",
              "  </div>\n",
              "\n",
              "\n",
              "<div id=\"df-beb49db1-2e12-4c00-b56b-a0aac7ee9382\">\n",
              "  <button class=\"colab-df-quickchart\" onclick=\"quickchart('df-beb49db1-2e12-4c00-b56b-a0aac7ee9382')\"\n",
              "            title=\"Suggest charts\"\n",
              "            style=\"display:none;\">\n",
              "\n",
              "<svg xmlns=\"http://www.w3.org/2000/svg\" height=\"24px\"viewBox=\"0 0 24 24\"\n",
              "     width=\"24px\">\n",
              "    <g>\n",
              "        <path d=\"M19 3H5c-1.1 0-2 .9-2 2v14c0 1.1.9 2 2 2h14c1.1 0 2-.9 2-2V5c0-1.1-.9-2-2-2zM9 17H7v-7h2v7zm4 0h-2V7h2v10zm4 0h-2v-4h2v4z\"/>\n",
              "    </g>\n",
              "</svg>\n",
              "  </button>\n",
              "\n",
              "<style>\n",
              "  .colab-df-quickchart {\n",
              "      --bg-color: #E8F0FE;\n",
              "      --fill-color: #1967D2;\n",
              "      --hover-bg-color: #E2EBFA;\n",
              "      --hover-fill-color: #174EA6;\n",
              "      --disabled-fill-color: #AAA;\n",
              "      --disabled-bg-color: #DDD;\n",
              "  }\n",
              "\n",
              "  [theme=dark] .colab-df-quickchart {\n",
              "      --bg-color: #3B4455;\n",
              "      --fill-color: #D2E3FC;\n",
              "      --hover-bg-color: #434B5C;\n",
              "      --hover-fill-color: #FFFFFF;\n",
              "      --disabled-bg-color: #3B4455;\n",
              "      --disabled-fill-color: #666;\n",
              "  }\n",
              "\n",
              "  .colab-df-quickchart {\n",
              "    background-color: var(--bg-color);\n",
              "    border: none;\n",
              "    border-radius: 50%;\n",
              "    cursor: pointer;\n",
              "    display: none;\n",
              "    fill: var(--fill-color);\n",
              "    height: 32px;\n",
              "    padding: 0;\n",
              "    width: 32px;\n",
              "  }\n",
              "\n",
              "  .colab-df-quickchart:hover {\n",
              "    background-color: var(--hover-bg-color);\n",
              "    box-shadow: 0 1px 2px rgba(60, 64, 67, 0.3), 0 1px 3px 1px rgba(60, 64, 67, 0.15);\n",
              "    fill: var(--button-hover-fill-color);\n",
              "  }\n",
              "\n",
              "  .colab-df-quickchart-complete:disabled,\n",
              "  .colab-df-quickchart-complete:disabled:hover {\n",
              "    background-color: var(--disabled-bg-color);\n",
              "    fill: var(--disabled-fill-color);\n",
              "    box-shadow: none;\n",
              "  }\n",
              "\n",
              "  .colab-df-spinner {\n",
              "    border: 2px solid var(--fill-color);\n",
              "    border-color: transparent;\n",
              "    border-bottom-color: var(--fill-color);\n",
              "    animation:\n",
              "      spin 1s steps(1) infinite;\n",
              "  }\n",
              "\n",
              "  @keyframes spin {\n",
              "    0% {\n",
              "      border-color: transparent;\n",
              "      border-bottom-color: var(--fill-color);\n",
              "      border-left-color: var(--fill-color);\n",
              "    }\n",
              "    20% {\n",
              "      border-color: transparent;\n",
              "      border-left-color: var(--fill-color);\n",
              "      border-top-color: var(--fill-color);\n",
              "    }\n",
              "    30% {\n",
              "      border-color: transparent;\n",
              "      border-left-color: var(--fill-color);\n",
              "      border-top-color: var(--fill-color);\n",
              "      border-right-color: var(--fill-color);\n",
              "    }\n",
              "    40% {\n",
              "      border-color: transparent;\n",
              "      border-right-color: var(--fill-color);\n",
              "      border-top-color: var(--fill-color);\n",
              "    }\n",
              "    60% {\n",
              "      border-color: transparent;\n",
              "      border-right-color: var(--fill-color);\n",
              "    }\n",
              "    80% {\n",
              "      border-color: transparent;\n",
              "      border-right-color: var(--fill-color);\n",
              "      border-bottom-color: var(--fill-color);\n",
              "    }\n",
              "    90% {\n",
              "      border-color: transparent;\n",
              "      border-bottom-color: var(--fill-color);\n",
              "    }\n",
              "  }\n",
              "</style>\n",
              "\n",
              "  <script>\n",
              "    async function quickchart(key) {\n",
              "      const quickchartButtonEl =\n",
              "        document.querySelector('#' + key + ' button');\n",
              "      quickchartButtonEl.disabled = true;  // To prevent multiple clicks.\n",
              "      quickchartButtonEl.classList.add('colab-df-spinner');\n",
              "      try {\n",
              "        const charts = await google.colab.kernel.invokeFunction(\n",
              "            'suggestCharts', [key], {});\n",
              "      } catch (error) {\n",
              "        console.error('Error during call to suggestCharts:', error);\n",
              "      }\n",
              "      quickchartButtonEl.classList.remove('colab-df-spinner');\n",
              "      quickchartButtonEl.classList.add('colab-df-quickchart-complete');\n",
              "    }\n",
              "    (() => {\n",
              "      let quickchartButtonEl =\n",
              "        document.querySelector('#df-beb49db1-2e12-4c00-b56b-a0aac7ee9382 button');\n",
              "      quickchartButtonEl.style.display =\n",
              "        google.colab.kernel.accessAllowed ? 'block' : 'none';\n",
              "    })();\n",
              "  </script>\n",
              "</div>\n",
              "\n",
              "  <div id=\"id_1fa049dd-63bb-40d6-9f3b-f610cebca3c8\">\n",
              "    <style>\n",
              "      .colab-df-generate {\n",
              "        background-color: #E8F0FE;\n",
              "        border: none;\n",
              "        border-radius: 50%;\n",
              "        cursor: pointer;\n",
              "        display: none;\n",
              "        fill: #1967D2;\n",
              "        height: 32px;\n",
              "        padding: 0 0 0 0;\n",
              "        width: 32px;\n",
              "      }\n",
              "\n",
              "      .colab-df-generate:hover {\n",
              "        background-color: #E2EBFA;\n",
              "        box-shadow: 0px 1px 2px rgba(60, 64, 67, 0.3), 0px 1px 3px 1px rgba(60, 64, 67, 0.15);\n",
              "        fill: #174EA6;\n",
              "      }\n",
              "\n",
              "      [theme=dark] .colab-df-generate {\n",
              "        background-color: #3B4455;\n",
              "        fill: #D2E3FC;\n",
              "      }\n",
              "\n",
              "      [theme=dark] .colab-df-generate:hover {\n",
              "        background-color: #434B5C;\n",
              "        box-shadow: 0px 1px 3px 1px rgba(0, 0, 0, 0.15);\n",
              "        filter: drop-shadow(0px 1px 2px rgba(0, 0, 0, 0.3));\n",
              "        fill: #FFFFFF;\n",
              "      }\n",
              "    </style>\n",
              "    <button class=\"colab-df-generate\" onclick=\"generateWithVariable('monthly_spending')\"\n",
              "            title=\"Generate code using this dataframe.\"\n",
              "            style=\"display:none;\">\n",
              "\n",
              "  <svg xmlns=\"http://www.w3.org/2000/svg\" height=\"24px\"viewBox=\"0 0 24 24\"\n",
              "       width=\"24px\">\n",
              "    <path d=\"M7,19H8.4L18.45,9,17,7.55,7,17.6ZM5,21V16.75L18.45,3.32a2,2,0,0,1,2.83,0l1.4,1.43a1.91,1.91,0,0,1,.58,1.4,1.91,1.91,0,0,1-.58,1.4L9.25,21ZM18.45,9,17,7.55Zm-12,3A5.31,5.31,0,0,0,4.9,8.1,5.31,5.31,0,0,0,1,6.5,5.31,5.31,0,0,0,4.9,4.9,5.31,5.31,0,0,0,6.5,1,5.31,5.31,0,0,0,8.1,4.9,5.31,5.31,0,0,0,12,6.5,5.46,5.46,0,0,0,6.5,12Z\"/>\n",
              "  </svg>\n",
              "    </button>\n",
              "    <script>\n",
              "      (() => {\n",
              "      const buttonEl =\n",
              "        document.querySelector('#id_1fa049dd-63bb-40d6-9f3b-f610cebca3c8 button.colab-df-generate');\n",
              "      buttonEl.style.display =\n",
              "        google.colab.kernel.accessAllowed ? 'block' : 'none';\n",
              "\n",
              "      buttonEl.onclick = () => {\n",
              "        google.colab.notebook.generateWithVariable('monthly_spending');\n",
              "      }\n",
              "      })();\n",
              "    </script>\n",
              "  </div>\n",
              "\n",
              "    </div>\n",
              "  </div>\n"
            ],
            "application/vnd.google.colaboratory.intrinsic+json": {
              "type": "dataframe",
              "variable_name": "monthly_spending",
              "summary": "{\n  \"name\": \"monthly_spending\",\n  \"rows\": 25,\n  \"fields\": [\n    {\n      \"column\": \"order_purchase_timestamp\",\n      \"properties\": {\n        \"dtype\": \"object\",\n        \"num_unique_values\": 25,\n        \"samples\": [\n          \"2017-06\",\n          \"2018-02\",\n          \"2016-09\"\n        ],\n        \"semantic_type\": \"\",\n        \"description\": \"\"\n      }\n    },\n    {\n      \"column\": \"payment_value\",\n      \"properties\": {\n        \"dtype\": \"number\",\n        \"std\": 431679.0017892156,\n        \"min\": 19.62,\n        \"max\": 1194882.8,\n        \"num_unique_values\": 25,\n        \"samples\": [\n          511276.38,\n          992463.34,\n          252.24\n        ],\n        \"semantic_type\": \"\",\n        \"description\": \"\"\n      }\n    }\n  ]\n}"
            }
          },
          "metadata": {},
          "execution_count": 294
        }
      ]
    },
    {
      "cell_type": "markdown",
      "source": [
        "Menampilkan pengeluaran customer tiap bulannya dengan menggabungkan data dari payments_df dan orders_df"
      ],
      "metadata": {
        "id": "x4kE23Kkf-N1"
      }
    },
    {
      "cell_type": "code",
      "source": [
        "payments_df['payment_type'].value_counts()"
      ],
      "metadata": {
        "colab": {
          "base_uri": "https://localhost:8080/",
          "height": 272
        },
        "id": "n4pv1TEJYAIo",
        "outputId": "358a0f4c-530d-47cb-abef-886713c1040d"
      },
      "execution_count": null,
      "outputs": [
        {
          "output_type": "execute_result",
          "data": {
            "text/plain": [
              "payment_type\n",
              "credit_card    76795\n",
              "boleto         19784\n",
              "voucher         5775\n",
              "debit_card      1529\n",
              "not_defined        3\n",
              "Name: count, dtype: int64"
            ],
            "text/html": [
              "<div>\n",
              "<style scoped>\n",
              "    .dataframe tbody tr th:only-of-type {\n",
              "        vertical-align: middle;\n",
              "    }\n",
              "\n",
              "    .dataframe tbody tr th {\n",
              "        vertical-align: top;\n",
              "    }\n",
              "\n",
              "    .dataframe thead th {\n",
              "        text-align: right;\n",
              "    }\n",
              "</style>\n",
              "<table border=\"1\" class=\"dataframe\">\n",
              "  <thead>\n",
              "    <tr style=\"text-align: right;\">\n",
              "      <th></th>\n",
              "      <th>count</th>\n",
              "    </tr>\n",
              "    <tr>\n",
              "      <th>payment_type</th>\n",
              "      <th></th>\n",
              "    </tr>\n",
              "  </thead>\n",
              "  <tbody>\n",
              "    <tr>\n",
              "      <th>credit_card</th>\n",
              "      <td>76795</td>\n",
              "    </tr>\n",
              "    <tr>\n",
              "      <th>boleto</th>\n",
              "      <td>19784</td>\n",
              "    </tr>\n",
              "    <tr>\n",
              "      <th>voucher</th>\n",
              "      <td>5775</td>\n",
              "    </tr>\n",
              "    <tr>\n",
              "      <th>debit_card</th>\n",
              "      <td>1529</td>\n",
              "    </tr>\n",
              "    <tr>\n",
              "      <th>not_defined</th>\n",
              "      <td>3</td>\n",
              "    </tr>\n",
              "  </tbody>\n",
              "</table>\n",
              "</div><br><label><b>dtype:</b> int64</label>"
            ]
          },
          "metadata": {},
          "execution_count": 295
        }
      ]
    },
    {
      "cell_type": "markdown",
      "source": [
        "Menampilkan Kategori Pembayaran paling banyak yang dipakai customer"
      ],
      "metadata": {
        "id": "Pcfq9jB1YCfc"
      }
    },
    {
      "cell_type": "code",
      "source": [
        "payments_df['payment_installments'].describe()"
      ],
      "metadata": {
        "colab": {
          "base_uri": "https://localhost:8080/",
          "height": 335
        },
        "id": "zqgYuCoNYIlc",
        "outputId": "d5809789-97a1-46bb-baf3-70ac3aeb7d89"
      },
      "execution_count": null,
      "outputs": [
        {
          "output_type": "execute_result",
          "data": {
            "text/plain": [
              "count    103886.000000\n",
              "mean          2.853349\n",
              "std           2.687051\n",
              "min           0.000000\n",
              "25%           1.000000\n",
              "50%           1.000000\n",
              "75%           4.000000\n",
              "max          24.000000\n",
              "Name: payment_installments, dtype: float64"
            ],
            "text/html": [
              "<div>\n",
              "<style scoped>\n",
              "    .dataframe tbody tr th:only-of-type {\n",
              "        vertical-align: middle;\n",
              "    }\n",
              "\n",
              "    .dataframe tbody tr th {\n",
              "        vertical-align: top;\n",
              "    }\n",
              "\n",
              "    .dataframe thead th {\n",
              "        text-align: right;\n",
              "    }\n",
              "</style>\n",
              "<table border=\"1\" class=\"dataframe\">\n",
              "  <thead>\n",
              "    <tr style=\"text-align: right;\">\n",
              "      <th></th>\n",
              "      <th>payment_installments</th>\n",
              "    </tr>\n",
              "  </thead>\n",
              "  <tbody>\n",
              "    <tr>\n",
              "      <th>count</th>\n",
              "      <td>103886.000000</td>\n",
              "    </tr>\n",
              "    <tr>\n",
              "      <th>mean</th>\n",
              "      <td>2.853349</td>\n",
              "    </tr>\n",
              "    <tr>\n",
              "      <th>std</th>\n",
              "      <td>2.687051</td>\n",
              "    </tr>\n",
              "    <tr>\n",
              "      <th>min</th>\n",
              "      <td>0.000000</td>\n",
              "    </tr>\n",
              "    <tr>\n",
              "      <th>25%</th>\n",
              "      <td>1.000000</td>\n",
              "    </tr>\n",
              "    <tr>\n",
              "      <th>50%</th>\n",
              "      <td>1.000000</td>\n",
              "    </tr>\n",
              "    <tr>\n",
              "      <th>75%</th>\n",
              "      <td>4.000000</td>\n",
              "    </tr>\n",
              "    <tr>\n",
              "      <th>max</th>\n",
              "      <td>24.000000</td>\n",
              "    </tr>\n",
              "  </tbody>\n",
              "</table>\n",
              "</div><br><label><b>dtype:</b> float64</label>"
            ]
          },
          "metadata": {},
          "execution_count": 296
        }
      ]
    },
    {
      "cell_type": "markdown",
      "source": [
        "Rata-Rata Cicilan pembayran yang dilakukan customer adalah 2.8 dan cicilan paling banyak yaitu 24"
      ],
      "metadata": {
        "id": "4foaJ5t0YL-o"
      }
    },
    {
      "cell_type": "code",
      "source": [
        "payments_df['payment_value'].sum()"
      ],
      "metadata": {
        "colab": {
          "base_uri": "https://localhost:8080/"
        },
        "id": "6CzP_VwWYYy2",
        "outputId": "4b7a2a82-2d7f-45d4-f58f-f5c6774d447c"
      },
      "execution_count": null,
      "outputs": [
        {
          "output_type": "execute_result",
          "data": {
            "text/plain": [
              "16008872.12"
            ]
          },
          "metadata": {},
          "execution_count": 297
        }
      ]
    },
    {
      "cell_type": "code",
      "source": [
        "payments_orders = payments_df.merge(orders_df[['order_id', 'order_purchase_timestamp']], on='order_id', how='inner')\n",
        "one_year_ago = payments_orders['order_purchase_timestamp'].max() - pd.DateOffset(years=1)\n",
        "recent_payments = payments_orders[payments_orders['order_purchase_timestamp'] >= one_year_ago]\n",
        "customer_spending = recent_payments.groupby('order_id')['payment_value'].sum().reset_index()\n",
        "customer_spending.describe()"
      ],
      "metadata": {
        "colab": {
          "base_uri": "https://localhost:8080/",
          "height": 300
        },
        "id": "ALxyNHDGhMlA",
        "outputId": "45f257e3-a7bd-4e64-c292-753c31975dd0"
      },
      "execution_count": null,
      "outputs": [
        {
          "output_type": "execute_result",
          "data": {
            "text/plain": [
              "       payment_value\n",
              "count   69345.000000\n",
              "mean      160.394483\n",
              "std       213.308417\n",
              "min         0.000000\n",
              "25%        62.230000\n",
              "50%       106.430000\n",
              "75%       177.480000\n",
              "max      7274.880000"
            ],
            "text/html": [
              "\n",
              "  <div id=\"df-1802e503-071e-4ae6-a409-2a394bd38804\" class=\"colab-df-container\">\n",
              "    <div>\n",
              "<style scoped>\n",
              "    .dataframe tbody tr th:only-of-type {\n",
              "        vertical-align: middle;\n",
              "    }\n",
              "\n",
              "    .dataframe tbody tr th {\n",
              "        vertical-align: top;\n",
              "    }\n",
              "\n",
              "    .dataframe thead th {\n",
              "        text-align: right;\n",
              "    }\n",
              "</style>\n",
              "<table border=\"1\" class=\"dataframe\">\n",
              "  <thead>\n",
              "    <tr style=\"text-align: right;\">\n",
              "      <th></th>\n",
              "      <th>payment_value</th>\n",
              "    </tr>\n",
              "  </thead>\n",
              "  <tbody>\n",
              "    <tr>\n",
              "      <th>count</th>\n",
              "      <td>69345.000000</td>\n",
              "    </tr>\n",
              "    <tr>\n",
              "      <th>mean</th>\n",
              "      <td>160.394483</td>\n",
              "    </tr>\n",
              "    <tr>\n",
              "      <th>std</th>\n",
              "      <td>213.308417</td>\n",
              "    </tr>\n",
              "    <tr>\n",
              "      <th>min</th>\n",
              "      <td>0.000000</td>\n",
              "    </tr>\n",
              "    <tr>\n",
              "      <th>25%</th>\n",
              "      <td>62.230000</td>\n",
              "    </tr>\n",
              "    <tr>\n",
              "      <th>50%</th>\n",
              "      <td>106.430000</td>\n",
              "    </tr>\n",
              "    <tr>\n",
              "      <th>75%</th>\n",
              "      <td>177.480000</td>\n",
              "    </tr>\n",
              "    <tr>\n",
              "      <th>max</th>\n",
              "      <td>7274.880000</td>\n",
              "    </tr>\n",
              "  </tbody>\n",
              "</table>\n",
              "</div>\n",
              "    <div class=\"colab-df-buttons\">\n",
              "\n",
              "  <div class=\"colab-df-container\">\n",
              "    <button class=\"colab-df-convert\" onclick=\"convertToInteractive('df-1802e503-071e-4ae6-a409-2a394bd38804')\"\n",
              "            title=\"Convert this dataframe to an interactive table.\"\n",
              "            style=\"display:none;\">\n",
              "\n",
              "  <svg xmlns=\"http://www.w3.org/2000/svg\" height=\"24px\" viewBox=\"0 -960 960 960\">\n",
              "    <path d=\"M120-120v-720h720v720H120Zm60-500h600v-160H180v160Zm220 220h160v-160H400v160Zm0 220h160v-160H400v160ZM180-400h160v-160H180v160Zm440 0h160v-160H620v160ZM180-180h160v-160H180v160Zm440 0h160v-160H620v160Z\"/>\n",
              "  </svg>\n",
              "    </button>\n",
              "\n",
              "  <style>\n",
              "    .colab-df-container {\n",
              "      display:flex;\n",
              "      gap: 12px;\n",
              "    }\n",
              "\n",
              "    .colab-df-convert {\n",
              "      background-color: #E8F0FE;\n",
              "      border: none;\n",
              "      border-radius: 50%;\n",
              "      cursor: pointer;\n",
              "      display: none;\n",
              "      fill: #1967D2;\n",
              "      height: 32px;\n",
              "      padding: 0 0 0 0;\n",
              "      width: 32px;\n",
              "    }\n",
              "\n",
              "    .colab-df-convert:hover {\n",
              "      background-color: #E2EBFA;\n",
              "      box-shadow: 0px 1px 2px rgba(60, 64, 67, 0.3), 0px 1px 3px 1px rgba(60, 64, 67, 0.15);\n",
              "      fill: #174EA6;\n",
              "    }\n",
              "\n",
              "    .colab-df-buttons div {\n",
              "      margin-bottom: 4px;\n",
              "    }\n",
              "\n",
              "    [theme=dark] .colab-df-convert {\n",
              "      background-color: #3B4455;\n",
              "      fill: #D2E3FC;\n",
              "    }\n",
              "\n",
              "    [theme=dark] .colab-df-convert:hover {\n",
              "      background-color: #434B5C;\n",
              "      box-shadow: 0px 1px 3px 1px rgba(0, 0, 0, 0.15);\n",
              "      filter: drop-shadow(0px 1px 2px rgba(0, 0, 0, 0.3));\n",
              "      fill: #FFFFFF;\n",
              "    }\n",
              "  </style>\n",
              "\n",
              "    <script>\n",
              "      const buttonEl =\n",
              "        document.querySelector('#df-1802e503-071e-4ae6-a409-2a394bd38804 button.colab-df-convert');\n",
              "      buttonEl.style.display =\n",
              "        google.colab.kernel.accessAllowed ? 'block' : 'none';\n",
              "\n",
              "      async function convertToInteractive(key) {\n",
              "        const element = document.querySelector('#df-1802e503-071e-4ae6-a409-2a394bd38804');\n",
              "        const dataTable =\n",
              "          await google.colab.kernel.invokeFunction('convertToInteractive',\n",
              "                                                    [key], {});\n",
              "        if (!dataTable) return;\n",
              "\n",
              "        const docLinkHtml = 'Like what you see? Visit the ' +\n",
              "          '<a target=\"_blank\" href=https://colab.research.google.com/notebooks/data_table.ipynb>data table notebook</a>'\n",
              "          + ' to learn more about interactive tables.';\n",
              "        element.innerHTML = '';\n",
              "        dataTable['output_type'] = 'display_data';\n",
              "        await google.colab.output.renderOutput(dataTable, element);\n",
              "        const docLink = document.createElement('div');\n",
              "        docLink.innerHTML = docLinkHtml;\n",
              "        element.appendChild(docLink);\n",
              "      }\n",
              "    </script>\n",
              "  </div>\n",
              "\n",
              "\n",
              "<div id=\"df-38afb1a9-dc26-4870-8297-0600a51e4d68\">\n",
              "  <button class=\"colab-df-quickchart\" onclick=\"quickchart('df-38afb1a9-dc26-4870-8297-0600a51e4d68')\"\n",
              "            title=\"Suggest charts\"\n",
              "            style=\"display:none;\">\n",
              "\n",
              "<svg xmlns=\"http://www.w3.org/2000/svg\" height=\"24px\"viewBox=\"0 0 24 24\"\n",
              "     width=\"24px\">\n",
              "    <g>\n",
              "        <path d=\"M19 3H5c-1.1 0-2 .9-2 2v14c0 1.1.9 2 2 2h14c1.1 0 2-.9 2-2V5c0-1.1-.9-2-2-2zM9 17H7v-7h2v7zm4 0h-2V7h2v10zm4 0h-2v-4h2v4z\"/>\n",
              "    </g>\n",
              "</svg>\n",
              "  </button>\n",
              "\n",
              "<style>\n",
              "  .colab-df-quickchart {\n",
              "      --bg-color: #E8F0FE;\n",
              "      --fill-color: #1967D2;\n",
              "      --hover-bg-color: #E2EBFA;\n",
              "      --hover-fill-color: #174EA6;\n",
              "      --disabled-fill-color: #AAA;\n",
              "      --disabled-bg-color: #DDD;\n",
              "  }\n",
              "\n",
              "  [theme=dark] .colab-df-quickchart {\n",
              "      --bg-color: #3B4455;\n",
              "      --fill-color: #D2E3FC;\n",
              "      --hover-bg-color: #434B5C;\n",
              "      --hover-fill-color: #FFFFFF;\n",
              "      --disabled-bg-color: #3B4455;\n",
              "      --disabled-fill-color: #666;\n",
              "  }\n",
              "\n",
              "  .colab-df-quickchart {\n",
              "    background-color: var(--bg-color);\n",
              "    border: none;\n",
              "    border-radius: 50%;\n",
              "    cursor: pointer;\n",
              "    display: none;\n",
              "    fill: var(--fill-color);\n",
              "    height: 32px;\n",
              "    padding: 0;\n",
              "    width: 32px;\n",
              "  }\n",
              "\n",
              "  .colab-df-quickchart:hover {\n",
              "    background-color: var(--hover-bg-color);\n",
              "    box-shadow: 0 1px 2px rgba(60, 64, 67, 0.3), 0 1px 3px 1px rgba(60, 64, 67, 0.15);\n",
              "    fill: var(--button-hover-fill-color);\n",
              "  }\n",
              "\n",
              "  .colab-df-quickchart-complete:disabled,\n",
              "  .colab-df-quickchart-complete:disabled:hover {\n",
              "    background-color: var(--disabled-bg-color);\n",
              "    fill: var(--disabled-fill-color);\n",
              "    box-shadow: none;\n",
              "  }\n",
              "\n",
              "  .colab-df-spinner {\n",
              "    border: 2px solid var(--fill-color);\n",
              "    border-color: transparent;\n",
              "    border-bottom-color: var(--fill-color);\n",
              "    animation:\n",
              "      spin 1s steps(1) infinite;\n",
              "  }\n",
              "\n",
              "  @keyframes spin {\n",
              "    0% {\n",
              "      border-color: transparent;\n",
              "      border-bottom-color: var(--fill-color);\n",
              "      border-left-color: var(--fill-color);\n",
              "    }\n",
              "    20% {\n",
              "      border-color: transparent;\n",
              "      border-left-color: var(--fill-color);\n",
              "      border-top-color: var(--fill-color);\n",
              "    }\n",
              "    30% {\n",
              "      border-color: transparent;\n",
              "      border-left-color: var(--fill-color);\n",
              "      border-top-color: var(--fill-color);\n",
              "      border-right-color: var(--fill-color);\n",
              "    }\n",
              "    40% {\n",
              "      border-color: transparent;\n",
              "      border-right-color: var(--fill-color);\n",
              "      border-top-color: var(--fill-color);\n",
              "    }\n",
              "    60% {\n",
              "      border-color: transparent;\n",
              "      border-right-color: var(--fill-color);\n",
              "    }\n",
              "    80% {\n",
              "      border-color: transparent;\n",
              "      border-right-color: var(--fill-color);\n",
              "      border-bottom-color: var(--fill-color);\n",
              "    }\n",
              "    90% {\n",
              "      border-color: transparent;\n",
              "      border-bottom-color: var(--fill-color);\n",
              "    }\n",
              "  }\n",
              "</style>\n",
              "\n",
              "  <script>\n",
              "    async function quickchart(key) {\n",
              "      const quickchartButtonEl =\n",
              "        document.querySelector('#' + key + ' button');\n",
              "      quickchartButtonEl.disabled = true;  // To prevent multiple clicks.\n",
              "      quickchartButtonEl.classList.add('colab-df-spinner');\n",
              "      try {\n",
              "        const charts = await google.colab.kernel.invokeFunction(\n",
              "            'suggestCharts', [key], {});\n",
              "      } catch (error) {\n",
              "        console.error('Error during call to suggestCharts:', error);\n",
              "      }\n",
              "      quickchartButtonEl.classList.remove('colab-df-spinner');\n",
              "      quickchartButtonEl.classList.add('colab-df-quickchart-complete');\n",
              "    }\n",
              "    (() => {\n",
              "      let quickchartButtonEl =\n",
              "        document.querySelector('#df-38afb1a9-dc26-4870-8297-0600a51e4d68 button');\n",
              "      quickchartButtonEl.style.display =\n",
              "        google.colab.kernel.accessAllowed ? 'block' : 'none';\n",
              "    })();\n",
              "  </script>\n",
              "</div>\n",
              "\n",
              "    </div>\n",
              "  </div>\n"
            ],
            "application/vnd.google.colaboratory.intrinsic+json": {
              "type": "dataframe",
              "summary": "{\n  \"name\": \"customer_spending\",\n  \"rows\": 8,\n  \"fields\": [\n    {\n      \"column\": \"payment_value\",\n      \"properties\": {\n        \"dtype\": \"number\",\n        \"std\": 24243.089553418664,\n        \"min\": 0.0,\n        \"max\": 69345.0,\n        \"num_unique_values\": 8,\n        \"samples\": [\n          160.39448294758094,\n          106.43,\n          69345.0\n        ],\n        \"semantic_type\": \"\",\n        \"description\": \"\"\n      }\n    }\n  ]\n}"
            }
          },
          "metadata": {},
          "execution_count": 299
        }
      ]
    },
    {
      "cell_type": "markdown",
      "source": [
        "Menghitung rata-rata yang dikeluarkan per customer dalam setahun terakhir"
      ],
      "metadata": {
        "id": "vAX1uKNJhMB7"
      }
    },
    {
      "cell_type": "markdown",
      "source": [
        "Menampilkan Total Revenue/Pendapatan dari semua transaksi"
      ],
      "metadata": {
        "id": "KO_ekuXLYaTE"
      }
    },
    {
      "cell_type": "markdown",
      "source": [
        "### Explore reviews_df"
      ],
      "metadata": {
        "id": "ITFnXiA-X_fs"
      }
    },
    {
      "cell_type": "code",
      "source": [
        "reviews_df['review_score'].value_counts(normalize=True) * 100"
      ],
      "metadata": {
        "colab": {
          "base_uri": "https://localhost:8080/",
          "height": 272
        },
        "id": "HsB5NrLBYkJn",
        "outputId": "c5dc6de3-41d2-4f79-cc62-580a7a9200db"
      },
      "execution_count": null,
      "outputs": [
        {
          "output_type": "execute_result",
          "data": {
            "text/plain": [
              "review_score\n",
              "5    57.776344\n",
              "4    19.291704\n",
              "1    11.513344\n",
              "3     8.242965\n",
              "2     3.175643\n",
              "Name: proportion, dtype: float64"
            ],
            "text/html": [
              "<div>\n",
              "<style scoped>\n",
              "    .dataframe tbody tr th:only-of-type {\n",
              "        vertical-align: middle;\n",
              "    }\n",
              "\n",
              "    .dataframe tbody tr th {\n",
              "        vertical-align: top;\n",
              "    }\n",
              "\n",
              "    .dataframe thead th {\n",
              "        text-align: right;\n",
              "    }\n",
              "</style>\n",
              "<table border=\"1\" class=\"dataframe\">\n",
              "  <thead>\n",
              "    <tr style=\"text-align: right;\">\n",
              "      <th></th>\n",
              "      <th>proportion</th>\n",
              "    </tr>\n",
              "    <tr>\n",
              "      <th>review_score</th>\n",
              "      <th></th>\n",
              "    </tr>\n",
              "  </thead>\n",
              "  <tbody>\n",
              "    <tr>\n",
              "      <th>5</th>\n",
              "      <td>57.776344</td>\n",
              "    </tr>\n",
              "    <tr>\n",
              "      <th>4</th>\n",
              "      <td>19.291704</td>\n",
              "    </tr>\n",
              "    <tr>\n",
              "      <th>1</th>\n",
              "      <td>11.513344</td>\n",
              "    </tr>\n",
              "    <tr>\n",
              "      <th>3</th>\n",
              "      <td>8.242965</td>\n",
              "    </tr>\n",
              "    <tr>\n",
              "      <th>2</th>\n",
              "      <td>3.175643</td>\n",
              "    </tr>\n",
              "  </tbody>\n",
              "</table>\n",
              "</div><br><label><b>dtype:</b> float64</label>"
            ]
          },
          "metadata": {},
          "execution_count": 298
        }
      ]
    },
    {
      "cell_type": "markdown",
      "source": [
        "Menampilkan distribusi skor rating dari customer"
      ],
      "metadata": {
        "id": "EYvI_EKWYzEd"
      }
    },
    {
      "cell_type": "markdown",
      "metadata": {
        "id": "zsyZjqak8DC2"
      },
      "source": [
        "## Visualization & Explanatory Analysis"
      ]
    },
    {
      "cell_type": "markdown",
      "metadata": {
        "id": "DgHI7CiU8DC2"
      },
      "source": [
        "### Pertanyaan 1 : Kategori Product apa yang paling laku?\n"
      ]
    },
    {
      "cell_type": "code",
      "source": [
        "items_products = items_df.merge(products_df[['product_id', 'product_category_name']], on='product_id', how='left')\n",
        "items_products = items_products.merge(product_category_name_translation_df, on='product_category_name', how='left')\n",
        "category_sales = items_products.groupby('product_category_name_english')['order_id'].count().reset_index()\n",
        "category_sales = category_sales.sort_values(by='order_id', ascending=False)\n",
        "print(category_sales)"
      ],
      "metadata": {
        "colab": {
          "base_uri": "https://localhost:8080/"
        },
        "id": "vkG4j8UKo3-f",
        "outputId": "e823a94c-d782-49ff-a153-29c4623ad00d"
      },
      "execution_count": null,
      "outputs": [
        {
          "output_type": "stream",
          "name": "stdout",
          "text": [
            "   product_category_name_english  order_id\n",
            "7                 bed_bath_table     12718\n",
            "43                 health_beauty      9670\n",
            "65                sports_leisure      8641\n",
            "39               furniture_decor      8334\n",
            "15         computers_accessories      7827\n",
            "..                           ...       ...\n",
            "3          arts_and_craftmanship        24\n",
            "52                    la_cuisine        14\n",
            "11             cds_dvds_musicals        14\n",
            "29     fashion_childrens_clothes         8\n",
            "61         security_and_services         2\n",
            "\n",
            "[71 rows x 2 columns]\n"
          ]
        }
      ]
    },
    {
      "cell_type": "code",
      "source": [
        "plt.figure(figsize=(12, 6))\n",
        "top_categories = category_sales.head(10)  # Ambil 10 kategori teratas\n",
        "\n",
        "sns.barplot(y='product_category_name_english', x='order_id', hue='product_category_name_english',\n",
        "            data=top_categories, palette='Blues_r', dodge=False, legend=False)\n",
        "\n",
        "plt.title(\"Top 10 Produk Paling Laku\", fontsize=14)\n",
        "plt.xlabel(\"Jumlah Terjual\", fontsize=12)\n",
        "plt.ylabel(\"Kategori Produk\", fontsize=12)\n",
        "plt.show()\n"
      ],
      "metadata": {
        "colab": {
          "base_uri": "https://localhost:8080/",
          "height": 569
        },
        "id": "LSXxR6jBrCuS",
        "outputId": "b2f5c084-a614-4397-9cdc-131dbe536213"
      },
      "execution_count": null,
      "outputs": [
        {
          "output_type": "display_data",
          "data": {
            "text/plain": [
              "<Figure size 1200x600 with 1 Axes>"
            ],
            "image/png": "[encoded data removed]"
          },
          "metadata": {}
        }
      ]
    },
    {
      "cell_type": "markdown",
      "metadata": {
        "id": "HZxOiQ6n8DC2"
      },
      "source": [
        "### Pertanyaan 2: Seberapa sering pelanggan melakukan pembelian dalam setiap bulan?"
      ]
    },
    {
      "cell_type": "code",
      "source": [
        "orders_df['order_purchase_timestamp'] = pd.to_datetime(orders_df['order_purchase_timestamp'])\n",
        "orders_per_month = orders_df.groupby(orders_df['order_purchase_timestamp'].dt.to_period('M'))['order_id'].count().reset_index()\n",
        "orders_per_month['order_purchase_timestamp'] = orders_per_month['order_purchase_timestamp'].astype(str)\n",
        "orders_per_month"
      ],
      "metadata": {
        "colab": {
          "base_uri": "https://localhost:8080/",
          "height": 833
        },
        "id": "gEKCWS80j4Sf",
        "outputId": "e5d57909-4202-4f45-d6da-2051bffa7b64"
      },
      "execution_count": null,
      "outputs": [
        {
          "output_type": "execute_result",
          "data": {
            "text/plain": [
              "   order_purchase_timestamp  order_id\n",
              "0                   2016-09         4\n",
              "1                   2016-10       324\n",
              "2                   2016-12         1\n",
              "3                   2017-01       800\n",
              "4                   2017-02      1780\n",
              "5                   2017-03      2682\n",
              "6                   2017-04      2404\n",
              "7                   2017-05      3700\n",
              "8                   2017-06      3245\n",
              "9                   2017-07      4026\n",
              "10                  2017-08      4331\n",
              "11                  2017-09      4285\n",
              "12                  2017-10      4631\n",
              "13                  2017-11      7544\n",
              "14                  2017-12      5673\n",
              "15                  2018-01      7269\n",
              "16                  2018-02      6728\n",
              "17                  2018-03      7211\n",
              "18                  2018-04      6939\n",
              "19                  2018-05      6873\n",
              "20                  2018-06      6167\n",
              "21                  2018-07      6292\n",
              "22                  2018-08      6512\n",
              "23                  2018-09        16\n",
              "24                  2018-10         4"
            ],
            "text/html": [
              "\n",
              "  <div id=\"df-d69e8c01-4d6a-4d64-95d3-396bccc37691\" class=\"colab-df-container\">\n",
              "    <div>\n",
              "<style scoped>\n",
              "    .dataframe tbody tr th:only-of-type {\n",
              "        vertical-align: middle;\n",
              "    }\n",
              "\n",
              "    .dataframe tbody tr th {\n",
              "        vertical-align: top;\n",
              "    }\n",
              "\n",
              "    .dataframe thead th {\n",
              "        text-align: right;\n",
              "    }\n",
              "</style>\n",
              "<table border=\"1\" class=\"dataframe\">\n",
              "  <thead>\n",
              "    <tr style=\"text-align: right;\">\n",
              "      <th></th>\n",
              "      <th>order_purchase_timestamp</th>\n",
              "      <th>order_id</th>\n",
              "    </tr>\n",
              "  </thead>\n",
              "  <tbody>\n",
              "    <tr>\n",
              "      <th>0</th>\n",
              "      <td>2016-09</td>\n",
              "      <td>4</td>\n",
              "    </tr>\n",
              "    <tr>\n",
              "      <th>1</th>\n",
              "      <td>2016-10</td>\n",
              "      <td>324</td>\n",
              "    </tr>\n",
              "    <tr>\n",
              "      <th>2</th>\n",
              "      <td>2016-12</td>\n",
              "      <td>1</td>\n",
              "    </tr>\n",
              "    <tr>\n",
              "      <th>3</th>\n",
              "      <td>2017-01</td>\n",
              "      <td>800</td>\n",
              "    </tr>\n",
              "    <tr>\n",
              "      <th>4</th>\n",
              "      <td>2017-02</td>\n",
              "      <td>1780</td>\n",
              "    </tr>\n",
              "    <tr>\n",
              "      <th>5</th>\n",
              "      <td>2017-03</td>\n",
              "      <td>2682</td>\n",
              "    </tr>\n",
              "    <tr>\n",
              "      <th>6</th>\n",
              "      <td>2017-04</td>\n",
              "      <td>2404</td>\n",
              "    </tr>\n",
              "    <tr>\n",
              "      <th>7</th>\n",
              "      <td>2017-05</td>\n",
              "      <td>3700</td>\n",
              "    </tr>\n",
              "    <tr>\n",
              "      <th>8</th>\n",
              "      <td>2017-06</td>\n",
              "      <td>3245</td>\n",
              "    </tr>\n",
              "    <tr>\n",
              "      <th>9</th>\n",
              "      <td>2017-07</td>\n",
              "      <td>4026</td>\n",
              "    </tr>\n",
              "    <tr>\n",
              "      <th>10</th>\n",
              "      <td>2017-08</td>\n",
              "      <td>4331</td>\n",
              "    </tr>\n",
              "    <tr>\n",
              "      <th>11</th>\n",
              "      <td>2017-09</td>\n",
              "      <td>4285</td>\n",
              "    </tr>\n",
              "    <tr>\n",
              "      <th>12</th>\n",
              "      <td>2017-10</td>\n",
              "      <td>4631</td>\n",
              "    </tr>\n",
              "    <tr>\n",
              "      <th>13</th>\n",
              "      <td>2017-11</td>\n",
              "      <td>7544</td>\n",
              "    </tr>\n",
              "    <tr>\n",
              "      <th>14</th>\n",
              "      <td>2017-12</td>\n",
              "      <td>5673</td>\n",
              "    </tr>\n",
              "    <tr>\n",
              "      <th>15</th>\n",
              "      <td>2018-01</td>\n",
              "      <td>7269</td>\n",
              "    </tr>\n",
              "    <tr>\n",
              "      <th>16</th>\n",
              "      <td>2018-02</td>\n",
              "      <td>6728</td>\n",
              "    </tr>\n",
              "    <tr>\n",
              "      <th>17</th>\n",
              "      <td>2018-03</td>\n",
              "      <td>7211</td>\n",
              "    </tr>\n",
              "    <tr>\n",
              "      <th>18</th>\n",
              "      <td>2018-04</td>\n",
              "      <td>6939</td>\n",
              "    </tr>\n",
              "    <tr>\n",
              "      <th>19</th>\n",
              "      <td>2018-05</td>\n",
              "      <td>6873</td>\n",
              "    </tr>\n",
              "    <tr>\n",
              "      <th>20</th>\n",
              "      <td>2018-06</td>\n",
              "      <td>6167</td>\n",
              "    </tr>\n",
              "    <tr>\n",
              "      <th>21</th>\n",
              "      <td>2018-07</td>\n",
              "      <td>6292</td>\n",
              "    </tr>\n",
              "    <tr>\n",
              "      <th>22</th>\n",
              "      <td>2018-08</td>\n",
              "      <td>6512</td>\n",
              "    </tr>\n",
              "    <tr>\n",
              "      <th>23</th>\n",
              "      <td>2018-09</td>\n",
              "      <td>16</td>\n",
              "    </tr>\n",
              "    <tr>\n",
              "      <th>24</th>\n",
              "      <td>2018-10</td>\n",
              "      <td>4</td>\n",
              "    </tr>\n",
              "  </tbody>\n",
              "</table>\n",
              "</div>\n",
              "    <div class=\"colab-df-buttons\">\n",
              "\n",
              "  <div class=\"colab-df-container\">\n",
              "    <button class=\"colab-df-convert\" onclick=\"convertToInteractive('df-d69e8c01-4d6a-4d64-95d3-396bccc37691')\"\n",
              "            title=\"Convert this dataframe to an interactive table.\"\n",
              "            style=\"display:none;\">\n",
              "\n",
              "  <svg xmlns=\"http://www.w3.org/2000/svg\" height=\"24px\" viewBox=\"0 -960 960 960\">\n",
              "    <path d=\"M120-120v-720h720v720H120Zm60-500h600v-160H180v160Zm220 220h160v-160H400v160Zm0 220h160v-160H400v160ZM180-400h160v-160H180v160Zm440 0h160v-160H620v160ZM180-180h160v-160H180v160Zm440 0h160v-160H620v160Z\"/>\n",
              "  </svg>\n",
              "    </button>\n",
              "\n",
              "  <style>\n",
              "    .colab-df-container {\n",
              "      display:flex;\n",
              "      gap: 12px;\n",
              "    }\n",
              "\n",
              "    .colab-df-convert {\n",
              "      background-color: #E8F0FE;\n",
              "      border: none;\n",
              "      border-radius: 50%;\n",
              "      cursor: pointer;\n",
              "      display: none;\n",
              "      fill: #1967D2;\n",
              "      height: 32px;\n",
              "      padding: 0 0 0 0;\n",
              "      width: 32px;\n",
              "    }\n",
              "\n",
              "    .colab-df-convert:hover {\n",
              "      background-color: #E2EBFA;\n",
              "      box-shadow: 0px 1px 2px rgba(60, 64, 67, 0.3), 0px 1px 3px 1px rgba(60, 64, 67, 0.15);\n",
              "      fill: #174EA6;\n",
              "    }\n",
              "\n",
              "    .colab-df-buttons div {\n",
              "      margin-bottom: 4px;\n",
              "    }\n",
              "\n",
              "    [theme=dark] .colab-df-convert {\n",
              "      background-color: #3B4455;\n",
              "      fill: #D2E3FC;\n",
              "    }\n",
              "\n",
              "    [theme=dark] .colab-df-convert:hover {\n",
              "      background-color: #434B5C;\n",
              "      box-shadow: 0px 1px 3px 1px rgba(0, 0, 0, 0.15);\n",
              "      filter: drop-shadow(0px 1px 2px rgba(0, 0, 0, 0.3));\n",
              "      fill: #FFFFFF;\n",
              "    }\n",
              "  </style>\n",
              "\n",
              "    <script>\n",
              "      const buttonEl =\n",
              "        document.querySelector('#df-d69e8c01-4d6a-4d64-95d3-396bccc37691 button.colab-df-convert');\n",
              "      buttonEl.style.display =\n",
              "        google.colab.kernel.accessAllowed ? 'block' : 'none';\n",
              "\n",
              "      async function convertToInteractive(key) {\n",
              "        const element = document.querySelector('#df-d69e8c01-4d6a-4d64-95d3-396bccc37691');\n",
              "        const dataTable =\n",
              "          await google.colab.kernel.invokeFunction('convertToInteractive',\n",
              "                                                    [key], {});\n",
              "        if (!dataTable) return;\n",
              "\n",
              "        const docLinkHtml = 'Like what you see? Visit the ' +\n",
              "          '<a target=\"_blank\" href=https://colab.research.google.com/notebooks/data_table.ipynb>data table notebook</a>'\n",
              "          + ' to learn more about interactive tables.';\n",
              "        element.innerHTML = '';\n",
              "        dataTable['output_type'] = 'display_data';\n",
              "        await google.colab.output.renderOutput(dataTable, element);\n",
              "        const docLink = document.createElement('div');\n",
              "        docLink.innerHTML = docLinkHtml;\n",
              "        element.appendChild(docLink);\n",
              "      }\n",
              "    </script>\n",
              "  </div>\n",
              "\n",
              "\n",
              "<div id=\"df-f74334f1-f6f7-44da-a621-7d731b9f9e4f\">\n",
              "  <button class=\"colab-df-quickchart\" onclick=\"quickchart('df-f74334f1-f6f7-44da-a621-7d731b9f9e4f')\"\n",
              "            title=\"Suggest charts\"\n",
              "            style=\"display:none;\">\n",
              "\n",
              "<svg xmlns=\"http://www.w3.org/2000/svg\" height=\"24px\"viewBox=\"0 0 24 24\"\n",
              "     width=\"24px\">\n",
              "    <g>\n",
              "        <path d=\"M19 3H5c-1.1 0-2 .9-2 2v14c0 1.1.9 2 2 2h14c1.1 0 2-.9 2-2V5c0-1.1-.9-2-2-2zM9 17H7v-7h2v7zm4 0h-2V7h2v10zm4 0h-2v-4h2v4z\"/>\n",
              "    </g>\n",
              "</svg>\n",
              "  </button>\n",
              "\n",
              "<style>\n",
              "  .colab-df-quickchart {\n",
              "      --bg-color: #E8F0FE;\n",
              "      --fill-color: #1967D2;\n",
              "      --hover-bg-color: #E2EBFA;\n",
              "      --hover-fill-color: #174EA6;\n",
              "      --disabled-fill-color: #AAA;\n",
              "      --disabled-bg-color: #DDD;\n",
              "  }\n",
              "\n",
              "  [theme=dark] .colab-df-quickchart {\n",
              "      --bg-color: #3B4455;\n",
              "      --fill-color: #D2E3FC;\n",
              "      --hover-bg-color: #434B5C;\n",
              "      --hover-fill-color: #FFFFFF;\n",
              "      --disabled-bg-color: #3B4455;\n",
              "      --disabled-fill-color: #666;\n",
              "  }\n",
              "\n",
              "  .colab-df-quickchart {\n",
              "    background-color: var(--bg-color);\n",
              "    border: none;\n",
              "    border-radius: 50%;\n",
              "    cursor: pointer;\n",
              "    display: none;\n",
              "    fill: var(--fill-color);\n",
              "    height: 32px;\n",
              "    padding: 0;\n",
              "    width: 32px;\n",
              "  }\n",
              "\n",
              "  .colab-df-quickchart:hover {\n",
              "    background-color: var(--hover-bg-color);\n",
              "    box-shadow: 0 1px 2px rgba(60, 64, 67, 0.3), 0 1px 3px 1px rgba(60, 64, 67, 0.15);\n",
              "    fill: var(--button-hover-fill-color);\n",
              "  }\n",
              "\n",
              "  .colab-df-quickchart-complete:disabled,\n",
              "  .colab-df-quickchart-complete:disabled:hover {\n",
              "    background-color: var(--disabled-bg-color);\n",
              "    fill: var(--disabled-fill-color);\n",
              "    box-shadow: none;\n",
              "  }\n",
              "\n",
              "  .colab-df-spinner {\n",
              "    border: 2px solid var(--fill-color);\n",
              "    border-color: transparent;\n",
              "    border-bottom-color: var(--fill-color);\n",
              "    animation:\n",
              "      spin 1s steps(1) infinite;\n",
              "  }\n",
              "\n",
              "  @keyframes spin {\n",
              "    0% {\n",
              "      border-color: transparent;\n",
              "      border-bottom-color: var(--fill-color);\n",
              "      border-left-color: var(--fill-color);\n",
              "    }\n",
              "    20% {\n",
              "      border-color: transparent;\n",
              "      border-left-color: var(--fill-color);\n",
              "      border-top-color: var(--fill-color);\n",
              "    }\n",
              "    30% {\n",
              "      border-color: transparent;\n",
              "      border-left-color: var(--fill-color);\n",
              "      border-top-color: var(--fill-color);\n",
              "      border-right-color: var(--fill-color);\n",
              "    }\n",
              "    40% {\n",
              "      border-color: transparent;\n",
              "      border-right-color: var(--fill-color);\n",
              "      border-top-color: var(--fill-color);\n",
              "    }\n",
              "    60% {\n",
              "      border-color: transparent;\n",
              "      border-right-color: var(--fill-color);\n",
              "    }\n",
              "    80% {\n",
              "      border-color: transparent;\n",
              "      border-right-color: var(--fill-color);\n",
              "      border-bottom-color: var(--fill-color);\n",
              "    }\n",
              "    90% {\n",
              "      border-color: transparent;\n",
              "      border-bottom-color: var(--fill-color);\n",
              "    }\n",
              "  }\n",
              "</style>\n",
              "\n",
              "  <script>\n",
              "    async function quickchart(key) {\n",
              "      const quickchartButtonEl =\n",
              "        document.querySelector('#' + key + ' button');\n",
              "      quickchartButtonEl.disabled = true;  // To prevent multiple clicks.\n",
              "      quickchartButtonEl.classList.add('colab-df-spinner');\n",
              "      try {\n",
              "        const charts = await google.colab.kernel.invokeFunction(\n",
              "            'suggestCharts', [key], {});\n",
              "      } catch (error) {\n",
              "        console.error('Error during call to suggestCharts:', error);\n",
              "      }\n",
              "      quickchartButtonEl.classList.remove('colab-df-spinner');\n",
              "      quickchartButtonEl.classList.add('colab-df-quickchart-complete');\n",
              "    }\n",
              "    (() => {\n",
              "      let quickchartButtonEl =\n",
              "        document.querySelector('#df-f74334f1-f6f7-44da-a621-7d731b9f9e4f button');\n",
              "      quickchartButtonEl.style.display =\n",
              "        google.colab.kernel.accessAllowed ? 'block' : 'none';\n",
              "    })();\n",
              "  </script>\n",
              "</div>\n",
              "\n",
              "  <div id=\"id_4946c417-2e72-4d56-b0af-cc96b5019d1d\">\n",
              "    <style>\n",
              "      .colab-df-generate {\n",
              "        background-color: #E8F0FE;\n",
              "        border: none;\n",
              "        border-radius: 50%;\n",
              "        cursor: pointer;\n",
              "        display: none;\n",
              "        fill: #1967D2;\n",
              "        height: 32px;\n",
              "        padding: 0 0 0 0;\n",
              "        width: 32px;\n",
              "      }\n",
              "\n",
              "      .colab-df-generate:hover {\n",
              "        background-color: #E2EBFA;\n",
              "        box-shadow: 0px 1px 2px rgba(60, 64, 67, 0.3), 0px 1px 3px 1px rgba(60, 64, 67, 0.15);\n",
              "        fill: #174EA6;\n",
              "      }\n",
              "\n",
              "      [theme=dark] .colab-df-generate {\n",
              "        background-color: #3B4455;\n",
              "        fill: #D2E3FC;\n",
              "      }\n",
              "\n",
              "      [theme=dark] .colab-df-generate:hover {\n",
              "        background-color: #434B5C;\n",
              "        box-shadow: 0px 1px 3px 1px rgba(0, 0, 0, 0.15);\n",
              "        filter: drop-shadow(0px 1px 2px rgba(0, 0, 0, 0.3));\n",
              "        fill: #FFFFFF;\n",
              "      }\n",
              "    </style>\n",
              "    <button class=\"colab-df-generate\" onclick=\"generateWithVariable('orders_per_month')\"\n",
              "            title=\"Generate code using this dataframe.\"\n",
              "            style=\"display:none;\">\n",
              "\n",
              "  <svg xmlns=\"http://www.w3.org/2000/svg\" height=\"24px\"viewBox=\"0 0 24 24\"\n",
              "       width=\"24px\">\n",
              "    <path d=\"M7,19H8.4L18.45,9,17,7.55,7,17.6ZM5,21V16.75L18.45,3.32a2,2,0,0,1,2.83,0l1.4,1.43a1.91,1.91,0,0,1,.58,1.4,1.91,1.91,0,0,1-.58,1.4L9.25,21ZM18.45,9,17,7.55Zm-12,3A5.31,5.31,0,0,0,4.9,8.1,5.31,5.31,0,0,0,1,6.5,5.31,5.31,0,0,0,4.9,4.9,5.31,5.31,0,0,0,6.5,1,5.31,5.31,0,0,0,8.1,4.9,5.31,5.31,0,0,0,12,6.5,5.46,5.46,0,0,0,6.5,12Z\"/>\n",
              "  </svg>\n",
              "    </button>\n",
              "    <script>\n",
              "      (() => {\n",
              "      const buttonEl =\n",
              "        document.querySelector('#id_4946c417-2e72-4d56-b0af-cc96b5019d1d button.colab-df-generate');\n",
              "      buttonEl.style.display =\n",
              "        google.colab.kernel.accessAllowed ? 'block' : 'none';\n",
              "\n",
              "      buttonEl.onclick = () => {\n",
              "        google.colab.notebook.generateWithVariable('orders_per_month');\n",
              "      }\n",
              "      })();\n",
              "    </script>\n",
              "  </div>\n",
              "\n",
              "    </div>\n",
              "  </div>\n"
            ],
            "application/vnd.google.colaboratory.intrinsic+json": {
              "type": "dataframe",
              "variable_name": "orders_per_month",
              "summary": "{\n  \"name\": \"orders_per_month\",\n  \"rows\": 25,\n  \"fields\": [\n    {\n      \"column\": \"order_purchase_timestamp\",\n      \"properties\": {\n        \"dtype\": \"object\",\n        \"num_unique_values\": 25,\n        \"samples\": [\n          \"2017-06\",\n          \"2018-02\",\n          \"2016-09\"\n        ],\n        \"semantic_type\": \"\",\n        \"description\": \"\"\n      }\n    },\n    {\n      \"column\": \"order_id\",\n      \"properties\": {\n        \"dtype\": \"number\",\n        \"std\": 2699,\n        \"min\": 1,\n        \"max\": 7544,\n        \"num_unique_values\": 24,\n        \"samples\": [\n          3245,\n          6728,\n          4\n        ],\n        \"semantic_type\": \"\",\n        \"description\": \"\"\n      }\n    }\n  ]\n}"
            }
          },
          "metadata": {},
          "execution_count": 354
        }
      ]
    },
    {
      "cell_type": "code",
      "source": [
        "plt.figure(figsize=(12, 6))\n",
        "sns.lineplot(x=orders_per_month['order_purchase_timestamp'], y=orders_per_month['order_id'], marker=\"o\", color=\"b\")\n",
        "plt.title(\"Tren Pembelian Pelanggan Per Bulan\", fontsize=14)\n",
        "plt.xlabel(\"Bulan\", fontsize=12)\n",
        "plt.ylabel(\"Jumlah Pembelian\", fontsize=12)\n",
        "plt.xticks(rotation=45)\n",
        "plt.grid(True, linestyle=\"--\", alpha=0.6)\n",
        "plt.show()"
      ],
      "metadata": {
        "colab": {
          "base_uri": "https://localhost:8080/",
          "height": 606
        },
        "id": "1f_mW83tkEoM",
        "outputId": "e0d22e4e-f3e2-4287-bd47-ca7df9a161ae"
      },
      "execution_count": null,
      "outputs": [
        {
          "output_type": "display_data",
          "data": {
            "text/plain": [
              "<Figure size 1200x600 with 1 Axes>"
            ],
            "image/png": "[encoded data removed]"
          },
          "metadata": {}
        }
      ]
    },
    {
      "cell_type": "markdown",
      "metadata": {
        "id": "HVKEBvauio-0"
      },
      "source": [
        "### Pertanyaan 3: Berapa banyak uang yang dihabiskan pelanggan di tiap bulan?"
      ]
    },
    {
      "cell_type": "code",
      "source": [
        "payments_orders = payments_df.merge(orders_df[['order_id', 'order_purchase_timestamp']], on='order_id', how='inner')\n",
        "payments_orders['order_purchase_timestamp'] = pd.to_datetime(payments_orders['order_purchase_timestamp'])\n",
        "monthly_spending = payments_orders.groupby(payments_orders['order_purchase_timestamp'].dt.to_period('M'))['payment_value'].sum().reset_index()\n",
        "monthly_spending['order_purchase_timestamp'] = monthly_spending['order_purchase_timestamp'].astype(str)\n",
        "monthly_spending"
      ],
      "metadata": {
        "colab": {
          "base_uri": "https://localhost:8080/",
          "height": 833
        },
        "collapsed": true,
        "id": "LCq5uNcEqPdP",
        "outputId": "1f25f0c9-e87a-4ba8-d5a2-f0c7920f9ec5"
      },
      "execution_count": null,
      "outputs": [
        {
          "output_type": "execute_result",
          "data": {
            "text/plain": [
              "   order_purchase_timestamp  payment_value\n",
              "0                   2016-09         252.24\n",
              "1                   2016-10       59090.48\n",
              "2                   2016-12          19.62\n",
              "3                   2017-01      138488.04\n",
              "4                   2017-02      291908.01\n",
              "5                   2017-03      449863.60\n",
              "6                   2017-04      417788.03\n",
              "7                   2017-05      592918.82\n",
              "8                   2017-06      511276.38\n",
              "9                   2017-07      592382.92\n",
              "10                  2017-08      674396.32\n",
              "11                  2017-09      727762.45\n",
              "12                  2017-10      779677.88\n",
              "13                  2017-11     1194882.80\n",
              "14                  2017-12      878401.48\n",
              "15                  2018-01     1115004.18\n",
              "16                  2018-02      992463.34\n",
              "17                  2018-03     1159652.12\n",
              "18                  2018-04     1160785.48\n",
              "19                  2018-05     1153982.15\n",
              "20                  2018-06     1023880.50\n",
              "21                  2018-07     1066540.75\n",
              "22                  2018-08     1022425.32\n",
              "23                  2018-09        4439.54\n",
              "24                  2018-10         589.67"
            ],
            "text/html": [
              "\n",
              "  <div id=\"df-b8970b33-043f-4121-a911-d087264059c4\" class=\"colab-df-container\">\n",
              "    <div>\n",
              "<style scoped>\n",
              "    .dataframe tbody tr th:only-of-type {\n",
              "        vertical-align: middle;\n",
              "    }\n",
              "\n",
              "    .dataframe tbody tr th {\n",
              "        vertical-align: top;\n",
              "    }\n",
              "\n",
              "    .dataframe thead th {\n",
              "        text-align: right;\n",
              "    }\n",
              "</style>\n",
              "<table border=\"1\" class=\"dataframe\">\n",
              "  <thead>\n",
              "    <tr style=\"text-align: right;\">\n",
              "      <th></th>\n",
              "      <th>order_purchase_timestamp</th>\n",
              "      <th>payment_value</th>\n",
              "    </tr>\n",
              "  </thead>\n",
              "  <tbody>\n",
              "    <tr>\n",
              "      <th>0</th>\n",
              "      <td>2016-09</td>\n",
              "      <td>252.24</td>\n",
              "    </tr>\n",
              "    <tr>\n",
              "      <th>1</th>\n",
              "      <td>2016-10</td>\n",
              "      <td>59090.48</td>\n",
              "    </tr>\n",
              "    <tr>\n",
              "      <th>2</th>\n",
              "      <td>2016-12</td>\n",
              "      <td>19.62</td>\n",
              "    </tr>\n",
              "    <tr>\n",
              "      <th>3</th>\n",
              "      <td>2017-01</td>\n",
              "      <td>138488.04</td>\n",
              "    </tr>\n",
              "    <tr>\n",
              "      <th>4</th>\n",
              "      <td>2017-02</td>\n",
              "      <td>291908.01</td>\n",
              "    </tr>\n",
              "    <tr>\n",
              "      <th>5</th>\n",
              "      <td>2017-03</td>\n",
              "      <td>449863.60</td>\n",
              "    </tr>\n",
              "    <tr>\n",
              "      <th>6</th>\n",
              "      <td>2017-04</td>\n",
              "      <td>417788.03</td>\n",
              "    </tr>\n",
              "    <tr>\n",
              "      <th>7</th>\n",
              "      <td>2017-05</td>\n",
              "      <td>592918.82</td>\n",
              "    </tr>\n",
              "    <tr>\n",
              "      <th>8</th>\n",
              "      <td>2017-06</td>\n",
              "      <td>511276.38</td>\n",
              "    </tr>\n",
              "    <tr>\n",
              "      <th>9</th>\n",
              "      <td>2017-07</td>\n",
              "      <td>592382.92</td>\n",
              "    </tr>\n",
              "    <tr>\n",
              "      <th>10</th>\n",
              "      <td>2017-08</td>\n",
              "      <td>674396.32</td>\n",
              "    </tr>\n",
              "    <tr>\n",
              "      <th>11</th>\n",
              "      <td>2017-09</td>\n",
              "      <td>727762.45</td>\n",
              "    </tr>\n",
              "    <tr>\n",
              "      <th>12</th>\n",
              "      <td>2017-10</td>\n",
              "      <td>779677.88</td>\n",
              "    </tr>\n",
              "    <tr>\n",
              "      <th>13</th>\n",
              "      <td>2017-11</td>\n",
              "      <td>1194882.80</td>\n",
              "    </tr>\n",
              "    <tr>\n",
              "      <th>14</th>\n",
              "      <td>2017-12</td>\n",
              "      <td>878401.48</td>\n",
              "    </tr>\n",
              "    <tr>\n",
              "      <th>15</th>\n",
              "      <td>2018-01</td>\n",
              "      <td>1115004.18</td>\n",
              "    </tr>\n",
              "    <tr>\n",
              "      <th>16</th>\n",
              "      <td>2018-02</td>\n",
              "      <td>992463.34</td>\n",
              "    </tr>\n",
              "    <tr>\n",
              "      <th>17</th>\n",
              "      <td>2018-03</td>\n",
              "      <td>1159652.12</td>\n",
              "    </tr>\n",
              "    <tr>\n",
              "      <th>18</th>\n",
              "      <td>2018-04</td>\n",
              "      <td>1160785.48</td>\n",
              "    </tr>\n",
              "    <tr>\n",
              "      <th>19</th>\n",
              "      <td>2018-05</td>\n",
              "      <td>1153982.15</td>\n",
              "    </tr>\n",
              "    <tr>\n",
              "      <th>20</th>\n",
              "      <td>2018-06</td>\n",
              "      <td>1023880.50</td>\n",
              "    </tr>\n",
              "    <tr>\n",
              "      <th>21</th>\n",
              "      <td>2018-07</td>\n",
              "      <td>1066540.75</td>\n",
              "    </tr>\n",
              "    <tr>\n",
              "      <th>22</th>\n",
              "      <td>2018-08</td>\n",
              "      <td>1022425.32</td>\n",
              "    </tr>\n",
              "    <tr>\n",
              "      <th>23</th>\n",
              "      <td>2018-09</td>\n",
              "      <td>4439.54</td>\n",
              "    </tr>\n",
              "    <tr>\n",
              "      <th>24</th>\n",
              "      <td>2018-10</td>\n",
              "      <td>589.67</td>\n",
              "    </tr>\n",
              "  </tbody>\n",
              "</table>\n",
              "</div>\n",
              "    <div class=\"colab-df-buttons\">\n",
              "\n",
              "  <div class=\"colab-df-container\">\n",
              "    <button class=\"colab-df-convert\" onclick=\"convertToInteractive('df-b8970b33-043f-4121-a911-d087264059c4')\"\n",
              "            title=\"Convert this dataframe to an interactive table.\"\n",
              "            style=\"display:none;\">\n",
              "\n",
              "  <svg xmlns=\"http://www.w3.org/2000/svg\" height=\"24px\" viewBox=\"0 -960 960 960\">\n",
              "    <path d=\"M120-120v-720h720v720H120Zm60-500h600v-160H180v160Zm220 220h160v-160H400v160Zm0 220h160v-160H400v160ZM180-400h160v-160H180v160Zm440 0h160v-160H620v160ZM180-180h160v-160H180v160Zm440 0h160v-160H620v160Z\"/>\n",
              "  </svg>\n",
              "    </button>\n",
              "\n",
              "  <style>\n",
              "    .colab-df-container {\n",
              "      display:flex;\n",
              "      gap: 12px;\n",
              "    }\n",
              "\n",
              "    .colab-df-convert {\n",
              "      background-color: #E8F0FE;\n",
              "      border: none;\n",
              "      border-radius: 50%;\n",
              "      cursor: pointer;\n",
              "      display: none;\n",
              "      fill: #1967D2;\n",
              "      height: 32px;\n",
              "      padding: 0 0 0 0;\n",
              "      width: 32px;\n",
              "    }\n",
              "\n",
              "    .colab-df-convert:hover {\n",
              "      background-color: #E2EBFA;\n",
              "      box-shadow: 0px 1px 2px rgba(60, 64, 67, 0.3), 0px 1px 3px 1px rgba(60, 64, 67, 0.15);\n",
              "      fill: #174EA6;\n",
              "    }\n",
              "\n",
              "    .colab-df-buttons div {\n",
              "      margin-bottom: 4px;\n",
              "    }\n",
              "\n",
              "    [theme=dark] .colab-df-convert {\n",
              "      background-color: #3B4455;\n",
              "      fill: #D2E3FC;\n",
              "    }\n",
              "\n",
              "    [theme=dark] .colab-df-convert:hover {\n",
              "      background-color: #434B5C;\n",
              "      box-shadow: 0px 1px 3px 1px rgba(0, 0, 0, 0.15);\n",
              "      filter: drop-shadow(0px 1px 2px rgba(0, 0, 0, 0.3));\n",
              "      fill: #FFFFFF;\n",
              "    }\n",
              "  </style>\n",
              "\n",
              "    <script>\n",
              "      const buttonEl =\n",
              "        document.querySelector('#df-b8970b33-043f-4121-a911-d087264059c4 button.colab-df-convert');\n",
              "      buttonEl.style.display =\n",
              "        google.colab.kernel.accessAllowed ? 'block' : 'none';\n",
              "\n",
              "      async function convertToInteractive(key) {\n",
              "        const element = document.querySelector('#df-b8970b33-043f-4121-a911-d087264059c4');\n",
              "        const dataTable =\n",
              "          await google.colab.kernel.invokeFunction('convertToInteractive',\n",
              "                                                    [key], {});\n",
              "        if (!dataTable) return;\n",
              "\n",
              "        const docLinkHtml = 'Like what you see? Visit the ' +\n",
              "          '<a target=\"_blank\" href=https://colab.research.google.com/notebooks/data_table.ipynb>data table notebook</a>'\n",
              "          + ' to learn more about interactive tables.';\n",
              "        element.innerHTML = '';\n",
              "        dataTable['output_type'] = 'display_data';\n",
              "        await google.colab.output.renderOutput(dataTable, element);\n",
              "        const docLink = document.createElement('div');\n",
              "        docLink.innerHTML = docLinkHtml;\n",
              "        element.appendChild(docLink);\n",
              "      }\n",
              "    </script>\n",
              "  </div>\n",
              "\n",
              "\n",
              "<div id=\"df-929361b2-8a31-4466-a522-f5f45e52c774\">\n",
              "  <button class=\"colab-df-quickchart\" onclick=\"quickchart('df-929361b2-8a31-4466-a522-f5f45e52c774')\"\n",
              "            title=\"Suggest charts\"\n",
              "            style=\"display:none;\">\n",
              "\n",
              "<svg xmlns=\"http://www.w3.org/2000/svg\" height=\"24px\"viewBox=\"0 0 24 24\"\n",
              "     width=\"24px\">\n",
              "    <g>\n",
              "        <path d=\"M19 3H5c-1.1 0-2 .9-2 2v14c0 1.1.9 2 2 2h14c1.1 0 2-.9 2-2V5c0-1.1-.9-2-2-2zM9 17H7v-7h2v7zm4 0h-2V7h2v10zm4 0h-2v-4h2v4z\"/>\n",
              "    </g>\n",
              "</svg>\n",
              "  </button>\n",
              "\n",
              "<style>\n",
              "  .colab-df-quickchart {\n",
              "      --bg-color: #E8F0FE;\n",
              "      --fill-color: #1967D2;\n",
              "      --hover-bg-color: #E2EBFA;\n",
              "      --hover-fill-color: #174EA6;\n",
              "      --disabled-fill-color: #AAA;\n",
              "      --disabled-bg-color: #DDD;\n",
              "  }\n",
              "\n",
              "  [theme=dark] .colab-df-quickchart {\n",
              "      --bg-color: #3B4455;\n",
              "      --fill-color: #D2E3FC;\n",
              "      --hover-bg-color: #434B5C;\n",
              "      --hover-fill-color: #FFFFFF;\n",
              "      --disabled-bg-color: #3B4455;\n",
              "      --disabled-fill-color: #666;\n",
              "  }\n",
              "\n",
              "  .colab-df-quickchart {\n",
              "    background-color: var(--bg-color);\n",
              "    border: none;\n",
              "    border-radius: 50%;\n",
              "    cursor: pointer;\n",
              "    display: none;\n",
              "    fill: var(--fill-color);\n",
              "    height: 32px;\n",
              "    padding: 0;\n",
              "    width: 32px;\n",
              "  }\n",
              "\n",
              "  .colab-df-quickchart:hover {\n",
              "    background-color: var(--hover-bg-color);\n",
              "    box-shadow: 0 1px 2px rgba(60, 64, 67, 0.3), 0 1px 3px 1px rgba(60, 64, 67, 0.15);\n",
              "    fill: var(--button-hover-fill-color);\n",
              "  }\n",
              "\n",
              "  .colab-df-quickchart-complete:disabled,\n",
              "  .colab-df-quickchart-complete:disabled:hover {\n",
              "    background-color: var(--disabled-bg-color);\n",
              "    fill: var(--disabled-fill-color);\n",
              "    box-shadow: none;\n",
              "  }\n",
              "\n",
              "  .colab-df-spinner {\n",
              "    border: 2px solid var(--fill-color);\n",
              "    border-color: transparent;\n",
              "    border-bottom-color: var(--fill-color);\n",
              "    animation:\n",
              "      spin 1s steps(1) infinite;\n",
              "  }\n",
              "\n",
              "  @keyframes spin {\n",
              "    0% {\n",
              "      border-color: transparent;\n",
              "      border-bottom-color: var(--fill-color);\n",
              "      border-left-color: var(--fill-color);\n",
              "    }\n",
              "    20% {\n",
              "      border-color: transparent;\n",
              "      border-left-color: var(--fill-color);\n",
              "      border-top-color: var(--fill-color);\n",
              "    }\n",
              "    30% {\n",
              "      border-color: transparent;\n",
              "      border-left-color: var(--fill-color);\n",
              "      border-top-color: var(--fill-color);\n",
              "      border-right-color: var(--fill-color);\n",
              "    }\n",
              "    40% {\n",
              "      border-color: transparent;\n",
              "      border-right-color: var(--fill-color);\n",
              "      border-top-color: var(--fill-color);\n",
              "    }\n",
              "    60% {\n",
              "      border-color: transparent;\n",
              "      border-right-color: var(--fill-color);\n",
              "    }\n",
              "    80% {\n",
              "      border-color: transparent;\n",
              "      border-right-color: var(--fill-color);\n",
              "      border-bottom-color: var(--fill-color);\n",
              "    }\n",
              "    90% {\n",
              "      border-color: transparent;\n",
              "      border-bottom-color: var(--fill-color);\n",
              "    }\n",
              "  }\n",
              "</style>\n",
              "\n",
              "  <script>\n",
              "    async function quickchart(key) {\n",
              "      const quickchartButtonEl =\n",
              "        document.querySelector('#' + key + ' button');\n",
              "      quickchartButtonEl.disabled = true;  // To prevent multiple clicks.\n",
              "      quickchartButtonEl.classList.add('colab-df-spinner');\n",
              "      try {\n",
              "        const charts = await google.colab.kernel.invokeFunction(\n",
              "            'suggestCharts', [key], {});\n",
              "      } catch (error) {\n",
              "        console.error('Error during call to suggestCharts:', error);\n",
              "      }\n",
              "      quickchartButtonEl.classList.remove('colab-df-spinner');\n",
              "      quickchartButtonEl.classList.add('colab-df-quickchart-complete');\n",
              "    }\n",
              "    (() => {\n",
              "      let quickchartButtonEl =\n",
              "        document.querySelector('#df-929361b2-8a31-4466-a522-f5f45e52c774 button');\n",
              "      quickchartButtonEl.style.display =\n",
              "        google.colab.kernel.accessAllowed ? 'block' : 'none';\n",
              "    })();\n",
              "  </script>\n",
              "</div>\n",
              "\n",
              "  <div id=\"id_59e7be26-a90c-4b27-9dd2-551a4b26d012\">\n",
              "    <style>\n",
              "      .colab-df-generate {\n",
              "        background-color: #E8F0FE;\n",
              "        border: none;\n",
              "        border-radius: 50%;\n",
              "        cursor: pointer;\n",
              "        display: none;\n",
              "        fill: #1967D2;\n",
              "        height: 32px;\n",
              "        padding: 0 0 0 0;\n",
              "        width: 32px;\n",
              "      }\n",
              "\n",
              "      .colab-df-generate:hover {\n",
              "        background-color: #E2EBFA;\n",
              "        box-shadow: 0px 1px 2px rgba(60, 64, 67, 0.3), 0px 1px 3px 1px rgba(60, 64, 67, 0.15);\n",
              "        fill: #174EA6;\n",
              "      }\n",
              "\n",
              "      [theme=dark] .colab-df-generate {\n",
              "        background-color: #3B4455;\n",
              "        fill: #D2E3FC;\n",
              "      }\n",
              "\n",
              "      [theme=dark] .colab-df-generate:hover {\n",
              "        background-color: #434B5C;\n",
              "        box-shadow: 0px 1px 3px 1px rgba(0, 0, 0, 0.15);\n",
              "        filter: drop-shadow(0px 1px 2px rgba(0, 0, 0, 0.3));\n",
              "        fill: #FFFFFF;\n",
              "      }\n",
              "    </style>\n",
              "    <button class=\"colab-df-generate\" onclick=\"generateWithVariable('monthly_spending')\"\n",
              "            title=\"Generate code using this dataframe.\"\n",
              "            style=\"display:none;\">\n",
              "\n",
              "  <svg xmlns=\"http://www.w3.org/2000/svg\" height=\"24px\"viewBox=\"0 0 24 24\"\n",
              "       width=\"24px\">\n",
              "    <path d=\"M7,19H8.4L18.45,9,17,7.55,7,17.6ZM5,21V16.75L18.45,3.32a2,2,0,0,1,2.83,0l1.4,1.43a1.91,1.91,0,0,1,.58,1.4,1.91,1.91,0,0,1-.58,1.4L9.25,21ZM18.45,9,17,7.55Zm-12,3A5.31,5.31,0,0,0,4.9,8.1,5.31,5.31,0,0,0,1,6.5,5.31,5.31,0,0,0,4.9,4.9,5.31,5.31,0,0,0,6.5,1,5.31,5.31,0,0,0,8.1,4.9,5.31,5.31,0,0,0,12,6.5,5.46,5.46,0,0,0,6.5,12Z\"/>\n",
              "  </svg>\n",
              "    </button>\n",
              "    <script>\n",
              "      (() => {\n",
              "      const buttonEl =\n",
              "        document.querySelector('#id_59e7be26-a90c-4b27-9dd2-551a4b26d012 button.colab-df-generate');\n",
              "      buttonEl.style.display =\n",
              "        google.colab.kernel.accessAllowed ? 'block' : 'none';\n",
              "\n",
              "      buttonEl.onclick = () => {\n",
              "        google.colab.notebook.generateWithVariable('monthly_spending');\n",
              "      }\n",
              "      })();\n",
              "    </script>\n",
              "  </div>\n",
              "\n",
              "    </div>\n",
              "  </div>\n"
            ],
            "application/vnd.google.colaboratory.intrinsic+json": {
              "type": "dataframe",
              "variable_name": "monthly_spending",
              "summary": "{\n  \"name\": \"monthly_spending\",\n  \"rows\": 25,\n  \"fields\": [\n    {\n      \"column\": \"order_purchase_timestamp\",\n      \"properties\": {\n        \"dtype\": \"object\",\n        \"num_unique_values\": 25,\n        \"samples\": [\n          \"2017-06\",\n          \"2018-02\",\n          \"2016-09\"\n        ],\n        \"semantic_type\": \"\",\n        \"description\": \"\"\n      }\n    },\n    {\n      \"column\": \"payment_value\",\n      \"properties\": {\n        \"dtype\": \"number\",\n        \"std\": 431679.0017892156,\n        \"min\": 19.62,\n        \"max\": 1194882.8,\n        \"num_unique_values\": 25,\n        \"samples\": [\n          511276.38,\n          992463.34,\n          252.24\n        ],\n        \"semantic_type\": \"\",\n        \"description\": \"\"\n      }\n    }\n  ]\n}"
            }
          },
          "metadata": {},
          "execution_count": 352
        }
      ]
    },
    {
      "cell_type": "code",
      "source": [
        "plt.figure(figsize=(12, 6))\n",
        "sns.lineplot(x=monthly_spending['order_purchase_timestamp'], y=monthly_spending['payment_value'], marker=\"o\", color=\"green\")\n",
        "plt.title(\"Total Pengeluaran Pelanggan Tiap Bulan\", fontsize=14)\n",
        "plt.xlabel(\"Bulan\", fontsize=12)\n",
        "plt.ylabel(\"Total Pengeluaran\", fontsize=12)\n",
        "plt.xticks(rotation=45)\n",
        "#plt.ticklabel_format(style='plain', axis='y')\n",
        "#plt.gca().set_yticklabels([f'{int(y/1e6)}M' for y in plt.gca().get_yticks()])\n",
        "plt.grid(True, linestyle=\"--\", alpha=0.6)\n",
        "plt.show()\n"
      ],
      "metadata": {
        "colab": {
          "base_uri": "https://localhost:8080/",
          "height": 606
        },
        "id": "EhEhzmDkiqkO",
        "outputId": "82b19826-d4ea-400c-90f3-6a1da1b5711b"
      },
      "execution_count": null,
      "outputs": [
        {
          "output_type": "display_data",
          "data": {
            "text/plain": [
              "<Figure size 1200x600 with 1 Axes>"
            ],
            "image/png": "[encoded data removed]"
          },
          "metadata": {}
        }
      ]
    },
    {
      "cell_type": "markdown",
      "metadata": {
        "id": "d8sVPRqGirTo"
      },
      "source": [
        "### Pertanyaan 4: State dan Kota mana yang memiliki pesanan yang paling banyak?"
      ]
    },
    {
      "cell_type": "code",
      "source": [
        "top_cities = customers_df['customer_city'].value_counts().head(10).reset_index()\n",
        "top_cities.columns = ['customer_city', 'order_count']"
      ],
      "metadata": {
        "id": "2XHjFtC0rZSl"
      },
      "execution_count": null,
      "outputs": []
    },
    {
      "cell_type": "code",
      "source": [
        "plt.figure(figsize=(12, 6))\n",
        "sns.barplot(y='customer_city', x='order_count', data=top_cities, hue='customer_city',\n",
        "            dodge=False, palette='Purples_r', legend=False)\n",
        "plt.title(\"Top 10 Kota dengan Pesanan Terbanyak\", fontsize=14)\n",
        "plt.xlabel(\"Jumlah Pesanan\", fontsize=12)\n",
        "plt.ylabel(\"Kota\", fontsize=12)\n",
        "plt.show()"
      ],
      "metadata": {
        "colab": {
          "base_uri": "https://localhost:8080/",
          "height": 569
        },
        "id": "iB74xwSurXns",
        "outputId": "0bce6242-6f9a-4720-cc65-99af0203afa6"
      },
      "execution_count": null,
      "outputs": [
        {
          "output_type": "display_data",
          "data": {
            "text/plain": [
              "<Figure size 1200x600 with 1 Axes>"
            ],
            "image/png": "[encoded data removed]"
          },
          "metadata": {}
        }
      ]
    },
    {
      "cell_type": "code",
      "source": [
        "top_states = customers_df['customer_state'].value_counts().head(10).reset_index()\n",
        "top_states.columns = ['customer_state', 'order_count']"
      ],
      "metadata": {
        "id": "9aA8bLHEvGs4"
      },
      "execution_count": null,
      "outputs": []
    },
    {
      "cell_type": "code",
      "source": [
        "plt.figure(figsize=(12, 6))\n",
        "sns.barplot(y='customer_state', x='order_count', data=top_states, hue='customer_state',\n",
        "            dodge=False, palette='Reds_r', legend=False)\n",
        "plt.title(\"Top 10 State dengan Pesanan Terbanyak\", fontsize=14)\n",
        "plt.xlabel(\"Jumlah Pesanan\", fontsize=12)\n",
        "plt.ylabel(\"State\", fontsize=12)\n",
        "plt.show()"
      ],
      "metadata": {
        "colab": {
          "base_uri": "https://localhost:8080/",
          "height": 569
        },
        "id": "0wZl24AorosN",
        "outputId": "1a360377-7387-435b-a2ce-bcc90665df1b"
      },
      "execution_count": null,
      "outputs": [
        {
          "output_type": "display_data",
          "data": {
            "text/plain": [
              "<Figure size 1200x600 with 1 Axes>"
            ],
            "image/png": "[encoded data removed]"
          },
          "metadata": {}
        }
      ]
    },
    {
      "cell_type": "markdown",
      "metadata": {
        "id": "_WeHlCeX8DC2"
      },
      "source": [
        "## Conclusion"
      ]
    },
    {
      "cell_type": "markdown",
      "metadata": {
        "id": "ZTcyR48Y8DC2"
      },
      "source": [
        "- 5 Kategori Produk terlaris terjual di e-commerce adalah kategori Bed/Bath/Table, Health & Beauty, Sports/Leisure, Furniture Decoration, dan Computers Accessoris\n",
        "- Tren pembelian mengalami penurunan drastis dari bulan Agustus 2018 ke September 2018 yang dari awal nya mengalami kenaikan cukup drastis dari tahun 2016 bulan september\n",
        "- Tren Pengeluaran pelanggan pun mengikuti tren dari frekuensi belanja, yang dimana pelanggan secara drastis tidak melakukan atau mengeluarkan pengeluaran di bulan Agustus 2018 ke September 2019\n",
        "- Fokus penjualan bisa di fokuskan pada kota Sao Paulo, Rio De Janiero, Belo , PRHorizonte dan Brasilia. Dan untuk State berfokus pada SP, RJ, MG, RS dan PR"
      ]
    }
  ],
  "metadata": {
    "kernelspec": {
      "display_name": "Python 3",
      "language": "python",
      "name": "python3"
    },
    "language_info": {
      "name": "python",
      "version": "3.8.0 (tags/v3.8.0:fa919fd, Oct 14 2019, 19:21:23) [MSC v.1916 32 bit (Intel)]"
    },
    "orig_nbformat": 4,
    "vscode": {
      "interpreter": {
        "hash": "972b3bf27e332e87b5379f2791f6ef9dfc79c71018c370b0d7423235e20fe4d7"
      }
    },
    "colab": {
      "provenance": [],
      "collapsed_sections": [
        "H-z4QGlO8DC1",
        "eE0raob58DC0",
        "h_Sh51Xy8DC1",
        "sXU2GBYu8DC1",
        "CI5cUKgqNTWZ",
        "wyH0xTapRB25",
        "NSyXiP1IRJJh",
        "dUbN8C_eRP86",
        "A6mw7rj8RUy7",
        "QyH75iziRX7w",
        "Idz8q8r3RbDD",
        "W1bx2G2JRn8d",
        "r8pBo2ZQRrNI",
        "deRD9UZhSwDP",
        "srNx9iXZv3Xi",
        "PPT05PDHwGLz",
        "8NKf_IwdwNlO",
        "CTp7s7cav-zp",
        "MW7WF2kr8DC1",
        "NAyq_STqhuOa",
        "Kfrrlrg2R-KH",
        "KHMEypwkSk4j",
        "Ub-_jS0ZUzro",
        "kN0goMc7XsDf",
        "ITFnXiA-X_fs",
        "DgHI7CiU8DC2",
        "HZxOiQ6n8DC2",
        "HVKEBvauio-0",
        "9y4VUsmcYNZ5",
        "_WeHlCeX8DC2"
      ]
    }
  },
  "nbformat": 4,
  "nbformat_minor": 0
}